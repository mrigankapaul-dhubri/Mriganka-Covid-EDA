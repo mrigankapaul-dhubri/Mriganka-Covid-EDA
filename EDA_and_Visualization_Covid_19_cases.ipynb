{
  "nbformat": 4,
  "nbformat_minor": 0,
  "metadata": {
    "colab": {
      "name": "EDA_and_Visualization_Covid_19_cases.ipynb",
      "provenance": [],
      "collapsed_sections": [],
      "include_colab_link": true
    },
    "kernelspec": {
      "name": "python3",
      "display_name": "Python 3"
    },
    "language_info": {
      "name": "python"
    }
  },
  "cells": [
    {
      "cell_type": "markdown",
      "metadata": {
        "id": "view-in-github",
        "colab_type": "text"
      },
      "source": [
        "<a href=\"https://colab.research.google.com/github/mrigankapaul-dhubri/Mriganka-Covid-EDA/blob/main/EDA_and_Visualization_Covid_19_cases.ipynb\" target=\"_parent\"><img src=\"https://colab.research.google.com/assets/colab-badge.svg\" alt=\"Open In Colab\"/></a>"
      ]
    },
    {
      "cell_type": "markdown",
      "metadata": {
        "id": "GcqZFxAde1Ob"
      },
      "source": [
        "**Exploratory Data Analysis and Visualization on the Covid 19 cases in the period of Januay 2020 and Aug 2021 for all the countries that comes under WHO Regions**\n",
        "\n"
      ]
    },
    {
      "cell_type": "markdown",
      "metadata": {
        "id": "2QIQIWY5cy3G"
      },
      "source": [
        "We got the dataset from the link given below-\n",
        "url- https://data.humdata.org/dataset/coronavirus-covid-19-cases-and-deaths\n",
        "\n",
        "Initially we imported the dataset in MS SQL Server to group the data on monthly basis for all the countries and the region. Also we didnot select a few columns which will not be required for us. Below is the sql query for extracting the data-\n",
        "\n",
        "\n",
        "*SELECT DATEPART(YYYY, Date_reported) YEAR_OF_CASES, MONTH(Date_reported) MONTH_OF_CASES, country_code COUNTRY_CODE, country COUNTRY,\n",
        "WHO_region WHO_REGION, SUM(New_cases) NEW_CASES, SUM(New_deaths) NEW_DEATHS\n",
        "FROM who_covid\n",
        "group by DATEPART(YYYY, Date_reported), MONTH(Date_reported), WHO_region, Country_code, Country\n",
        "ORDER BY WHO_REGION, Country_code, DATEPART(YYYY, Date_reported), MONTH(Date_reported)*"
      ]
    },
    {
      "cell_type": "code",
      "metadata": {
        "colab": {
          "resources": {
            "http://localhost:8080/nbextensions/google.colab/files.js": {
              "data": "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",
              "ok": true,
              "headers": [
                [
                  "content-type",
                  "application/javascript"
                ]
              ],
              "status": 200,
              "status_text": ""
            }
          },
          "base_uri": "https://localhost:8080/",
          "height": 56
        },
        "id": "C3M_l_Qbv5ya",
        "outputId": "f3aab428-1c3a-4c76-b9be-1840a6505b30"
      },
      "source": [
        "from google.colab import files\n",
        "uploaded = files.upload()"
      ],
      "execution_count": null,
      "outputs": [
        {
          "output_type": "display_data",
          "data": {
            "text/html": [
              "\n",
              "     <input type=\"file\" id=\"files-4295d3fc-4f2d-4979-9acf-94e07ad40c15\" name=\"files[]\" multiple disabled\n",
              "        style=\"border:none\" />\n",
              "     <output id=\"result-4295d3fc-4f2d-4979-9acf-94e07ad40c15\">\n",
              "      Upload widget is only available when the cell has been executed in the\n",
              "      current browser session. Please rerun this cell to enable.\n",
              "      </output>\n",
              "      <script src=\"/nbextensions/google.colab/files.js\"></script> "
            ],
            "text/plain": [
              "<IPython.core.display.HTML object>"
            ]
          },
          "metadata": {}
        },
        {
          "output_type": "stream",
          "name": "stdout",
          "text": [
            "Saving covid-19_sts_project.csv to covid-19_sts_project.csv\n"
          ]
        }
      ]
    },
    {
      "cell_type": "code",
      "metadata": {
        "id": "iPic3SwMwD5z"
      },
      "source": [
        "import pandas as pd\n",
        "import matplotlib.pyplot as plt\n",
        "import seaborn as sns\n",
        "%matplotlib inline"
      ],
      "execution_count": null,
      "outputs": []
    },
    {
      "cell_type": "code",
      "metadata": {
        "colab": {
          "base_uri": "https://localhost:8080/",
          "height": 203
        },
        "id": "apB5imm_wSYC",
        "outputId": "73823828-0aa2-4041-e52f-5ca22a1ee24c"
      },
      "source": [
        "df = pd.read_csv(\"covid-19_sts_project.csv\")\n",
        "df.head()"
      ],
      "execution_count": null,
      "outputs": [
        {
          "output_type": "execute_result",
          "data": {
            "text/html": [
              "<div>\n",
              "<style scoped>\n",
              "    .dataframe tbody tr th:only-of-type {\n",
              "        vertical-align: middle;\n",
              "    }\n",
              "\n",
              "    .dataframe tbody tr th {\n",
              "        vertical-align: top;\n",
              "    }\n",
              "\n",
              "    .dataframe thead th {\n",
              "        text-align: right;\n",
              "    }\n",
              "</style>\n",
              "<table border=\"1\" class=\"dataframe\">\n",
              "  <thead>\n",
              "    <tr style=\"text-align: right;\">\n",
              "      <th></th>\n",
              "      <th>YEAR_OF_CASES</th>\n",
              "      <th>MONTH_OF_CASES</th>\n",
              "      <th>COUNTRY_CODE</th>\n",
              "      <th>COUNTRY</th>\n",
              "      <th>WHO_REGION</th>\n",
              "      <th>NEW_CASES</th>\n",
              "      <th>NEW_DEATHS</th>\n",
              "    </tr>\n",
              "  </thead>\n",
              "  <tbody>\n",
              "    <tr>\n",
              "      <th>0</th>\n",
              "      <td>2020</td>\n",
              "      <td>1</td>\n",
              "      <td>AO</td>\n",
              "      <td>Angola</td>\n",
              "      <td>AFRO</td>\n",
              "      <td>0</td>\n",
              "      <td>0</td>\n",
              "    </tr>\n",
              "    <tr>\n",
              "      <th>1</th>\n",
              "      <td>2020</td>\n",
              "      <td>2</td>\n",
              "      <td>AO</td>\n",
              "      <td>Angola</td>\n",
              "      <td>AFRO</td>\n",
              "      <td>0</td>\n",
              "      <td>0</td>\n",
              "    </tr>\n",
              "    <tr>\n",
              "      <th>2</th>\n",
              "      <td>2020</td>\n",
              "      <td>3</td>\n",
              "      <td>AO</td>\n",
              "      <td>Angola</td>\n",
              "      <td>AFRO</td>\n",
              "      <td>7</td>\n",
              "      <td>1</td>\n",
              "    </tr>\n",
              "    <tr>\n",
              "      <th>3</th>\n",
              "      <td>2020</td>\n",
              "      <td>4</td>\n",
              "      <td>AO</td>\n",
              "      <td>Angola</td>\n",
              "      <td>AFRO</td>\n",
              "      <td>20</td>\n",
              "      <td>1</td>\n",
              "    </tr>\n",
              "    <tr>\n",
              "      <th>4</th>\n",
              "      <td>2020</td>\n",
              "      <td>5</td>\n",
              "      <td>AO</td>\n",
              "      <td>Angola</td>\n",
              "      <td>AFRO</td>\n",
              "      <td>57</td>\n",
              "      <td>2</td>\n",
              "    </tr>\n",
              "  </tbody>\n",
              "</table>\n",
              "</div>"
            ],
            "text/plain": [
              "   YEAR_OF_CASES  MONTH_OF_CASES COUNTRY_CODE  ... WHO_REGION NEW_CASES  NEW_DEATHS\n",
              "0           2020               1           AO  ...       AFRO         0           0\n",
              "1           2020               2           AO  ...       AFRO         0           0\n",
              "2           2020               3           AO  ...       AFRO         7           1\n",
              "3           2020               4           AO  ...       AFRO        20           1\n",
              "4           2020               5           AO  ...       AFRO        57           2\n",
              "\n",
              "[5 rows x 7 columns]"
            ]
          },
          "metadata": {},
          "execution_count": 4
        }
      ]
    },
    {
      "cell_type": "code",
      "metadata": {
        "colab": {
          "base_uri": "https://localhost:8080/",
          "height": 203
        },
        "id": "2w2hYiCywvF8",
        "outputId": "3bd1cf04-543f-44bf-948f-8304642f0dc8"
      },
      "source": [
        "df.tail()"
      ],
      "execution_count": null,
      "outputs": [
        {
          "output_type": "execute_result",
          "data": {
            "text/html": [
              "<div>\n",
              "<style scoped>\n",
              "    .dataframe tbody tr th:only-of-type {\n",
              "        vertical-align: middle;\n",
              "    }\n",
              "\n",
              "    .dataframe tbody tr th {\n",
              "        vertical-align: top;\n",
              "    }\n",
              "\n",
              "    .dataframe thead th {\n",
              "        text-align: right;\n",
              "    }\n",
              "</style>\n",
              "<table border=\"1\" class=\"dataframe\">\n",
              "  <thead>\n",
              "    <tr style=\"text-align: right;\">\n",
              "      <th></th>\n",
              "      <th>YEAR_OF_CASES</th>\n",
              "      <th>MONTH_OF_CASES</th>\n",
              "      <th>COUNTRY_CODE</th>\n",
              "      <th>COUNTRY</th>\n",
              "      <th>WHO_REGION</th>\n",
              "      <th>NEW_CASES</th>\n",
              "      <th>NEW_DEATHS</th>\n",
              "    </tr>\n",
              "  </thead>\n",
              "  <tbody>\n",
              "    <tr>\n",
              "      <th>4735</th>\n",
              "      <td>2021</td>\n",
              "      <td>4</td>\n",
              "      <td>WS</td>\n",
              "      <td>Samoa</td>\n",
              "      <td>WPRO</td>\n",
              "      <td>0</td>\n",
              "      <td>0</td>\n",
              "    </tr>\n",
              "    <tr>\n",
              "      <th>4736</th>\n",
              "      <td>2021</td>\n",
              "      <td>5</td>\n",
              "      <td>WS</td>\n",
              "      <td>Samoa</td>\n",
              "      <td>WPRO</td>\n",
              "      <td>0</td>\n",
              "      <td>0</td>\n",
              "    </tr>\n",
              "    <tr>\n",
              "      <th>4737</th>\n",
              "      <td>2021</td>\n",
              "      <td>6</td>\n",
              "      <td>WS</td>\n",
              "      <td>Samoa</td>\n",
              "      <td>WPRO</td>\n",
              "      <td>0</td>\n",
              "      <td>0</td>\n",
              "    </tr>\n",
              "    <tr>\n",
              "      <th>4738</th>\n",
              "      <td>2021</td>\n",
              "      <td>7</td>\n",
              "      <td>WS</td>\n",
              "      <td>Samoa</td>\n",
              "      <td>WPRO</td>\n",
              "      <td>0</td>\n",
              "      <td>0</td>\n",
              "    </tr>\n",
              "    <tr>\n",
              "      <th>4739</th>\n",
              "      <td>2021</td>\n",
              "      <td>8</td>\n",
              "      <td>WS</td>\n",
              "      <td>Samoa</td>\n",
              "      <td>WPRO</td>\n",
              "      <td>0</td>\n",
              "      <td>0</td>\n",
              "    </tr>\n",
              "  </tbody>\n",
              "</table>\n",
              "</div>"
            ],
            "text/plain": [
              "      YEAR_OF_CASES  MONTH_OF_CASES  ... NEW_CASES NEW_DEATHS\n",
              "4735           2021               4  ...         0          0\n",
              "4736           2021               5  ...         0          0\n",
              "4737           2021               6  ...         0          0\n",
              "4738           2021               7  ...         0          0\n",
              "4739           2021               8  ...         0          0\n",
              "\n",
              "[5 rows x 7 columns]"
            ]
          },
          "metadata": {},
          "execution_count": 5
        }
      ]
    },
    {
      "cell_type": "code",
      "metadata": {
        "colab": {
          "base_uri": "https://localhost:8080/"
        },
        "id": "c9F_hbjcwYRs",
        "outputId": "2d1a3f57-1479-4039-c9ed-9e7f2d335972"
      },
      "source": [
        "df.columns"
      ],
      "execution_count": null,
      "outputs": [
        {
          "output_type": "execute_result",
          "data": {
            "text/plain": [
              "Index(['YEAR_OF_CASES', 'MONTH_OF_CASES', 'COUNTRY_CODE', 'COUNTRY',\n",
              "       'WHO_REGION', 'NEW_CASES', 'NEW_DEATHS'],\n",
              "      dtype='object')"
            ]
          },
          "metadata": {},
          "execution_count": 6
        }
      ]
    },
    {
      "cell_type": "code",
      "metadata": {
        "colab": {
          "base_uri": "https://localhost:8080/"
        },
        "id": "s9PgJhmwzjNZ",
        "outputId": "eac901e1-125d-4761-da29-40b799653395"
      },
      "source": [
        "df.shape"
      ],
      "execution_count": null,
      "outputs": [
        {
          "output_type": "execute_result",
          "data": {
            "text/plain": [
              "(4740, 7)"
            ]
          },
          "metadata": {},
          "execution_count": 7
        }
      ]
    },
    {
      "cell_type": "code",
      "metadata": {
        "colab": {
          "base_uri": "https://localhost:8080/"
        },
        "id": "S7BAjlpnwgwC",
        "outputId": "fb239f54-aaa9-42ad-a1a1-2e8b37319490"
      },
      "source": [
        "df.info()"
      ],
      "execution_count": null,
      "outputs": [
        {
          "output_type": "stream",
          "name": "stdout",
          "text": [
            "<class 'pandas.core.frame.DataFrame'>\n",
            "RangeIndex: 4740 entries, 0 to 4739\n",
            "Data columns (total 7 columns):\n",
            " #   Column          Non-Null Count  Dtype \n",
            "---  ------          --------------  ----- \n",
            " 0   YEAR_OF_CASES   4740 non-null   int64 \n",
            " 1   MONTH_OF_CASES  4740 non-null   int64 \n",
            " 2   COUNTRY_CODE    4720 non-null   object\n",
            " 3   COUNTRY         4740 non-null   object\n",
            " 4   WHO_REGION      4740 non-null   object\n",
            " 5   NEW_CASES       4740 non-null   int64 \n",
            " 6   NEW_DEATHS      4740 non-null   int64 \n",
            "dtypes: int64(4), object(3)\n",
            "memory usage: 259.3+ KB\n"
          ]
        }
      ]
    },
    {
      "cell_type": "code",
      "metadata": {
        "id": "4I5VCSIpwk-g"
      },
      "source": [
        "df[['YEAR_OF_CASES','MONTH_OF_CASES']] = df[['YEAR_OF_CASES', 'MONTH_OF_CASES']].astype('object')"
      ],
      "execution_count": null,
      "outputs": []
    },
    {
      "cell_type": "code",
      "metadata": {
        "id": "-uLNgPgI3XCr"
      },
      "source": [
        "df.drop(['COUNTRY_CODE'], axis=1, inplace=True)"
      ],
      "execution_count": null,
      "outputs": []
    },
    {
      "cell_type": "code",
      "metadata": {
        "colab": {
          "base_uri": "https://localhost:8080/"
        },
        "id": "T5-tOkRzxWak",
        "outputId": "9e59a165-00b9-496f-e422-b7003817159c"
      },
      "source": [
        "df.info()"
      ],
      "execution_count": null,
      "outputs": [
        {
          "output_type": "stream",
          "name": "stdout",
          "text": [
            "<class 'pandas.core.frame.DataFrame'>\n",
            "RangeIndex: 4740 entries, 0 to 4739\n",
            "Data columns (total 6 columns):\n",
            " #   Column          Non-Null Count  Dtype \n",
            "---  ------          --------------  ----- \n",
            " 0   YEAR_OF_CASES   4740 non-null   object\n",
            " 1   MONTH_OF_CASES  4740 non-null   object\n",
            " 2   COUNTRY         4740 non-null   object\n",
            " 3   WHO_REGION      4740 non-null   object\n",
            " 4   NEW_CASES       4740 non-null   int64 \n",
            " 5   NEW_DEATHS      4740 non-null   int64 \n",
            "dtypes: int64(2), object(4)\n",
            "memory usage: 222.3+ KB\n"
          ]
        }
      ]
    },
    {
      "cell_type": "code",
      "metadata": {
        "colab": {
          "base_uri": "https://localhost:8080/",
          "height": 295
        },
        "id": "cLoTYuy5xgMJ",
        "outputId": "d8d4ad71-5aa0-4377-9858-1bc8f074b3b8"
      },
      "source": [
        "df.describe()"
      ],
      "execution_count": null,
      "outputs": [
        {
          "output_type": "execute_result",
          "data": {
            "text/html": [
              "<div>\n",
              "<style scoped>\n",
              "    .dataframe tbody tr th:only-of-type {\n",
              "        vertical-align: middle;\n",
              "    }\n",
              "\n",
              "    .dataframe tbody tr th {\n",
              "        vertical-align: top;\n",
              "    }\n",
              "\n",
              "    .dataframe thead th {\n",
              "        text-align: right;\n",
              "    }\n",
              "</style>\n",
              "<table border=\"1\" class=\"dataframe\">\n",
              "  <thead>\n",
              "    <tr style=\"text-align: right;\">\n",
              "      <th></th>\n",
              "      <th>NEW_CASES</th>\n",
              "      <th>NEW_DEATHS</th>\n",
              "    </tr>\n",
              "  </thead>\n",
              "  <tbody>\n",
              "    <tr>\n",
              "      <th>count</th>\n",
              "      <td>4.740000e+03</td>\n",
              "      <td>4740.000000</td>\n",
              "    </tr>\n",
              "    <tr>\n",
              "      <th>mean</th>\n",
              "      <td>4.509550e+04</td>\n",
              "      <td>940.797679</td>\n",
              "    </tr>\n",
              "    <tr>\n",
              "      <th>std</th>\n",
              "      <td>2.742954e+05</td>\n",
              "      <td>4784.742821</td>\n",
              "    </tr>\n",
              "    <tr>\n",
              "      <th>min</th>\n",
              "      <td>-1.404100e+04</td>\n",
              "      <td>-13.000000</td>\n",
              "    </tr>\n",
              "    <tr>\n",
              "      <th>25%</th>\n",
              "      <td>9.000000e+00</td>\n",
              "      <td>0.000000</td>\n",
              "    </tr>\n",
              "    <tr>\n",
              "      <th>50%</th>\n",
              "      <td>6.485000e+02</td>\n",
              "      <td>7.000000</td>\n",
              "    </tr>\n",
              "    <tr>\n",
              "      <th>75%</th>\n",
              "      <td>1.160950e+04</td>\n",
              "      <td>170.000000</td>\n",
              "    </tr>\n",
              "    <tr>\n",
              "      <th>max</th>\n",
              "      <td>9.284558e+06</td>\n",
              "      <td>120770.000000</td>\n",
              "    </tr>\n",
              "  </tbody>\n",
              "</table>\n",
              "</div>"
            ],
            "text/plain": [
              "          NEW_CASES     NEW_DEATHS\n",
              "count  4.740000e+03    4740.000000\n",
              "mean   4.509550e+04     940.797679\n",
              "std    2.742954e+05    4784.742821\n",
              "min   -1.404100e+04     -13.000000\n",
              "25%    9.000000e+00       0.000000\n",
              "50%    6.485000e+02       7.000000\n",
              "75%    1.160950e+04     170.000000\n",
              "max    9.284558e+06  120770.000000"
            ]
          },
          "metadata": {},
          "execution_count": 12
        }
      ]
    },
    {
      "cell_type": "code",
      "metadata": {
        "colab": {
          "base_uri": "https://localhost:8080/"
        },
        "id": "lHwrVnjby7yk",
        "outputId": "f76be17d-6878-46b1-b960-a0f7d6f11001"
      },
      "source": [
        "df['NEW_CASES'].mean()"
      ],
      "execution_count": null,
      "outputs": [
        {
          "output_type": "execute_result",
          "data": {
            "text/plain": [
              "45095.49831223629"
            ]
          },
          "metadata": {},
          "execution_count": 13
        }
      ]
    },
    {
      "cell_type": "code",
      "metadata": {
        "colab": {
          "base_uri": "https://localhost:8080/"
        },
        "id": "6-xrsVGyzLNN",
        "outputId": "19db4932-6c93-46aa-f753-fb963d16326e"
      },
      "source": [
        "df['NEW_CASES'].median()"
      ],
      "execution_count": null,
      "outputs": [
        {
          "output_type": "execute_result",
          "data": {
            "text/plain": [
              "648.5"
            ]
          },
          "metadata": {},
          "execution_count": 14
        }
      ]
    },
    {
      "cell_type": "markdown",
      "metadata": {
        "id": "-6J5enTe0OsS"
      },
      "source": [
        "# Univariate Analysis"
      ]
    },
    {
      "cell_type": "code",
      "metadata": {
        "colab": {
          "base_uri": "https://localhost:8080/"
        },
        "id": "FMxQxN5WzTNa",
        "outputId": "c23fc119-b184-4693-8943-f197c890e913"
      },
      "source": [
        "df['YEAR_OF_CASES'].isnull().sum()"
      ],
      "execution_count": null,
      "outputs": [
        {
          "output_type": "execute_result",
          "data": {
            "text/plain": [
              "0"
            ]
          },
          "metadata": {},
          "execution_count": 15
        }
      ]
    },
    {
      "cell_type": "code",
      "metadata": {
        "colab": {
          "base_uri": "https://localhost:8080/"
        },
        "id": "hipjNPbl0js4",
        "outputId": "48ac19e2-99eb-45dc-dba1-3986289c79c0"
      },
      "source": [
        "df['YEAR_OF_CASES'].nunique()"
      ],
      "execution_count": null,
      "outputs": [
        {
          "output_type": "execute_result",
          "data": {
            "text/plain": [
              "2"
            ]
          },
          "metadata": {},
          "execution_count": 16
        }
      ]
    },
    {
      "cell_type": "code",
      "metadata": {
        "colab": {
          "base_uri": "https://localhost:8080/"
        },
        "id": "hzJiCDYP0uR6",
        "outputId": "e80c3760-2ed2-4133-cbe7-05b023269abb"
      },
      "source": [
        "df['YEAR_OF_CASES'].unique()"
      ],
      "execution_count": null,
      "outputs": [
        {
          "output_type": "execute_result",
          "data": {
            "text/plain": [
              "array([2020, 2021], dtype=object)"
            ]
          },
          "metadata": {},
          "execution_count": 17
        }
      ]
    },
    {
      "cell_type": "code",
      "metadata": {
        "colab": {
          "base_uri": "https://localhost:8080/"
        },
        "id": "fQ7L9YDN0zZk",
        "outputId": "e250ac3f-99a5-45c7-c4f9-98ed4cbc4aa5"
      },
      "source": [
        "df['YEAR_OF_CASES'].value_counts()"
      ],
      "execution_count": null,
      "outputs": [
        {
          "output_type": "execute_result",
          "data": {
            "text/plain": [
              "2020    2844\n",
              "2021    1896\n",
              "Name: YEAR_OF_CASES, dtype: int64"
            ]
          },
          "metadata": {},
          "execution_count": 18
        }
      ]
    },
    {
      "cell_type": "code",
      "metadata": {
        "colab": {
          "base_uri": "https://localhost:8080/",
          "height": 280
        },
        "id": "T20Wnuhk1HN6",
        "outputId": "61bdc546-ba9e-42ef-81ed-1a33be1f97b4"
      },
      "source": [
        "df_year_of_cases = sns.countplot(x = 'YEAR_OF_CASES', data = df, palette=\"Set2\")\n",
        "plt.show()"
      ],
      "execution_count": null,
      "outputs": [
        {
          "output_type": "display_data",
          "data": {
            "image/png": "[encoded data removed]",
            "text/plain": [
              "<Figure size 432x288 with 1 Axes>"
            ]
          },
          "metadata": {
            "needs_background": "light"
          }
        }
      ]
    },
    {
      "cell_type": "code",
      "metadata": {
        "colab": {
          "base_uri": "https://localhost:8080/"
        },
        "id": "Qg3RC4232QyV",
        "outputId": "3560dfa7-979f-468f-95ea-95b7231c6d1e"
      },
      "source": [
        "df['MONTH_OF_CASES'].isnull().sum()"
      ],
      "execution_count": null,
      "outputs": [
        {
          "output_type": "execute_result",
          "data": {
            "text/plain": [
              "0"
            ]
          },
          "metadata": {},
          "execution_count": 20
        }
      ]
    },
    {
      "cell_type": "code",
      "metadata": {
        "colab": {
          "base_uri": "https://localhost:8080/"
        },
        "id": "qpuf1lB82yKa",
        "outputId": "ec0bac8d-5425-4d04-8743-1530e55c2531"
      },
      "source": [
        "df['MONTH_OF_CASES'].nunique()"
      ],
      "execution_count": null,
      "outputs": [
        {
          "output_type": "execute_result",
          "data": {
            "text/plain": [
              "12"
            ]
          },
          "metadata": {},
          "execution_count": 21
        }
      ]
    },
    {
      "cell_type": "code",
      "metadata": {
        "colab": {
          "base_uri": "https://localhost:8080/"
        },
        "id": "uvc-bOHs2__2",
        "outputId": "b2515545-c38d-4e83-8bdd-4311bb0f6ddf"
      },
      "source": [
        "df['MONTH_OF_CASES'].unique()"
      ],
      "execution_count": null,
      "outputs": [
        {
          "output_type": "execute_result",
          "data": {
            "text/plain": [
              "array([1, 2, 3, 4, 5, 6, 7, 8, 9, 10, 11, 12], dtype=object)"
            ]
          },
          "metadata": {},
          "execution_count": 22
        }
      ]
    },
    {
      "cell_type": "code",
      "metadata": {
        "colab": {
          "base_uri": "https://localhost:8080/",
          "height": 696
        },
        "id": "Z8hGEK863D-t",
        "outputId": "74728644-4a53-4bf3-f589-305849ba6ee2"
      },
      "source": [
        "df.groupby(['YEAR_OF_CASES','MONTH_OF_CASES']).count()"
      ],
      "execution_count": null,
      "outputs": [
        {
          "output_type": "execute_result",
          "data": {
            "text/html": [
              "<div>\n",
              "<style scoped>\n",
              "    .dataframe tbody tr th:only-of-type {\n",
              "        vertical-align: middle;\n",
              "    }\n",
              "\n",
              "    .dataframe tbody tr th {\n",
              "        vertical-align: top;\n",
              "    }\n",
              "\n",
              "    .dataframe thead th {\n",
              "        text-align: right;\n",
              "    }\n",
              "</style>\n",
              "<table border=\"1\" class=\"dataframe\">\n",
              "  <thead>\n",
              "    <tr style=\"text-align: right;\">\n",
              "      <th></th>\n",
              "      <th></th>\n",
              "      <th>COUNTRY</th>\n",
              "      <th>WHO_REGION</th>\n",
              "      <th>NEW_CASES</th>\n",
              "      <th>NEW_DEATHS</th>\n",
              "    </tr>\n",
              "    <tr>\n",
              "      <th>YEAR_OF_CASES</th>\n",
              "      <th>MONTH_OF_CASES</th>\n",
              "      <th></th>\n",
              "      <th></th>\n",
              "      <th></th>\n",
              "      <th></th>\n",
              "    </tr>\n",
              "  </thead>\n",
              "  <tbody>\n",
              "    <tr>\n",
              "      <th rowspan=\"12\" valign=\"top\">2020</th>\n",
              "      <th>1</th>\n",
              "      <td>237</td>\n",
              "      <td>237</td>\n",
              "      <td>237</td>\n",
              "      <td>237</td>\n",
              "    </tr>\n",
              "    <tr>\n",
              "      <th>2</th>\n",
              "      <td>237</td>\n",
              "      <td>237</td>\n",
              "      <td>237</td>\n",
              "      <td>237</td>\n",
              "    </tr>\n",
              "    <tr>\n",
              "      <th>3</th>\n",
              "      <td>237</td>\n",
              "      <td>237</td>\n",
              "      <td>237</td>\n",
              "      <td>237</td>\n",
              "    </tr>\n",
              "    <tr>\n",
              "      <th>4</th>\n",
              "      <td>237</td>\n",
              "      <td>237</td>\n",
              "      <td>237</td>\n",
              "      <td>237</td>\n",
              "    </tr>\n",
              "    <tr>\n",
              "      <th>5</th>\n",
              "      <td>237</td>\n",
              "      <td>237</td>\n",
              "      <td>237</td>\n",
              "      <td>237</td>\n",
              "    </tr>\n",
              "    <tr>\n",
              "      <th>6</th>\n",
              "      <td>237</td>\n",
              "      <td>237</td>\n",
              "      <td>237</td>\n",
              "      <td>237</td>\n",
              "    </tr>\n",
              "    <tr>\n",
              "      <th>7</th>\n",
              "      <td>237</td>\n",
              "      <td>237</td>\n",
              "      <td>237</td>\n",
              "      <td>237</td>\n",
              "    </tr>\n",
              "    <tr>\n",
              "      <th>8</th>\n",
              "      <td>237</td>\n",
              "      <td>237</td>\n",
              "      <td>237</td>\n",
              "      <td>237</td>\n",
              "    </tr>\n",
              "    <tr>\n",
              "      <th>9</th>\n",
              "      <td>237</td>\n",
              "      <td>237</td>\n",
              "      <td>237</td>\n",
              "      <td>237</td>\n",
              "    </tr>\n",
              "    <tr>\n",
              "      <th>10</th>\n",
              "      <td>237</td>\n",
              "      <td>237</td>\n",
              "      <td>237</td>\n",
              "      <td>237</td>\n",
              "    </tr>\n",
              "    <tr>\n",
              "      <th>11</th>\n",
              "      <td>237</td>\n",
              "      <td>237</td>\n",
              "      <td>237</td>\n",
              "      <td>237</td>\n",
              "    </tr>\n",
              "    <tr>\n",
              "      <th>12</th>\n",
              "      <td>237</td>\n",
              "      <td>237</td>\n",
              "      <td>237</td>\n",
              "      <td>237</td>\n",
              "    </tr>\n",
              "    <tr>\n",
              "      <th rowspan=\"8\" valign=\"top\">2021</th>\n",
              "      <th>1</th>\n",
              "      <td>237</td>\n",
              "      <td>237</td>\n",
              "      <td>237</td>\n",
              "      <td>237</td>\n",
              "    </tr>\n",
              "    <tr>\n",
              "      <th>2</th>\n",
              "      <td>237</td>\n",
              "      <td>237</td>\n",
              "      <td>237</td>\n",
              "      <td>237</td>\n",
              "    </tr>\n",
              "    <tr>\n",
              "      <th>3</th>\n",
              "      <td>237</td>\n",
              "      <td>237</td>\n",
              "      <td>237</td>\n",
              "      <td>237</td>\n",
              "    </tr>\n",
              "    <tr>\n",
              "      <th>4</th>\n",
              "      <td>237</td>\n",
              "      <td>237</td>\n",
              "      <td>237</td>\n",
              "      <td>237</td>\n",
              "    </tr>\n",
              "    <tr>\n",
              "      <th>5</th>\n",
              "      <td>237</td>\n",
              "      <td>237</td>\n",
              "      <td>237</td>\n",
              "      <td>237</td>\n",
              "    </tr>\n",
              "    <tr>\n",
              "      <th>6</th>\n",
              "      <td>237</td>\n",
              "      <td>237</td>\n",
              "      <td>237</td>\n",
              "      <td>237</td>\n",
              "    </tr>\n",
              "    <tr>\n",
              "      <th>7</th>\n",
              "      <td>237</td>\n",
              "      <td>237</td>\n",
              "      <td>237</td>\n",
              "      <td>237</td>\n",
              "    </tr>\n",
              "    <tr>\n",
              "      <th>8</th>\n",
              "      <td>237</td>\n",
              "      <td>237</td>\n",
              "      <td>237</td>\n",
              "      <td>237</td>\n",
              "    </tr>\n",
              "  </tbody>\n",
              "</table>\n",
              "</div>"
            ],
            "text/plain": [
              "                              COUNTRY  WHO_REGION  NEW_CASES  NEW_DEATHS\n",
              "YEAR_OF_CASES MONTH_OF_CASES                                            \n",
              "2020          1                   237         237        237         237\n",
              "              2                   237         237        237         237\n",
              "              3                   237         237        237         237\n",
              "              4                   237         237        237         237\n",
              "              5                   237         237        237         237\n",
              "              6                   237         237        237         237\n",
              "              7                   237         237        237         237\n",
              "              8                   237         237        237         237\n",
              "              9                   237         237        237         237\n",
              "              10                  237         237        237         237\n",
              "              11                  237         237        237         237\n",
              "              12                  237         237        237         237\n",
              "2021          1                   237         237        237         237\n",
              "              2                   237         237        237         237\n",
              "              3                   237         237        237         237\n",
              "              4                   237         237        237         237\n",
              "              5                   237         237        237         237\n",
              "              6                   237         237        237         237\n",
              "              7                   237         237        237         237\n",
              "              8                   237         237        237         237"
            ]
          },
          "metadata": {},
          "execution_count": 23
        }
      ]
    },
    {
      "cell_type": "code",
      "metadata": {
        "colab": {
          "base_uri": "https://localhost:8080/"
        },
        "id": "ZxmmcGGP4f02",
        "outputId": "f5fc6ec7-71f6-4aba-c672-602efb240743"
      },
      "source": [
        "df['COUNTRY'].isnull().sum()"
      ],
      "execution_count": null,
      "outputs": [
        {
          "output_type": "execute_result",
          "data": {
            "text/plain": [
              "0"
            ]
          },
          "metadata": {},
          "execution_count": 24
        }
      ]
    },
    {
      "cell_type": "code",
      "metadata": {
        "colab": {
          "base_uri": "https://localhost:8080/"
        },
        "id": "ZOsCPhGS45uB",
        "outputId": "249dac2a-01e0-43bc-e533-8e8dc823f3fb"
      },
      "source": [
        "df['COUNTRY'].nunique()"
      ],
      "execution_count": null,
      "outputs": [
        {
          "output_type": "execute_result",
          "data": {
            "text/plain": [
              "237"
            ]
          },
          "metadata": {},
          "execution_count": 25
        }
      ]
    },
    {
      "cell_type": "code",
      "metadata": {
        "colab": {
          "base_uri": "https://localhost:8080/"
        },
        "id": "Qjr-9J4W6TRm",
        "outputId": "7b6407cb-1015-46d7-bec4-074aa6ed8112"
      },
      "source": [
        "df['WHO_REGION'].nunique()"
      ],
      "execution_count": null,
      "outputs": [
        {
          "output_type": "execute_result",
          "data": {
            "text/plain": [
              "7"
            ]
          },
          "metadata": {},
          "execution_count": 26
        }
      ]
    },
    {
      "cell_type": "code",
      "metadata": {
        "colab": {
          "base_uri": "https://localhost:8080/"
        },
        "id": "iDq5tmH86c0g",
        "outputId": "fc340566-6e5a-4ca0-fef3-71568587de7a"
      },
      "source": [
        "df['WHO_REGION'].unique()"
      ],
      "execution_count": null,
      "outputs": [
        {
          "output_type": "execute_result",
          "data": {
            "text/plain": [
              "array(['AFRO', 'AMRO', 'EMRO', 'EURO', 'Other', 'SEARO', 'WPRO'],\n",
              "      dtype=object)"
            ]
          },
          "metadata": {},
          "execution_count": 27
        }
      ]
    },
    {
      "cell_type": "code",
      "metadata": {
        "colab": {
          "base_uri": "https://localhost:8080/"
        },
        "id": "tQ6mLNQP7wR_",
        "outputId": "a24f9dd4-866d-4a3f-afd3-1a4e9ae7459a"
      },
      "source": [
        "df['WHO_REGION'].value_counts()"
      ],
      "execution_count": null,
      "outputs": [
        {
          "output_type": "execute_result",
          "data": {
            "text/plain": [
              "EURO     1240\n",
              "AMRO     1120\n",
              "AFRO     1000\n",
              "WPRO      700\n",
              "EMRO      440\n",
              "SEARO     220\n",
              "Other      20\n",
              "Name: WHO_REGION, dtype: int64"
            ]
          },
          "metadata": {},
          "execution_count": 28
        }
      ]
    },
    {
      "cell_type": "code",
      "metadata": {
        "colab": {
          "base_uri": "https://localhost:8080/",
          "height": 280
        },
        "id": "LjdR4r9w7hbY",
        "outputId": "e57cfc21-ce24-42ef-aa1a-1d1917aaf556"
      },
      "source": [
        "df_count_region =  sns.countplot(x = 'WHO_REGION', data = df)\n",
        "plt.show()"
      ],
      "execution_count": null,
      "outputs": [
        {
          "output_type": "display_data",
          "data": {
            "image/png": "[encoded data removed]",
            "text/plain": [
              "<Figure size 432x288 with 1 Axes>"
            ]
          },
          "metadata": {
            "needs_background": "light"
          }
        }
      ]
    },
    {
      "cell_type": "code",
      "metadata": {
        "colab": {
          "base_uri": "https://localhost:8080/"
        },
        "id": "Opj7HHp96hZ2",
        "outputId": "cccb5fbb-e886-4793-8fda-b52f58c3ec27"
      },
      "source": [
        "df['NEW_CASES'].sum()"
      ],
      "execution_count": null,
      "outputs": [
        {
          "output_type": "execute_result",
          "data": {
            "text/plain": [
              "213752662"
            ]
          },
          "metadata": {},
          "execution_count": 30
        }
      ]
    },
    {
      "cell_type": "code",
      "metadata": {
        "colab": {
          "base_uri": "https://localhost:8080/"
        },
        "id": "SX0Kp1gU7Ijw",
        "outputId": "a8cea5dc-09de-477e-a535-f9b777962e00"
      },
      "source": [
        "df['NEW_DEATHS'].sum()"
      ],
      "execution_count": null,
      "outputs": [
        {
          "output_type": "execute_result",
          "data": {
            "text/plain": [
              "4459381"
            ]
          },
          "metadata": {},
          "execution_count": 31
        }
      ]
    },
    {
      "cell_type": "code",
      "metadata": {
        "colab": {
          "base_uri": "https://localhost:8080/"
        },
        "id": "yIZ0Klhw7MT0",
        "outputId": "b55dd624-421d-4800-c8ea-a8865e8a7378"
      },
      "source": [
        "df['NEW_CASES'].isnull().sum()"
      ],
      "execution_count": null,
      "outputs": [
        {
          "output_type": "execute_result",
          "data": {
            "text/plain": [
              "0"
            ]
          },
          "metadata": {},
          "execution_count": 32
        }
      ]
    },
    {
      "cell_type": "code",
      "metadata": {
        "colab": {
          "base_uri": "https://localhost:8080/"
        },
        "id": "lngruHg67TBr",
        "outputId": "a4cad1f7-0b1b-4b91-cc63-f23c0f8b15f6"
      },
      "source": [
        "df['NEW_DEATHS'].isnull().sum()"
      ],
      "execution_count": null,
      "outputs": [
        {
          "output_type": "execute_result",
          "data": {
            "text/plain": [
              "0"
            ]
          },
          "metadata": {},
          "execution_count": 33
        }
      ]
    },
    {
      "cell_type": "markdown",
      "metadata": {
        "id": "j7h-sivbvrRO"
      },
      "source": [
        "#Multivariate Analysis"
      ]
    },
    {
      "cell_type": "code",
      "metadata": {
        "colab": {
          "base_uri": "https://localhost:8080/",
          "height": 265
        },
        "id": "AhzKHLOh3yzT",
        "outputId": "696e8e46-2a73-4600-b208-534f78146151"
      },
      "source": [
        "df1 = df.groupby('WHO_REGION', as_index = False).sum()\n",
        "df1"
      ],
      "execution_count": null,
      "outputs": [
        {
          "output_type": "execute_result",
          "data": {
            "text/html": [
              "<div>\n",
              "<style scoped>\n",
              "    .dataframe tbody tr th:only-of-type {\n",
              "        vertical-align: middle;\n",
              "    }\n",
              "\n",
              "    .dataframe tbody tr th {\n",
              "        vertical-align: top;\n",
              "    }\n",
              "\n",
              "    .dataframe thead th {\n",
              "        text-align: right;\n",
              "    }\n",
              "</style>\n",
              "<table border=\"1\" class=\"dataframe\">\n",
              "  <thead>\n",
              "    <tr style=\"text-align: right;\">\n",
              "      <th></th>\n",
              "      <th>WHO_REGION</th>\n",
              "      <th>NEW_CASES</th>\n",
              "      <th>NEW_DEATHS</th>\n",
              "    </tr>\n",
              "  </thead>\n",
              "  <tbody>\n",
              "    <tr>\n",
              "      <th>0</th>\n",
              "      <td>AFRO</td>\n",
              "      <td>5542072</td>\n",
              "      <td>132606</td>\n",
              "    </tr>\n",
              "    <tr>\n",
              "      <th>1</th>\n",
              "      <td>AMRO</td>\n",
              "      <td>82586809</td>\n",
              "      <td>2083259</td>\n",
              "    </tr>\n",
              "    <tr>\n",
              "      <th>2</th>\n",
              "      <td>EMRO</td>\n",
              "      <td>14315366</td>\n",
              "      <td>261090</td>\n",
              "    </tr>\n",
              "    <tr>\n",
              "      <th>3</th>\n",
              "      <td>EURO</td>\n",
              "      <td>64334138</td>\n",
              "      <td>1261817</td>\n",
              "    </tr>\n",
              "    <tr>\n",
              "      <th>4</th>\n",
              "      <td>Other</td>\n",
              "      <td>764</td>\n",
              "      <td>13</td>\n",
              "    </tr>\n",
              "    <tr>\n",
              "      <th>5</th>\n",
              "      <td>SEARO</td>\n",
              "      <td>40828589</td>\n",
              "      <td>635278</td>\n",
              "    </tr>\n",
              "    <tr>\n",
              "      <th>6</th>\n",
              "      <td>WPRO</td>\n",
              "      <td>6144924</td>\n",
              "      <td>85318</td>\n",
              "    </tr>\n",
              "  </tbody>\n",
              "</table>\n",
              "</div>"
            ],
            "text/plain": [
              "  WHO_REGION  NEW_CASES  NEW_DEATHS\n",
              "0       AFRO    5542072      132606\n",
              "1       AMRO   82586809     2083259\n",
              "2       EMRO   14315366      261090\n",
              "3       EURO   64334138     1261817\n",
              "4      Other        764          13\n",
              "5      SEARO   40828589      635278\n",
              "6       WPRO    6144924       85318"
            ]
          },
          "metadata": {},
          "execution_count": 34
        }
      ]
    },
    {
      "cell_type": "code",
      "metadata": {
        "colab": {
          "base_uri": "https://localhost:8080/",
          "height": 542
        },
        "id": "MpSLfYDp7_20",
        "outputId": "11d69408-297e-464d-8b84-7e10f3ac19f6"
      },
      "source": [
        "import plotly.express as px\n",
        "fig = px.bar(df1, x='WHO_REGION', y='NEW_CASES')\n",
        "fig.show()"
      ],
      "execution_count": null,
      "outputs": [
        {
          "output_type": "display_data",
          "data": {
            "text/html": [
              "<html>\n",
              "<head><meta charset=\"utf-8\" /></head>\n",
              "<body>\n",
              "    <div>\n",
              "            <script src=\"https://cdnjs.cloudflare.com/ajax/libs/mathjax/2.7.5/MathJax.js?config=TeX-AMS-MML_SVG\"></script><script type=\"text/javascript\">if (window.MathJax) {MathJax.Hub.Config({SVG: {font: \"STIX-Web\"}});}</script>\n",
              "                <script type=\"text/javascript\">window.PlotlyConfig = {MathJaxConfig: 'local'};</script>\n",
              "        <script src=\"https://cdn.plot.ly/plotly-latest.min.js\"></script>    \n",
              "            <div id=\"58c110a3-a3c1-4c13-b0b8-516b28636e1e\" class=\"plotly-graph-div\" style=\"height:525px; width:100%;\"></div>\n",
              "            <script type=\"text/javascript\">\n",
              "                \n",
              "                    window.PLOTLYENV=window.PLOTLYENV || {};\n",
              "                    \n",
              "                if (document.getElementById(\"58c110a3-a3c1-4c13-b0b8-516b28636e1e\")) {\n",
              "                    Plotly.newPlot(\n",
              "                        '58c110a3-a3c1-4c13-b0b8-516b28636e1e',\n",
              "                        [{\"alignmentgroup\": \"True\", \"hoverlabel\": {\"namelength\": 0}, \"hovertemplate\": \"WHO_REGION=%{x}<br>NEW_CASES=%{y}\", \"legendgroup\": \"\", \"marker\": {\"color\": \"#636efa\"}, \"name\": \"\", \"offsetgroup\": \"\", \"orientation\": \"v\", \"showlegend\": false, \"textposition\": \"auto\", \"type\": \"bar\", \"x\": [\"AFRO\", \"AMRO\", \"EMRO\", \"EURO\", \"Other\", \"SEARO\", \"WPRO\"], \"xaxis\": \"x\", \"y\": [5542072, 82586809, 14315366, 64334138, 764, 40828589, 6144924], \"yaxis\": \"y\"}],\n",
              "                        {\"barmode\": \"relative\", \"legend\": {\"tracegroupgap\": 0}, \"margin\": {\"t\": 60}, \"template\": {\"data\": {\"bar\": [{\"error_x\": {\"color\": \"#2a3f5f\"}, \"error_y\": {\"color\": \"#2a3f5f\"}, \"marker\": {\"line\": {\"color\": \"#E5ECF6\", \"width\": 0.5}}, \"type\": \"bar\"}], \"barpolar\": [{\"marker\": {\"line\": {\"color\": \"#E5ECF6\", \"width\": 0.5}}, \"type\": \"barpolar\"}], \"carpet\": [{\"aaxis\": {\"endlinecolor\": \"#2a3f5f\", \"gridcolor\": \"white\", \"linecolor\": \"white\", \"minorgridcolor\": \"white\", \"startlinecolor\": \"#2a3f5f\"}, \"baxis\": {\"endlinecolor\": \"#2a3f5f\", \"gridcolor\": \"white\", \"linecolor\": \"white\", \"minorgridcolor\": \"white\", \"startlinecolor\": \"#2a3f5f\"}, \"type\": \"carpet\"}], \"choropleth\": [{\"colorbar\": {\"outlinewidth\": 0, \"ticks\": \"\"}, \"type\": \"choropleth\"}], \"contour\": [{\"colorbar\": {\"outlinewidth\": 0, \"ticks\": \"\"}, \"colorscale\": [[0.0, \"#0d0887\"], [0.1111111111111111, \"#46039f\"], [0.2222222222222222, \"#7201a8\"], [0.3333333333333333, \"#9c179e\"], [0.4444444444444444, \"#bd3786\"], [0.5555555555555556, \"#d8576b\"], [0.6666666666666666, \"#ed7953\"], [0.7777777777777778, \"#fb9f3a\"], [0.8888888888888888, \"#fdca26\"], [1.0, \"#f0f921\"]], \"type\": \"contour\"}], \"contourcarpet\": [{\"colorbar\": {\"outlinewidth\": 0, \"ticks\": \"\"}, \"type\": \"contourcarpet\"}], \"heatmap\": [{\"colorbar\": {\"outlinewidth\": 0, \"ticks\": \"\"}, \"colorscale\": [[0.0, \"#0d0887\"], [0.1111111111111111, \"#46039f\"], [0.2222222222222222, \"#7201a8\"], [0.3333333333333333, \"#9c179e\"], [0.4444444444444444, \"#bd3786\"], [0.5555555555555556, \"#d8576b\"], [0.6666666666666666, \"#ed7953\"], [0.7777777777777778, \"#fb9f3a\"], [0.8888888888888888, \"#fdca26\"], [1.0, \"#f0f921\"]], \"type\": \"heatmap\"}], \"heatmapgl\": [{\"colorbar\": {\"outlinewidth\": 0, \"ticks\": \"\"}, \"colorscale\": [[0.0, \"#0d0887\"], [0.1111111111111111, \"#46039f\"], [0.2222222222222222, \"#7201a8\"], [0.3333333333333333, \"#9c179e\"], [0.4444444444444444, \"#bd3786\"], [0.5555555555555556, \"#d8576b\"], [0.6666666666666666, \"#ed7953\"], [0.7777777777777778, \"#fb9f3a\"], [0.8888888888888888, \"#fdca26\"], [1.0, \"#f0f921\"]], \"type\": \"heatmapgl\"}], \"histogram\": [{\"marker\": {\"colorbar\": {\"outlinewidth\": 0, \"ticks\": \"\"}}, \"type\": \"histogram\"}], \"histogram2d\": [{\"colorbar\": {\"outlinewidth\": 0, \"ticks\": \"\"}, \"colorscale\": [[0.0, \"#0d0887\"], [0.1111111111111111, \"#46039f\"], [0.2222222222222222, \"#7201a8\"], [0.3333333333333333, \"#9c179e\"], [0.4444444444444444, \"#bd3786\"], [0.5555555555555556, \"#d8576b\"], [0.6666666666666666, \"#ed7953\"], [0.7777777777777778, \"#fb9f3a\"], [0.8888888888888888, \"#fdca26\"], [1.0, \"#f0f921\"]], \"type\": \"histogram2d\"}], \"histogram2dcontour\": [{\"colorbar\": {\"outlinewidth\": 0, \"ticks\": \"\"}, \"colorscale\": [[0.0, \"#0d0887\"], [0.1111111111111111, \"#46039f\"], [0.2222222222222222, \"#7201a8\"], [0.3333333333333333, \"#9c179e\"], [0.4444444444444444, \"#bd3786\"], [0.5555555555555556, \"#d8576b\"], [0.6666666666666666, \"#ed7953\"], [0.7777777777777778, \"#fb9f3a\"], [0.8888888888888888, \"#fdca26\"], [1.0, \"#f0f921\"]], \"type\": \"histogram2dcontour\"}], \"mesh3d\": [{\"colorbar\": {\"outlinewidth\": 0, \"ticks\": \"\"}, \"type\": \"mesh3d\"}], \"parcoords\": [{\"line\": {\"colorbar\": {\"outlinewidth\": 0, \"ticks\": \"\"}}, \"type\": \"parcoords\"}], \"pie\": [{\"automargin\": true, \"type\": \"pie\"}], \"scatter\": [{\"marker\": {\"colorbar\": {\"outlinewidth\": 0, \"ticks\": \"\"}}, \"type\": \"scatter\"}], \"scatter3d\": [{\"line\": {\"colorbar\": {\"outlinewidth\": 0, \"ticks\": \"\"}}, \"marker\": {\"colorbar\": {\"outlinewidth\": 0, \"ticks\": \"\"}}, \"type\": \"scatter3d\"}], \"scattercarpet\": [{\"marker\": {\"colorbar\": {\"outlinewidth\": 0, \"ticks\": \"\"}}, \"type\": \"scattercarpet\"}], \"scattergeo\": [{\"marker\": {\"colorbar\": {\"outlinewidth\": 0, \"ticks\": \"\"}}, \"type\": \"scattergeo\"}], \"scattergl\": [{\"marker\": {\"colorbar\": {\"outlinewidth\": 0, \"ticks\": \"\"}}, \"type\": \"scattergl\"}], \"scattermapbox\": [{\"marker\": {\"colorbar\": {\"outlinewidth\": 0, \"ticks\": \"\"}}, \"type\": \"scattermapbox\"}], \"scatterpolar\": [{\"marker\": {\"colorbar\": {\"outlinewidth\": 0, \"ticks\": \"\"}}, \"type\": \"scatterpolar\"}], \"scatterpolargl\": [{\"marker\": {\"colorbar\": {\"outlinewidth\": 0, \"ticks\": \"\"}}, \"type\": \"scatterpolargl\"}], \"scatterternary\": [{\"marker\": {\"colorbar\": {\"outlinewidth\": 0, \"ticks\": \"\"}}, \"type\": \"scatterternary\"}], \"surface\": [{\"colorbar\": {\"outlinewidth\": 0, \"ticks\": \"\"}, \"colorscale\": [[0.0, \"#0d0887\"], [0.1111111111111111, \"#46039f\"], [0.2222222222222222, \"#7201a8\"], [0.3333333333333333, \"#9c179e\"], [0.4444444444444444, \"#bd3786\"], [0.5555555555555556, \"#d8576b\"], [0.6666666666666666, \"#ed7953\"], [0.7777777777777778, \"#fb9f3a\"], [0.8888888888888888, \"#fdca26\"], [1.0, \"#f0f921\"]], \"type\": \"surface\"}], \"table\": [{\"cells\": {\"fill\": {\"color\": \"#EBF0F8\"}, \"line\": {\"color\": \"white\"}}, \"header\": {\"fill\": {\"color\": \"#C8D4E3\"}, \"line\": {\"color\": \"white\"}}, \"type\": \"table\"}]}, \"layout\": {\"annotationdefaults\": {\"arrowcolor\": \"#2a3f5f\", \"arrowhead\": 0, \"arrowwidth\": 1}, \"coloraxis\": {\"colorbar\": {\"outlinewidth\": 0, \"ticks\": \"\"}}, \"colorscale\": {\"diverging\": [[0, \"#8e0152\"], [0.1, \"#c51b7d\"], [0.2, \"#de77ae\"], [0.3, \"#f1b6da\"], [0.4, \"#fde0ef\"], [0.5, \"#f7f7f7\"], [0.6, \"#e6f5d0\"], [0.7, \"#b8e186\"], [0.8, \"#7fbc41\"], [0.9, \"#4d9221\"], [1, \"#276419\"]], \"sequential\": [[0.0, \"#0d0887\"], [0.1111111111111111, \"#46039f\"], [0.2222222222222222, \"#7201a8\"], [0.3333333333333333, \"#9c179e\"], [0.4444444444444444, \"#bd3786\"], [0.5555555555555556, \"#d8576b\"], [0.6666666666666666, \"#ed7953\"], [0.7777777777777778, \"#fb9f3a\"], [0.8888888888888888, \"#fdca26\"], [1.0, \"#f0f921\"]], \"sequentialminus\": [[0.0, \"#0d0887\"], [0.1111111111111111, \"#46039f\"], [0.2222222222222222, \"#7201a8\"], [0.3333333333333333, \"#9c179e\"], [0.4444444444444444, \"#bd3786\"], [0.5555555555555556, \"#d8576b\"], [0.6666666666666666, \"#ed7953\"], [0.7777777777777778, \"#fb9f3a\"], [0.8888888888888888, \"#fdca26\"], [1.0, \"#f0f921\"]]}, \"colorway\": [\"#636efa\", \"#EF553B\", \"#00cc96\", \"#ab63fa\", \"#FFA15A\", \"#19d3f3\", \"#FF6692\", \"#B6E880\", \"#FF97FF\", \"#FECB52\"], \"font\": {\"color\": \"#2a3f5f\"}, \"geo\": {\"bgcolor\": \"white\", \"lakecolor\": \"white\", \"landcolor\": \"#E5ECF6\", \"showlakes\": true, \"showland\": true, \"subunitcolor\": \"white\"}, \"hoverlabel\": {\"align\": \"left\"}, \"hovermode\": \"closest\", \"mapbox\": {\"style\": \"light\"}, \"paper_bgcolor\": \"white\", \"plot_bgcolor\": \"#E5ECF6\", \"polar\": {\"angularaxis\": {\"gridcolor\": \"white\", \"linecolor\": \"white\", \"ticks\": \"\"}, \"bgcolor\": \"#E5ECF6\", \"radialaxis\": {\"gridcolor\": \"white\", \"linecolor\": \"white\", \"ticks\": \"\"}}, \"scene\": {\"xaxis\": {\"backgroundcolor\": \"#E5ECF6\", \"gridcolor\": \"white\", \"gridwidth\": 2, \"linecolor\": \"white\", \"showbackground\": true, \"ticks\": \"\", \"zerolinecolor\": \"white\"}, \"yaxis\": {\"backgroundcolor\": \"#E5ECF6\", \"gridcolor\": \"white\", \"gridwidth\": 2, \"linecolor\": \"white\", \"showbackground\": true, \"ticks\": \"\", \"zerolinecolor\": \"white\"}, \"zaxis\": {\"backgroundcolor\": \"#E5ECF6\", \"gridcolor\": \"white\", \"gridwidth\": 2, \"linecolor\": \"white\", \"showbackground\": true, \"ticks\": \"\", \"zerolinecolor\": \"white\"}}, \"shapedefaults\": {\"line\": {\"color\": \"#2a3f5f\"}}, \"ternary\": {\"aaxis\": {\"gridcolor\": \"white\", \"linecolor\": \"white\", \"ticks\": \"\"}, \"baxis\": {\"gridcolor\": \"white\", \"linecolor\": \"white\", \"ticks\": \"\"}, \"bgcolor\": \"#E5ECF6\", \"caxis\": {\"gridcolor\": \"white\", \"linecolor\": \"white\", \"ticks\": \"\"}}, \"title\": {\"x\": 0.05}, \"xaxis\": {\"automargin\": true, \"gridcolor\": \"white\", \"linecolor\": \"white\", \"ticks\": \"\", \"title\": {\"standoff\": 15}, \"zerolinecolor\": \"white\", \"zerolinewidth\": 2}, \"yaxis\": {\"automargin\": true, \"gridcolor\": \"white\", \"linecolor\": \"white\", \"ticks\": \"\", \"title\": {\"standoff\": 15}, \"zerolinecolor\": \"white\", \"zerolinewidth\": 2}}}, \"xaxis\": {\"anchor\": \"y\", \"domain\": [0.0, 1.0], \"title\": {\"text\": \"WHO_REGION\"}}, \"yaxis\": {\"anchor\": \"x\", \"domain\": [0.0, 1.0], \"title\": {\"text\": \"NEW_CASES\"}}},\n",
              "                        {\"responsive\": true}\n",
              "                    ).then(function(){\n",
              "                            \n",
              "var gd = document.getElementById('58c110a3-a3c1-4c13-b0b8-516b28636e1e');\n",
              "var x = new MutationObserver(function (mutations, observer) {{\n",
              "        var display = window.getComputedStyle(gd).display;\n",
              "        if (!display || display === 'none') {{\n",
              "            console.log([gd, 'removed!']);\n",
              "            Plotly.purge(gd);\n",
              "            observer.disconnect();\n",
              "        }}\n",
              "}});\n",
              "\n",
              "// Listen for the removal of the full notebook cells\n",
              "var notebookContainer = gd.closest('#notebook-container');\n",
              "if (notebookContainer) {{\n",
              "    x.observe(notebookContainer, {childList: true});\n",
              "}}\n",
              "\n",
              "// Listen for the clearing of the current output cell\n",
              "var outputEl = gd.closest('.output');\n",
              "if (outputEl) {{\n",
              "    x.observe(outputEl, {childList: true});\n",
              "}}\n",
              "\n",
              "                        })\n",
              "                };\n",
              "                \n",
              "            </script>\n",
              "        </div>\n",
              "</body>\n",
              "</html>"
            ]
          },
          "metadata": {}
        }
      ]
    },
    {
      "cell_type": "code",
      "metadata": {
        "colab": {
          "base_uri": "https://localhost:8080/",
          "height": 542
        },
        "id": "tLWqDqhQ8a-2",
        "outputId": "398d4a64-8bfa-4b38-9559-3791852bc70e"
      },
      "source": [
        "fig = px.bar(df1, x='WHO_REGION', y='NEW_DEATHS')\n",
        "fig.show()"
      ],
      "execution_count": null,
      "outputs": [
        {
          "output_type": "display_data",
          "data": {
            "text/html": [
              "<html>\n",
              "<head><meta charset=\"utf-8\" /></head>\n",
              "<body>\n",
              "    <div>\n",
              "            <script src=\"https://cdnjs.cloudflare.com/ajax/libs/mathjax/2.7.5/MathJax.js?config=TeX-AMS-MML_SVG\"></script><script type=\"text/javascript\">if (window.MathJax) {MathJax.Hub.Config({SVG: {font: \"STIX-Web\"}});}</script>\n",
              "                <script type=\"text/javascript\">window.PlotlyConfig = {MathJaxConfig: 'local'};</script>\n",
              "        <script src=\"https://cdn.plot.ly/plotly-latest.min.js\"></script>    \n",
              "            <div id=\"20d22133-04b1-4e7a-951a-0e4db0c8d6bf\" class=\"plotly-graph-div\" style=\"height:525px; width:100%;\"></div>\n",
              "            <script type=\"text/javascript\">\n",
              "                \n",
              "                    window.PLOTLYENV=window.PLOTLYENV || {};\n",
              "                    \n",
              "                if (document.getElementById(\"20d22133-04b1-4e7a-951a-0e4db0c8d6bf\")) {\n",
              "                    Plotly.newPlot(\n",
              "                        '20d22133-04b1-4e7a-951a-0e4db0c8d6bf',\n",
              "                        [{\"alignmentgroup\": \"True\", \"hoverlabel\": {\"namelength\": 0}, \"hovertemplate\": \"WHO_REGION=%{x}<br>NEW_DEATHS=%{y}\", \"legendgroup\": \"\", \"marker\": {\"color\": \"#636efa\"}, \"name\": \"\", \"offsetgroup\": \"\", \"orientation\": \"v\", \"showlegend\": false, \"textposition\": \"auto\", \"type\": \"bar\", \"x\": [\"AFRO\", \"AMRO\", \"EMRO\", \"EURO\", \"Other\", \"SEARO\", \"WPRO\"], \"xaxis\": \"x\", \"y\": [132606, 2083259, 261090, 1261817, 13, 635278, 85318], \"yaxis\": \"y\"}],\n",
              "                        {\"barmode\": \"relative\", \"legend\": {\"tracegroupgap\": 0}, \"margin\": {\"t\": 60}, \"template\": {\"data\": {\"bar\": [{\"error_x\": {\"color\": \"#2a3f5f\"}, \"error_y\": {\"color\": \"#2a3f5f\"}, \"marker\": {\"line\": {\"color\": \"#E5ECF6\", \"width\": 0.5}}, \"type\": \"bar\"}], \"barpolar\": [{\"marker\": {\"line\": {\"color\": \"#E5ECF6\", \"width\": 0.5}}, \"type\": \"barpolar\"}], \"carpet\": [{\"aaxis\": {\"endlinecolor\": \"#2a3f5f\", \"gridcolor\": \"white\", \"linecolor\": \"white\", \"minorgridcolor\": \"white\", \"startlinecolor\": \"#2a3f5f\"}, \"baxis\": {\"endlinecolor\": \"#2a3f5f\", \"gridcolor\": \"white\", \"linecolor\": \"white\", \"minorgridcolor\": \"white\", \"startlinecolor\": \"#2a3f5f\"}, \"type\": \"carpet\"}], \"choropleth\": [{\"colorbar\": {\"outlinewidth\": 0, \"ticks\": \"\"}, \"type\": \"choropleth\"}], \"contour\": [{\"colorbar\": {\"outlinewidth\": 0, \"ticks\": \"\"}, \"colorscale\": [[0.0, \"#0d0887\"], [0.1111111111111111, \"#46039f\"], [0.2222222222222222, \"#7201a8\"], [0.3333333333333333, \"#9c179e\"], [0.4444444444444444, \"#bd3786\"], [0.5555555555555556, \"#d8576b\"], [0.6666666666666666, \"#ed7953\"], [0.7777777777777778, \"#fb9f3a\"], [0.8888888888888888, \"#fdca26\"], [1.0, \"#f0f921\"]], \"type\": \"contour\"}], \"contourcarpet\": [{\"colorbar\": {\"outlinewidth\": 0, \"ticks\": \"\"}, \"type\": \"contourcarpet\"}], \"heatmap\": [{\"colorbar\": {\"outlinewidth\": 0, \"ticks\": \"\"}, \"colorscale\": [[0.0, \"#0d0887\"], [0.1111111111111111, \"#46039f\"], [0.2222222222222222, \"#7201a8\"], [0.3333333333333333, \"#9c179e\"], [0.4444444444444444, \"#bd3786\"], [0.5555555555555556, \"#d8576b\"], [0.6666666666666666, \"#ed7953\"], [0.7777777777777778, \"#fb9f3a\"], [0.8888888888888888, \"#fdca26\"], [1.0, \"#f0f921\"]], \"type\": \"heatmap\"}], \"heatmapgl\": [{\"colorbar\": {\"outlinewidth\": 0, \"ticks\": \"\"}, \"colorscale\": [[0.0, \"#0d0887\"], [0.1111111111111111, \"#46039f\"], [0.2222222222222222, \"#7201a8\"], [0.3333333333333333, \"#9c179e\"], [0.4444444444444444, \"#bd3786\"], [0.5555555555555556, \"#d8576b\"], [0.6666666666666666, \"#ed7953\"], [0.7777777777777778, \"#fb9f3a\"], [0.8888888888888888, \"#fdca26\"], [1.0, \"#f0f921\"]], \"type\": \"heatmapgl\"}], \"histogram\": [{\"marker\": {\"colorbar\": {\"outlinewidth\": 0, \"ticks\": \"\"}}, \"type\": \"histogram\"}], \"histogram2d\": [{\"colorbar\": {\"outlinewidth\": 0, \"ticks\": \"\"}, \"colorscale\": [[0.0, \"#0d0887\"], [0.1111111111111111, \"#46039f\"], [0.2222222222222222, \"#7201a8\"], [0.3333333333333333, \"#9c179e\"], [0.4444444444444444, \"#bd3786\"], [0.5555555555555556, \"#d8576b\"], [0.6666666666666666, \"#ed7953\"], [0.7777777777777778, \"#fb9f3a\"], [0.8888888888888888, \"#fdca26\"], [1.0, \"#f0f921\"]], \"type\": \"histogram2d\"}], \"histogram2dcontour\": [{\"colorbar\": {\"outlinewidth\": 0, \"ticks\": \"\"}, \"colorscale\": [[0.0, \"#0d0887\"], [0.1111111111111111, \"#46039f\"], [0.2222222222222222, \"#7201a8\"], [0.3333333333333333, \"#9c179e\"], [0.4444444444444444, \"#bd3786\"], [0.5555555555555556, \"#d8576b\"], [0.6666666666666666, \"#ed7953\"], [0.7777777777777778, \"#fb9f3a\"], [0.8888888888888888, \"#fdca26\"], [1.0, \"#f0f921\"]], \"type\": \"histogram2dcontour\"}], \"mesh3d\": [{\"colorbar\": {\"outlinewidth\": 0, \"ticks\": \"\"}, \"type\": \"mesh3d\"}], \"parcoords\": [{\"line\": {\"colorbar\": {\"outlinewidth\": 0, \"ticks\": \"\"}}, \"type\": \"parcoords\"}], \"pie\": [{\"automargin\": true, \"type\": \"pie\"}], \"scatter\": [{\"marker\": {\"colorbar\": {\"outlinewidth\": 0, \"ticks\": \"\"}}, \"type\": \"scatter\"}], \"scatter3d\": [{\"line\": {\"colorbar\": {\"outlinewidth\": 0, \"ticks\": \"\"}}, \"marker\": {\"colorbar\": {\"outlinewidth\": 0, \"ticks\": \"\"}}, \"type\": \"scatter3d\"}], \"scattercarpet\": [{\"marker\": {\"colorbar\": {\"outlinewidth\": 0, \"ticks\": \"\"}}, \"type\": \"scattercarpet\"}], \"scattergeo\": [{\"marker\": {\"colorbar\": {\"outlinewidth\": 0, \"ticks\": \"\"}}, \"type\": \"scattergeo\"}], \"scattergl\": [{\"marker\": {\"colorbar\": {\"outlinewidth\": 0, \"ticks\": \"\"}}, \"type\": \"scattergl\"}], \"scattermapbox\": [{\"marker\": {\"colorbar\": {\"outlinewidth\": 0, \"ticks\": \"\"}}, \"type\": \"scattermapbox\"}], \"scatterpolar\": [{\"marker\": {\"colorbar\": {\"outlinewidth\": 0, \"ticks\": \"\"}}, \"type\": \"scatterpolar\"}], \"scatterpolargl\": [{\"marker\": {\"colorbar\": {\"outlinewidth\": 0, \"ticks\": \"\"}}, \"type\": \"scatterpolargl\"}], \"scatterternary\": [{\"marker\": {\"colorbar\": {\"outlinewidth\": 0, \"ticks\": \"\"}}, \"type\": \"scatterternary\"}], \"surface\": [{\"colorbar\": {\"outlinewidth\": 0, \"ticks\": \"\"}, \"colorscale\": [[0.0, \"#0d0887\"], [0.1111111111111111, \"#46039f\"], [0.2222222222222222, \"#7201a8\"], [0.3333333333333333, \"#9c179e\"], [0.4444444444444444, \"#bd3786\"], [0.5555555555555556, \"#d8576b\"], [0.6666666666666666, \"#ed7953\"], [0.7777777777777778, \"#fb9f3a\"], [0.8888888888888888, \"#fdca26\"], [1.0, \"#f0f921\"]], \"type\": \"surface\"}], \"table\": [{\"cells\": {\"fill\": {\"color\": \"#EBF0F8\"}, \"line\": {\"color\": \"white\"}}, \"header\": {\"fill\": {\"color\": \"#C8D4E3\"}, \"line\": {\"color\": \"white\"}}, \"type\": \"table\"}]}, \"layout\": {\"annotationdefaults\": {\"arrowcolor\": \"#2a3f5f\", \"arrowhead\": 0, \"arrowwidth\": 1}, \"coloraxis\": {\"colorbar\": {\"outlinewidth\": 0, \"ticks\": \"\"}}, \"colorscale\": {\"diverging\": [[0, \"#8e0152\"], [0.1, \"#c51b7d\"], [0.2, \"#de77ae\"], [0.3, \"#f1b6da\"], [0.4, \"#fde0ef\"], [0.5, \"#f7f7f7\"], [0.6, \"#e6f5d0\"], [0.7, \"#b8e186\"], [0.8, \"#7fbc41\"], [0.9, \"#4d9221\"], [1, \"#276419\"]], \"sequential\": [[0.0, \"#0d0887\"], [0.1111111111111111, \"#46039f\"], [0.2222222222222222, \"#7201a8\"], [0.3333333333333333, \"#9c179e\"], [0.4444444444444444, \"#bd3786\"], [0.5555555555555556, \"#d8576b\"], [0.6666666666666666, \"#ed7953\"], [0.7777777777777778, \"#fb9f3a\"], [0.8888888888888888, \"#fdca26\"], [1.0, \"#f0f921\"]], \"sequentialminus\": [[0.0, \"#0d0887\"], [0.1111111111111111, \"#46039f\"], [0.2222222222222222, \"#7201a8\"], [0.3333333333333333, \"#9c179e\"], [0.4444444444444444, \"#bd3786\"], [0.5555555555555556, \"#d8576b\"], [0.6666666666666666, \"#ed7953\"], [0.7777777777777778, \"#fb9f3a\"], [0.8888888888888888, \"#fdca26\"], [1.0, \"#f0f921\"]]}, \"colorway\": [\"#636efa\", \"#EF553B\", \"#00cc96\", \"#ab63fa\", \"#FFA15A\", \"#19d3f3\", \"#FF6692\", \"#B6E880\", \"#FF97FF\", \"#FECB52\"], \"font\": {\"color\": \"#2a3f5f\"}, \"geo\": {\"bgcolor\": \"white\", \"lakecolor\": \"white\", \"landcolor\": \"#E5ECF6\", \"showlakes\": true, \"showland\": true, \"subunitcolor\": \"white\"}, \"hoverlabel\": {\"align\": \"left\"}, \"hovermode\": \"closest\", \"mapbox\": {\"style\": \"light\"}, \"paper_bgcolor\": \"white\", \"plot_bgcolor\": \"#E5ECF6\", \"polar\": {\"angularaxis\": {\"gridcolor\": \"white\", \"linecolor\": \"white\", \"ticks\": \"\"}, \"bgcolor\": \"#E5ECF6\", \"radialaxis\": {\"gridcolor\": \"white\", \"linecolor\": \"white\", \"ticks\": \"\"}}, \"scene\": {\"xaxis\": {\"backgroundcolor\": \"#E5ECF6\", \"gridcolor\": \"white\", \"gridwidth\": 2, \"linecolor\": \"white\", \"showbackground\": true, \"ticks\": \"\", \"zerolinecolor\": \"white\"}, \"yaxis\": {\"backgroundcolor\": \"#E5ECF6\", \"gridcolor\": \"white\", \"gridwidth\": 2, \"linecolor\": \"white\", \"showbackground\": true, \"ticks\": \"\", \"zerolinecolor\": \"white\"}, \"zaxis\": {\"backgroundcolor\": \"#E5ECF6\", \"gridcolor\": \"white\", \"gridwidth\": 2, \"linecolor\": \"white\", \"showbackground\": true, \"ticks\": \"\", \"zerolinecolor\": \"white\"}}, \"shapedefaults\": {\"line\": {\"color\": \"#2a3f5f\"}}, \"ternary\": {\"aaxis\": {\"gridcolor\": \"white\", \"linecolor\": \"white\", \"ticks\": \"\"}, \"baxis\": {\"gridcolor\": \"white\", \"linecolor\": \"white\", \"ticks\": \"\"}, \"bgcolor\": \"#E5ECF6\", \"caxis\": {\"gridcolor\": \"white\", \"linecolor\": \"white\", \"ticks\": \"\"}}, \"title\": {\"x\": 0.05}, \"xaxis\": {\"automargin\": true, \"gridcolor\": \"white\", \"linecolor\": \"white\", \"ticks\": \"\", \"title\": {\"standoff\": 15}, \"zerolinecolor\": \"white\", \"zerolinewidth\": 2}, \"yaxis\": {\"automargin\": true, \"gridcolor\": \"white\", \"linecolor\": \"white\", \"ticks\": \"\", \"title\": {\"standoff\": 15}, \"zerolinecolor\": \"white\", \"zerolinewidth\": 2}}}, \"xaxis\": {\"anchor\": \"y\", \"domain\": [0.0, 1.0], \"title\": {\"text\": \"WHO_REGION\"}}, \"yaxis\": {\"anchor\": \"x\", \"domain\": [0.0, 1.0], \"title\": {\"text\": \"NEW_DEATHS\"}}},\n",
              "                        {\"responsive\": true}\n",
              "                    ).then(function(){\n",
              "                            \n",
              "var gd = document.getElementById('20d22133-04b1-4e7a-951a-0e4db0c8d6bf');\n",
              "var x = new MutationObserver(function (mutations, observer) {{\n",
              "        var display = window.getComputedStyle(gd).display;\n",
              "        if (!display || display === 'none') {{\n",
              "            console.log([gd, 'removed!']);\n",
              "            Plotly.purge(gd);\n",
              "            observer.disconnect();\n",
              "        }}\n",
              "}});\n",
              "\n",
              "// Listen for the removal of the full notebook cells\n",
              "var notebookContainer = gd.closest('#notebook-container');\n",
              "if (notebookContainer) {{\n",
              "    x.observe(notebookContainer, {childList: true});\n",
              "}}\n",
              "\n",
              "// Listen for the clearing of the current output cell\n",
              "var outputEl = gd.closest('.output');\n",
              "if (outputEl) {{\n",
              "    x.observe(outputEl, {childList: true});\n",
              "}}\n",
              "\n",
              "                        })\n",
              "                };\n",
              "                \n",
              "            </script>\n",
              "        </div>\n",
              "</body>\n",
              "</html>"
            ]
          },
          "metadata": {}
        }
      ]
    },
    {
      "cell_type": "code",
      "metadata": {
        "colab": {
          "base_uri": "https://localhost:8080/",
          "height": 1000
        },
        "id": "QYYBRGEb8sJC",
        "outputId": "3552c1e1-a54f-440b-a131-879e24492605"
      },
      "source": [
        "df2 = df.loc[df['WHO_REGION'] == 'AFRO']\n",
        "df2 = df2.groupby('COUNTRY', as_index = False).sum()\n",
        "print(df2)\n",
        "fig = px.bar(df2, x='COUNTRY', y='NEW_CASES')\n",
        "fig.show()"
      ],
      "execution_count": null,
      "outputs": [
        {
          "output_type": "stream",
          "name": "stdout",
          "text": [
            "                             COUNTRY  NEW_CASES  NEW_DEATHS\n",
            "0                            Algeria     193171        5096\n",
            "1                             Angola      46539        1176\n",
            "2                              Benin      12492         127\n",
            "3                           Botswana     150842        2171\n",
            "4                       Burkina Faso      13737         171\n",
            "5                            Burundi      11818          10\n",
            "6                         Cabo Verde      34919         308\n",
            "7                           Cameroon      83425        1350\n",
            "8           Central African Republic      11270          99\n",
            "9                               Chad       4987         174\n",
            "10                           Comoros       4055         147\n",
            "11                             Congo      13533         183\n",
            "12                     Côte d’Ivoire      54038         413\n",
            "13  Democratic Republic of the Congo      54226        1057\n",
            "14                 Equatorial Guinea       9173         123\n",
            "15                           Eritrea       6635          37\n",
            "16                          Eswatini      41680        1042\n",
            "17                          Ethiopia     300092        4593\n",
            "18                             Gabon      25762         165\n",
            "19                            Gambia       9533         311\n",
            "20                             Ghana     115525         982\n",
            "21                            Guinea      29022         318\n",
            "22                     Guinea-Bissau       5634         110\n",
            "23                             Kenya     232052        4600\n",
            "24                           Lesotho      14388         403\n",
            "25                           Liberia       5538         245\n",
            "26                        Madagascar      42850         955\n",
            "27                            Malawi      59954        2111\n",
            "28                              Mali      14796         537\n",
            "29                        Mauritania      32486         684\n",
            "30                         Mauritius       8667          27\n",
            "31                           Mayotte      19726         175\n",
            "32                        Mozambique     144032        1822\n",
            "33                           Namibia     124032        3346\n",
            "34                             Niger       5807         198\n",
            "35                           Nigeria     188880        2288\n",
            "36                            Rwanda      84631        1048\n",
            "37                           Réunion      48683         332\n",
            "38                      Saint Helena          0           0\n",
            "39             Sao Tome and Principe       2555          37\n",
            "40                           Senegal      72215        1706\n",
            "41                        Seychelles      19806         102\n",
            "42                      Sierra Leone       6358         121\n",
            "43                      South Africa    2722202       80469\n",
            "44                       South Sudan      11347         120\n",
            "45                              Togo      20244         175\n",
            "46                            Uganda      98530        2968\n",
            "47       United Republic of Tanzania       1367          50\n",
            "48                            Zambia     205107        3586\n",
            "49                          Zimbabwe     123711        4338\n"
          ]
        },
        {
          "output_type": "display_data",
          "data": {
            "text/html": [
              "<html>\n",
              "<head><meta charset=\"utf-8\" /></head>\n",
              "<body>\n",
              "    <div>\n",
              "            <script src=\"https://cdnjs.cloudflare.com/ajax/libs/mathjax/2.7.5/MathJax.js?config=TeX-AMS-MML_SVG\"></script><script type=\"text/javascript\">if (window.MathJax) {MathJax.Hub.Config({SVG: {font: \"STIX-Web\"}});}</script>\n",
              "                <script type=\"text/javascript\">window.PlotlyConfig = {MathJaxConfig: 'local'};</script>\n",
              "        <script src=\"https://cdn.plot.ly/plotly-latest.min.js\"></script>    \n",
              "            <div id=\"696da9a5-25ad-486b-b7b2-dec9920c9d69\" class=\"plotly-graph-div\" style=\"height:525px; width:100%;\"></div>\n",
              "            <script type=\"text/javascript\">\n",
              "                \n",
              "                    window.PLOTLYENV=window.PLOTLYENV || {};\n",
              "                    \n",
              "                if (document.getElementById(\"696da9a5-25ad-486b-b7b2-dec9920c9d69\")) {\n",
              "                    Plotly.newPlot(\n",
              "                        '696da9a5-25ad-486b-b7b2-dec9920c9d69',\n",
              "                        [{\"alignmentgroup\": \"True\", \"hoverlabel\": {\"namelength\": 0}, \"hovertemplate\": \"COUNTRY=%{x}<br>NEW_CASES=%{y}\", \"legendgroup\": \"\", \"marker\": {\"color\": \"#636efa\"}, \"name\": \"\", \"offsetgroup\": \"\", \"orientation\": \"v\", \"showlegend\": false, \"textposition\": \"auto\", \"type\": \"bar\", \"x\": [\"Algeria\", \"Angola\", \"Benin\", \"Botswana\", \"Burkina Faso\", \"Burundi\", \"Cabo Verde\", \"Cameroon\", \"Central African Republic\", \"Chad\", \"Comoros\", \"Congo\", \"C\\u00f4te d\\u2019Ivoire\", \"Democratic Republic of the Congo\", \"Equatorial Guinea\", \"Eritrea\", \"Eswatini\", \"Ethiopia\", \"Gabon\", \"Gambia\", \"Ghana\", \"Guinea\", \"Guinea-Bissau\", \"Kenya\", \"Lesotho\", \"Liberia\", \"Madagascar\", \"Malawi\", \"Mali\", \"Mauritania\", \"Mauritius\", \"Mayotte\", \"Mozambique\", \"Namibia\", \"Niger\", \"Nigeria\", \"Rwanda\", \"R\\u00e9union\", \"Saint Helena\", \"Sao Tome and Principe\", \"Senegal\", \"Seychelles\", \"Sierra Leone\", \"South Africa\", \"South Sudan\", \"Togo\", \"Uganda\", \"United Republic of Tanzania\", \"Zambia\", \"Zimbabwe\"], \"xaxis\": \"x\", \"y\": [193171, 46539, 12492, 150842, 13737, 11818, 34919, 83425, 11270, 4987, 4055, 13533, 54038, 54226, 9173, 6635, 41680, 300092, 25762, 9533, 115525, 29022, 5634, 232052, 14388, 5538, 42850, 59954, 14796, 32486, 8667, 19726, 144032, 124032, 5807, 188880, 84631, 48683, 0, 2555, 72215, 19806, 6358, 2722202, 11347, 20244, 98530, 1367, 205107, 123711], \"yaxis\": \"y\"}],\n",
              "                        {\"barmode\": \"relative\", \"legend\": {\"tracegroupgap\": 0}, \"margin\": {\"t\": 60}, \"template\": {\"data\": {\"bar\": [{\"error_x\": {\"color\": \"#2a3f5f\"}, \"error_y\": {\"color\": \"#2a3f5f\"}, \"marker\": {\"line\": {\"color\": \"#E5ECF6\", \"width\": 0.5}}, \"type\": \"bar\"}], \"barpolar\": [{\"marker\": {\"line\": {\"color\": \"#E5ECF6\", \"width\": 0.5}}, \"type\": \"barpolar\"}], \"carpet\": [{\"aaxis\": {\"endlinecolor\": \"#2a3f5f\", \"gridcolor\": \"white\", \"linecolor\": \"white\", \"minorgridcolor\": \"white\", \"startlinecolor\": \"#2a3f5f\"}, \"baxis\": {\"endlinecolor\": \"#2a3f5f\", \"gridcolor\": \"white\", \"linecolor\": \"white\", \"minorgridcolor\": \"white\", \"startlinecolor\": \"#2a3f5f\"}, \"type\": \"carpet\"}], \"choropleth\": [{\"colorbar\": {\"outlinewidth\": 0, \"ticks\": \"\"}, \"type\": \"choropleth\"}], \"contour\": [{\"colorbar\": {\"outlinewidth\": 0, \"ticks\": \"\"}, \"colorscale\": [[0.0, \"#0d0887\"], [0.1111111111111111, \"#46039f\"], [0.2222222222222222, \"#7201a8\"], [0.3333333333333333, \"#9c179e\"], [0.4444444444444444, \"#bd3786\"], [0.5555555555555556, \"#d8576b\"], [0.6666666666666666, \"#ed7953\"], [0.7777777777777778, \"#fb9f3a\"], [0.8888888888888888, \"#fdca26\"], [1.0, \"#f0f921\"]], \"type\": \"contour\"}], \"contourcarpet\": [{\"colorbar\": {\"outlinewidth\": 0, \"ticks\": \"\"}, \"type\": \"contourcarpet\"}], \"heatmap\": [{\"colorbar\": {\"outlinewidth\": 0, \"ticks\": \"\"}, \"colorscale\": [[0.0, \"#0d0887\"], [0.1111111111111111, \"#46039f\"], [0.2222222222222222, \"#7201a8\"], [0.3333333333333333, \"#9c179e\"], [0.4444444444444444, \"#bd3786\"], [0.5555555555555556, \"#d8576b\"], [0.6666666666666666, \"#ed7953\"], [0.7777777777777778, \"#fb9f3a\"], [0.8888888888888888, \"#fdca26\"], [1.0, \"#f0f921\"]], \"type\": \"heatmap\"}], \"heatmapgl\": [{\"colorbar\": {\"outlinewidth\": 0, \"ticks\": \"\"}, \"colorscale\": [[0.0, \"#0d0887\"], [0.1111111111111111, \"#46039f\"], [0.2222222222222222, \"#7201a8\"], [0.3333333333333333, \"#9c179e\"], [0.4444444444444444, \"#bd3786\"], [0.5555555555555556, \"#d8576b\"], [0.6666666666666666, \"#ed7953\"], [0.7777777777777778, \"#fb9f3a\"], [0.8888888888888888, \"#fdca26\"], [1.0, \"#f0f921\"]], \"type\": \"heatmapgl\"}], \"histogram\": [{\"marker\": {\"colorbar\": {\"outlinewidth\": 0, \"ticks\": \"\"}}, \"type\": \"histogram\"}], \"histogram2d\": [{\"colorbar\": {\"outlinewidth\": 0, \"ticks\": \"\"}, \"colorscale\": [[0.0, \"#0d0887\"], [0.1111111111111111, \"#46039f\"], [0.2222222222222222, \"#7201a8\"], [0.3333333333333333, \"#9c179e\"], [0.4444444444444444, \"#bd3786\"], [0.5555555555555556, \"#d8576b\"], [0.6666666666666666, \"#ed7953\"], [0.7777777777777778, \"#fb9f3a\"], [0.8888888888888888, \"#fdca26\"], [1.0, \"#f0f921\"]], \"type\": \"histogram2d\"}], \"histogram2dcontour\": [{\"colorbar\": {\"outlinewidth\": 0, \"ticks\": \"\"}, \"colorscale\": [[0.0, \"#0d0887\"], [0.1111111111111111, \"#46039f\"], [0.2222222222222222, \"#7201a8\"], [0.3333333333333333, \"#9c179e\"], [0.4444444444444444, \"#bd3786\"], [0.5555555555555556, \"#d8576b\"], [0.6666666666666666, \"#ed7953\"], [0.7777777777777778, \"#fb9f3a\"], [0.8888888888888888, \"#fdca26\"], [1.0, \"#f0f921\"]], \"type\": \"histogram2dcontour\"}], \"mesh3d\": [{\"colorbar\": {\"outlinewidth\": 0, \"ticks\": \"\"}, \"type\": \"mesh3d\"}], \"parcoords\": [{\"line\": {\"colorbar\": {\"outlinewidth\": 0, \"ticks\": \"\"}}, \"type\": \"parcoords\"}], \"pie\": [{\"automargin\": true, \"type\": \"pie\"}], \"scatter\": [{\"marker\": {\"colorbar\": {\"outlinewidth\": 0, \"ticks\": \"\"}}, \"type\": \"scatter\"}], \"scatter3d\": [{\"line\": {\"colorbar\": {\"outlinewidth\": 0, \"ticks\": \"\"}}, \"marker\": {\"colorbar\": {\"outlinewidth\": 0, \"ticks\": \"\"}}, \"type\": \"scatter3d\"}], \"scattercarpet\": [{\"marker\": {\"colorbar\": {\"outlinewidth\": 0, \"ticks\": \"\"}}, \"type\": \"scattercarpet\"}], \"scattergeo\": [{\"marker\": {\"colorbar\": {\"outlinewidth\": 0, \"ticks\": \"\"}}, \"type\": \"scattergeo\"}], \"scattergl\": [{\"marker\": {\"colorbar\": {\"outlinewidth\": 0, \"ticks\": \"\"}}, \"type\": \"scattergl\"}], \"scattermapbox\": [{\"marker\": {\"colorbar\": {\"outlinewidth\": 0, \"ticks\": \"\"}}, \"type\": \"scattermapbox\"}], \"scatterpolar\": [{\"marker\": {\"colorbar\": {\"outlinewidth\": 0, \"ticks\": \"\"}}, \"type\": \"scatterpolar\"}], \"scatterpolargl\": [{\"marker\": {\"colorbar\": {\"outlinewidth\": 0, \"ticks\": \"\"}}, \"type\": \"scatterpolargl\"}], \"scatterternary\": [{\"marker\": {\"colorbar\": {\"outlinewidth\": 0, \"ticks\": \"\"}}, \"type\": \"scatterternary\"}], \"surface\": [{\"colorbar\": {\"outlinewidth\": 0, \"ticks\": \"\"}, \"colorscale\": [[0.0, \"#0d0887\"], [0.1111111111111111, \"#46039f\"], [0.2222222222222222, \"#7201a8\"], [0.3333333333333333, \"#9c179e\"], [0.4444444444444444, \"#bd3786\"], [0.5555555555555556, \"#d8576b\"], [0.6666666666666666, \"#ed7953\"], [0.7777777777777778, \"#fb9f3a\"], [0.8888888888888888, \"#fdca26\"], [1.0, \"#f0f921\"]], \"type\": \"surface\"}], \"table\": [{\"cells\": {\"fill\": {\"color\": \"#EBF0F8\"}, \"line\": {\"color\": \"white\"}}, \"header\": {\"fill\": {\"color\": \"#C8D4E3\"}, \"line\": {\"color\": \"white\"}}, \"type\": \"table\"}]}, \"layout\": {\"annotationdefaults\": {\"arrowcolor\": \"#2a3f5f\", \"arrowhead\": 0, \"arrowwidth\": 1}, \"coloraxis\": {\"colorbar\": {\"outlinewidth\": 0, \"ticks\": \"\"}}, \"colorscale\": {\"diverging\": [[0, \"#8e0152\"], [0.1, \"#c51b7d\"], [0.2, \"#de77ae\"], [0.3, \"#f1b6da\"], [0.4, \"#fde0ef\"], [0.5, \"#f7f7f7\"], [0.6, \"#e6f5d0\"], [0.7, \"#b8e186\"], [0.8, \"#7fbc41\"], [0.9, \"#4d9221\"], [1, \"#276419\"]], \"sequential\": [[0.0, \"#0d0887\"], [0.1111111111111111, \"#46039f\"], [0.2222222222222222, \"#7201a8\"], [0.3333333333333333, \"#9c179e\"], [0.4444444444444444, \"#bd3786\"], [0.5555555555555556, \"#d8576b\"], [0.6666666666666666, \"#ed7953\"], [0.7777777777777778, \"#fb9f3a\"], [0.8888888888888888, \"#fdca26\"], [1.0, \"#f0f921\"]], \"sequentialminus\": [[0.0, \"#0d0887\"], [0.1111111111111111, \"#46039f\"], [0.2222222222222222, \"#7201a8\"], [0.3333333333333333, \"#9c179e\"], [0.4444444444444444, \"#bd3786\"], [0.5555555555555556, \"#d8576b\"], [0.6666666666666666, \"#ed7953\"], [0.7777777777777778, \"#fb9f3a\"], [0.8888888888888888, \"#fdca26\"], [1.0, \"#f0f921\"]]}, \"colorway\": [\"#636efa\", \"#EF553B\", \"#00cc96\", \"#ab63fa\", \"#FFA15A\", \"#19d3f3\", \"#FF6692\", \"#B6E880\", \"#FF97FF\", \"#FECB52\"], \"font\": {\"color\": \"#2a3f5f\"}, \"geo\": {\"bgcolor\": \"white\", \"lakecolor\": \"white\", \"landcolor\": \"#E5ECF6\", \"showlakes\": true, \"showland\": true, \"subunitcolor\": \"white\"}, \"hoverlabel\": {\"align\": \"left\"}, \"hovermode\": \"closest\", \"mapbox\": {\"style\": \"light\"}, \"paper_bgcolor\": \"white\", \"plot_bgcolor\": \"#E5ECF6\", \"polar\": {\"angularaxis\": {\"gridcolor\": \"white\", \"linecolor\": \"white\", \"ticks\": \"\"}, \"bgcolor\": \"#E5ECF6\", \"radialaxis\": {\"gridcolor\": \"white\", \"linecolor\": \"white\", \"ticks\": \"\"}}, \"scene\": {\"xaxis\": {\"backgroundcolor\": \"#E5ECF6\", \"gridcolor\": \"white\", \"gridwidth\": 2, \"linecolor\": \"white\", \"showbackground\": true, \"ticks\": \"\", \"zerolinecolor\": \"white\"}, \"yaxis\": {\"backgroundcolor\": \"#E5ECF6\", \"gridcolor\": \"white\", \"gridwidth\": 2, \"linecolor\": \"white\", \"showbackground\": true, \"ticks\": \"\", \"zerolinecolor\": \"white\"}, \"zaxis\": {\"backgroundcolor\": \"#E5ECF6\", \"gridcolor\": \"white\", \"gridwidth\": 2, \"linecolor\": \"white\", \"showbackground\": true, \"ticks\": \"\", \"zerolinecolor\": \"white\"}}, \"shapedefaults\": {\"line\": {\"color\": \"#2a3f5f\"}}, \"ternary\": {\"aaxis\": {\"gridcolor\": \"white\", \"linecolor\": \"white\", \"ticks\": \"\"}, \"baxis\": {\"gridcolor\": \"white\", \"linecolor\": \"white\", \"ticks\": \"\"}, \"bgcolor\": \"#E5ECF6\", \"caxis\": {\"gridcolor\": \"white\", \"linecolor\": \"white\", \"ticks\": \"\"}}, \"title\": {\"x\": 0.05}, \"xaxis\": {\"automargin\": true, \"gridcolor\": \"white\", \"linecolor\": \"white\", \"ticks\": \"\", \"title\": {\"standoff\": 15}, \"zerolinecolor\": \"white\", \"zerolinewidth\": 2}, \"yaxis\": {\"automargin\": true, \"gridcolor\": \"white\", \"linecolor\": \"white\", \"ticks\": \"\", \"title\": {\"standoff\": 15}, \"zerolinecolor\": \"white\", \"zerolinewidth\": 2}}}, \"xaxis\": {\"anchor\": \"y\", \"domain\": [0.0, 1.0], \"title\": {\"text\": \"COUNTRY\"}}, \"yaxis\": {\"anchor\": \"x\", \"domain\": [0.0, 1.0], \"title\": {\"text\": \"NEW_CASES\"}}},\n",
              "                        {\"responsive\": true}\n",
              "                    ).then(function(){\n",
              "                            \n",
              "var gd = document.getElementById('696da9a5-25ad-486b-b7b2-dec9920c9d69');\n",
              "var x = new MutationObserver(function (mutations, observer) {{\n",
              "        var display = window.getComputedStyle(gd).display;\n",
              "        if (!display || display === 'none') {{\n",
              "            console.log([gd, 'removed!']);\n",
              "            Plotly.purge(gd);\n",
              "            observer.disconnect();\n",
              "        }}\n",
              "}});\n",
              "\n",
              "// Listen for the removal of the full notebook cells\n",
              "var notebookContainer = gd.closest('#notebook-container');\n",
              "if (notebookContainer) {{\n",
              "    x.observe(notebookContainer, {childList: true});\n",
              "}}\n",
              "\n",
              "// Listen for the clearing of the current output cell\n",
              "var outputEl = gd.closest('.output');\n",
              "if (outputEl) {{\n",
              "    x.observe(outputEl, {childList: true});\n",
              "}}\n",
              "\n",
              "                        })\n",
              "                };\n",
              "                \n",
              "            </script>\n",
              "        </div>\n",
              "</body>\n",
              "</html>"
            ]
          },
          "metadata": {}
        }
      ]
    },
    {
      "cell_type": "code",
      "metadata": {
        "colab": {
          "base_uri": "https://localhost:8080/",
          "height": 542
        },
        "id": "t1vSsJTm-IF6",
        "outputId": "492d0872-fd95-4068-d178-e3f20a1cf291"
      },
      "source": [
        "df2 = df.loc[df['WHO_REGION'] == 'AFRO']\n",
        "df2 = df2.groupby('COUNTRY', as_index = False).sum()\n",
        "fig = px.bar(df2, x='COUNTRY', y='NEW_DEATHS')\n",
        "fig.show()"
      ],
      "execution_count": null,
      "outputs": [
        {
          "output_type": "display_data",
          "data": {
            "text/html": [
              "<html>\n",
              "<head><meta charset=\"utf-8\" /></head>\n",
              "<body>\n",
              "    <div>\n",
              "            <script src=\"https://cdnjs.cloudflare.com/ajax/libs/mathjax/2.7.5/MathJax.js?config=TeX-AMS-MML_SVG\"></script><script type=\"text/javascript\">if (window.MathJax) {MathJax.Hub.Config({SVG: {font: \"STIX-Web\"}});}</script>\n",
              "                <script type=\"text/javascript\">window.PlotlyConfig = {MathJaxConfig: 'local'};</script>\n",
              "        <script src=\"https://cdn.plot.ly/plotly-latest.min.js\"></script>    \n",
              "            <div id=\"e0037c3c-cbb7-48c6-a8ce-0dd62bb5b316\" class=\"plotly-graph-div\" style=\"height:525px; width:100%;\"></div>\n",
              "            <script type=\"text/javascript\">\n",
              "                \n",
              "                    window.PLOTLYENV=window.PLOTLYENV || {};\n",
              "                    \n",
              "                if (document.getElementById(\"e0037c3c-cbb7-48c6-a8ce-0dd62bb5b316\")) {\n",
              "                    Plotly.newPlot(\n",
              "                        'e0037c3c-cbb7-48c6-a8ce-0dd62bb5b316',\n",
              "                        [{\"alignmentgroup\": \"True\", \"hoverlabel\": {\"namelength\": 0}, \"hovertemplate\": \"COUNTRY=%{x}<br>NEW_DEATHS=%{y}\", \"legendgroup\": \"\", \"marker\": {\"color\": \"#636efa\"}, \"name\": \"\", \"offsetgroup\": \"\", \"orientation\": \"v\", \"showlegend\": false, \"textposition\": \"auto\", \"type\": \"bar\", \"x\": [\"Algeria\", \"Angola\", \"Benin\", \"Botswana\", \"Burkina Faso\", \"Burundi\", \"Cabo Verde\", \"Cameroon\", \"Central African Republic\", \"Chad\", \"Comoros\", \"Congo\", \"C\\u00f4te d\\u2019Ivoire\", \"Democratic Republic of the Congo\", \"Equatorial Guinea\", \"Eritrea\", \"Eswatini\", \"Ethiopia\", \"Gabon\", \"Gambia\", \"Ghana\", \"Guinea\", \"Guinea-Bissau\", \"Kenya\", \"Lesotho\", \"Liberia\", \"Madagascar\", \"Malawi\", \"Mali\", \"Mauritania\", \"Mauritius\", \"Mayotte\", \"Mozambique\", \"Namibia\", \"Niger\", \"Nigeria\", \"Rwanda\", \"R\\u00e9union\", \"Saint Helena\", \"Sao Tome and Principe\", \"Senegal\", \"Seychelles\", \"Sierra Leone\", \"South Africa\", \"South Sudan\", \"Togo\", \"Uganda\", \"United Republic of Tanzania\", \"Zambia\", \"Zimbabwe\"], \"xaxis\": \"x\", \"y\": [5096, 1176, 127, 2171, 171, 10, 308, 1350, 99, 174, 147, 183, 413, 1057, 123, 37, 1042, 4593, 165, 311, 982, 318, 110, 4600, 403, 245, 955, 2111, 537, 684, 27, 175, 1822, 3346, 198, 2288, 1048, 332, 0, 37, 1706, 102, 121, 80469, 120, 175, 2968, 50, 3586, 4338], \"yaxis\": \"y\"}],\n",
              "                        {\"barmode\": \"relative\", \"legend\": {\"tracegroupgap\": 0}, \"margin\": {\"t\": 60}, \"template\": {\"data\": {\"bar\": [{\"error_x\": {\"color\": \"#2a3f5f\"}, \"error_y\": {\"color\": \"#2a3f5f\"}, \"marker\": {\"line\": {\"color\": \"#E5ECF6\", \"width\": 0.5}}, \"type\": \"bar\"}], \"barpolar\": [{\"marker\": {\"line\": {\"color\": \"#E5ECF6\", \"width\": 0.5}}, \"type\": \"barpolar\"}], \"carpet\": [{\"aaxis\": {\"endlinecolor\": \"#2a3f5f\", \"gridcolor\": \"white\", \"linecolor\": \"white\", \"minorgridcolor\": \"white\", \"startlinecolor\": \"#2a3f5f\"}, \"baxis\": {\"endlinecolor\": \"#2a3f5f\", \"gridcolor\": \"white\", \"linecolor\": \"white\", \"minorgridcolor\": \"white\", \"startlinecolor\": \"#2a3f5f\"}, \"type\": \"carpet\"}], \"choropleth\": [{\"colorbar\": {\"outlinewidth\": 0, \"ticks\": \"\"}, \"type\": \"choropleth\"}], \"contour\": [{\"colorbar\": {\"outlinewidth\": 0, \"ticks\": \"\"}, \"colorscale\": [[0.0, \"#0d0887\"], [0.1111111111111111, \"#46039f\"], [0.2222222222222222, \"#7201a8\"], [0.3333333333333333, \"#9c179e\"], [0.4444444444444444, \"#bd3786\"], [0.5555555555555556, \"#d8576b\"], [0.6666666666666666, \"#ed7953\"], [0.7777777777777778, \"#fb9f3a\"], [0.8888888888888888, \"#fdca26\"], [1.0, \"#f0f921\"]], \"type\": \"contour\"}], \"contourcarpet\": [{\"colorbar\": {\"outlinewidth\": 0, \"ticks\": \"\"}, \"type\": \"contourcarpet\"}], \"heatmap\": [{\"colorbar\": {\"outlinewidth\": 0, \"ticks\": \"\"}, \"colorscale\": [[0.0, \"#0d0887\"], [0.1111111111111111, \"#46039f\"], [0.2222222222222222, \"#7201a8\"], [0.3333333333333333, \"#9c179e\"], [0.4444444444444444, \"#bd3786\"], [0.5555555555555556, \"#d8576b\"], [0.6666666666666666, \"#ed7953\"], [0.7777777777777778, \"#fb9f3a\"], [0.8888888888888888, \"#fdca26\"], [1.0, \"#f0f921\"]], \"type\": \"heatmap\"}], \"heatmapgl\": [{\"colorbar\": {\"outlinewidth\": 0, \"ticks\": \"\"}, \"colorscale\": [[0.0, \"#0d0887\"], [0.1111111111111111, \"#46039f\"], [0.2222222222222222, \"#7201a8\"], [0.3333333333333333, \"#9c179e\"], [0.4444444444444444, \"#bd3786\"], [0.5555555555555556, \"#d8576b\"], [0.6666666666666666, \"#ed7953\"], [0.7777777777777778, \"#fb9f3a\"], [0.8888888888888888, \"#fdca26\"], [1.0, \"#f0f921\"]], \"type\": \"heatmapgl\"}], \"histogram\": [{\"marker\": {\"colorbar\": {\"outlinewidth\": 0, \"ticks\": \"\"}}, \"type\": \"histogram\"}], \"histogram2d\": [{\"colorbar\": {\"outlinewidth\": 0, \"ticks\": \"\"}, \"colorscale\": [[0.0, \"#0d0887\"], [0.1111111111111111, \"#46039f\"], [0.2222222222222222, \"#7201a8\"], [0.3333333333333333, \"#9c179e\"], [0.4444444444444444, \"#bd3786\"], [0.5555555555555556, \"#d8576b\"], [0.6666666666666666, \"#ed7953\"], [0.7777777777777778, \"#fb9f3a\"], [0.8888888888888888, \"#fdca26\"], [1.0, \"#f0f921\"]], \"type\": \"histogram2d\"}], \"histogram2dcontour\": [{\"colorbar\": {\"outlinewidth\": 0, \"ticks\": \"\"}, \"colorscale\": [[0.0, \"#0d0887\"], [0.1111111111111111, \"#46039f\"], [0.2222222222222222, \"#7201a8\"], [0.3333333333333333, \"#9c179e\"], [0.4444444444444444, \"#bd3786\"], [0.5555555555555556, \"#d8576b\"], [0.6666666666666666, \"#ed7953\"], [0.7777777777777778, \"#fb9f3a\"], [0.8888888888888888, \"#fdca26\"], [1.0, \"#f0f921\"]], \"type\": \"histogram2dcontour\"}], \"mesh3d\": [{\"colorbar\": {\"outlinewidth\": 0, \"ticks\": \"\"}, \"type\": \"mesh3d\"}], \"parcoords\": [{\"line\": {\"colorbar\": {\"outlinewidth\": 0, \"ticks\": \"\"}}, \"type\": \"parcoords\"}], \"pie\": [{\"automargin\": true, \"type\": \"pie\"}], \"scatter\": [{\"marker\": {\"colorbar\": {\"outlinewidth\": 0, \"ticks\": \"\"}}, \"type\": \"scatter\"}], \"scatter3d\": [{\"line\": {\"colorbar\": {\"outlinewidth\": 0, \"ticks\": \"\"}}, \"marker\": {\"colorbar\": {\"outlinewidth\": 0, \"ticks\": \"\"}}, \"type\": \"scatter3d\"}], \"scattercarpet\": [{\"marker\": {\"colorbar\": {\"outlinewidth\": 0, \"ticks\": \"\"}}, \"type\": \"scattercarpet\"}], \"scattergeo\": [{\"marker\": {\"colorbar\": {\"outlinewidth\": 0, \"ticks\": \"\"}}, \"type\": \"scattergeo\"}], \"scattergl\": [{\"marker\": {\"colorbar\": {\"outlinewidth\": 0, \"ticks\": \"\"}}, \"type\": \"scattergl\"}], \"scattermapbox\": [{\"marker\": {\"colorbar\": {\"outlinewidth\": 0, \"ticks\": \"\"}}, \"type\": \"scattermapbox\"}], \"scatterpolar\": [{\"marker\": {\"colorbar\": {\"outlinewidth\": 0, \"ticks\": \"\"}}, \"type\": \"scatterpolar\"}], \"scatterpolargl\": [{\"marker\": {\"colorbar\": {\"outlinewidth\": 0, \"ticks\": \"\"}}, \"type\": \"scatterpolargl\"}], \"scatterternary\": [{\"marker\": {\"colorbar\": {\"outlinewidth\": 0, \"ticks\": \"\"}}, \"type\": \"scatterternary\"}], \"surface\": [{\"colorbar\": {\"outlinewidth\": 0, \"ticks\": \"\"}, \"colorscale\": [[0.0, \"#0d0887\"], [0.1111111111111111, \"#46039f\"], [0.2222222222222222, \"#7201a8\"], [0.3333333333333333, \"#9c179e\"], [0.4444444444444444, \"#bd3786\"], [0.5555555555555556, \"#d8576b\"], [0.6666666666666666, \"#ed7953\"], [0.7777777777777778, \"#fb9f3a\"], [0.8888888888888888, \"#fdca26\"], [1.0, \"#f0f921\"]], \"type\": \"surface\"}], \"table\": [{\"cells\": {\"fill\": {\"color\": \"#EBF0F8\"}, \"line\": {\"color\": \"white\"}}, \"header\": {\"fill\": {\"color\": \"#C8D4E3\"}, \"line\": {\"color\": \"white\"}}, \"type\": \"table\"}]}, \"layout\": {\"annotationdefaults\": {\"arrowcolor\": \"#2a3f5f\", \"arrowhead\": 0, \"arrowwidth\": 1}, \"coloraxis\": {\"colorbar\": {\"outlinewidth\": 0, \"ticks\": \"\"}}, \"colorscale\": {\"diverging\": [[0, \"#8e0152\"], [0.1, \"#c51b7d\"], [0.2, \"#de77ae\"], [0.3, \"#f1b6da\"], [0.4, \"#fde0ef\"], [0.5, \"#f7f7f7\"], [0.6, \"#e6f5d0\"], [0.7, \"#b8e186\"], [0.8, \"#7fbc41\"], [0.9, \"#4d9221\"], [1, \"#276419\"]], \"sequential\": [[0.0, \"#0d0887\"], [0.1111111111111111, \"#46039f\"], [0.2222222222222222, \"#7201a8\"], [0.3333333333333333, \"#9c179e\"], [0.4444444444444444, \"#bd3786\"], [0.5555555555555556, \"#d8576b\"], [0.6666666666666666, \"#ed7953\"], [0.7777777777777778, \"#fb9f3a\"], [0.8888888888888888, \"#fdca26\"], [1.0, \"#f0f921\"]], \"sequentialminus\": [[0.0, \"#0d0887\"], [0.1111111111111111, \"#46039f\"], [0.2222222222222222, \"#7201a8\"], [0.3333333333333333, \"#9c179e\"], [0.4444444444444444, \"#bd3786\"], [0.5555555555555556, \"#d8576b\"], [0.6666666666666666, \"#ed7953\"], [0.7777777777777778, \"#fb9f3a\"], [0.8888888888888888, \"#fdca26\"], [1.0, \"#f0f921\"]]}, \"colorway\": [\"#636efa\", \"#EF553B\", \"#00cc96\", \"#ab63fa\", \"#FFA15A\", \"#19d3f3\", \"#FF6692\", \"#B6E880\", \"#FF97FF\", \"#FECB52\"], \"font\": {\"color\": \"#2a3f5f\"}, \"geo\": {\"bgcolor\": \"white\", \"lakecolor\": \"white\", \"landcolor\": \"#E5ECF6\", \"showlakes\": true, \"showland\": true, \"subunitcolor\": \"white\"}, \"hoverlabel\": {\"align\": \"left\"}, \"hovermode\": \"closest\", \"mapbox\": {\"style\": \"light\"}, \"paper_bgcolor\": \"white\", \"plot_bgcolor\": \"#E5ECF6\", \"polar\": {\"angularaxis\": {\"gridcolor\": \"white\", \"linecolor\": \"white\", \"ticks\": \"\"}, \"bgcolor\": \"#E5ECF6\", \"radialaxis\": {\"gridcolor\": \"white\", \"linecolor\": \"white\", \"ticks\": \"\"}}, \"scene\": {\"xaxis\": {\"backgroundcolor\": \"#E5ECF6\", \"gridcolor\": \"white\", \"gridwidth\": 2, \"linecolor\": \"white\", \"showbackground\": true, \"ticks\": \"\", \"zerolinecolor\": \"white\"}, \"yaxis\": {\"backgroundcolor\": \"#E5ECF6\", \"gridcolor\": \"white\", \"gridwidth\": 2, \"linecolor\": \"white\", \"showbackground\": true, \"ticks\": \"\", \"zerolinecolor\": \"white\"}, \"zaxis\": {\"backgroundcolor\": \"#E5ECF6\", \"gridcolor\": \"white\", \"gridwidth\": 2, \"linecolor\": \"white\", \"showbackground\": true, \"ticks\": \"\", \"zerolinecolor\": \"white\"}}, \"shapedefaults\": {\"line\": {\"color\": \"#2a3f5f\"}}, \"ternary\": {\"aaxis\": {\"gridcolor\": \"white\", \"linecolor\": \"white\", \"ticks\": \"\"}, \"baxis\": {\"gridcolor\": \"white\", \"linecolor\": \"white\", \"ticks\": \"\"}, \"bgcolor\": \"#E5ECF6\", \"caxis\": {\"gridcolor\": \"white\", \"linecolor\": \"white\", \"ticks\": \"\"}}, \"title\": {\"x\": 0.05}, \"xaxis\": {\"automargin\": true, \"gridcolor\": \"white\", \"linecolor\": \"white\", \"ticks\": \"\", \"title\": {\"standoff\": 15}, \"zerolinecolor\": \"white\", \"zerolinewidth\": 2}, \"yaxis\": {\"automargin\": true, \"gridcolor\": \"white\", \"linecolor\": \"white\", \"ticks\": \"\", \"title\": {\"standoff\": 15}, \"zerolinecolor\": \"white\", \"zerolinewidth\": 2}}}, \"xaxis\": {\"anchor\": \"y\", \"domain\": [0.0, 1.0], \"title\": {\"text\": \"COUNTRY\"}}, \"yaxis\": {\"anchor\": \"x\", \"domain\": [0.0, 1.0], \"title\": {\"text\": \"NEW_DEATHS\"}}},\n",
              "                        {\"responsive\": true}\n",
              "                    ).then(function(){\n",
              "                            \n",
              "var gd = document.getElementById('e0037c3c-cbb7-48c6-a8ce-0dd62bb5b316');\n",
              "var x = new MutationObserver(function (mutations, observer) {{\n",
              "        var display = window.getComputedStyle(gd).display;\n",
              "        if (!display || display === 'none') {{\n",
              "            console.log([gd, 'removed!']);\n",
              "            Plotly.purge(gd);\n",
              "            observer.disconnect();\n",
              "        }}\n",
              "}});\n",
              "\n",
              "// Listen for the removal of the full notebook cells\n",
              "var notebookContainer = gd.closest('#notebook-container');\n",
              "if (notebookContainer) {{\n",
              "    x.observe(notebookContainer, {childList: true});\n",
              "}}\n",
              "\n",
              "// Listen for the clearing of the current output cell\n",
              "var outputEl = gd.closest('.output');\n",
              "if (outputEl) {{\n",
              "    x.observe(outputEl, {childList: true});\n",
              "}}\n",
              "\n",
              "                        })\n",
              "                };\n",
              "                \n",
              "            </script>\n",
              "        </div>\n",
              "</body>\n",
              "</html>"
            ]
          },
          "metadata": {}
        }
      ]
    },
    {
      "cell_type": "code",
      "metadata": {
        "colab": {
          "base_uri": "https://localhost:8080/",
          "height": 1000
        },
        "id": "9VuECjd1_A8Z",
        "outputId": "353065ff-cd18-4905-ed55-d8d23777f020"
      },
      "source": [
        "df2 = df.loc[df['WHO_REGION'] == 'AMRO']\n",
        "df2 = df2.groupby('COUNTRY', as_index = False).sum()\n",
        "print(df2)\n",
        "fig = px.bar(df2, x='COUNTRY', y='NEW_CASES')\n",
        "fig.show()"
      ],
      "execution_count": null,
      "outputs": [
        {
          "output_type": "stream",
          "name": "stdout",
          "text": [
            "                               COUNTRY  NEW_CASES  NEW_DEATHS\n",
            "0                             Anguilla        174           0\n",
            "1                  Antigua and Barbuda       1540          43\n",
            "2                            Argentina    5148085      110806\n",
            "3                                Aruba      14153         128\n",
            "4                              Bahamas      17615         343\n",
            "5                             Barbados       4694          48\n",
            "6                               Belize      15683         355\n",
            "7                              Bermuda       2792          33\n",
            "8     Bolivia (Plurinational State of)     487721       18330\n",
            "9                              Bonaire       1745          17\n",
            "10                              Brazil   20614866      575742\n",
            "11              British Virgin Islands       2568          37\n",
            "12                              Canada    1476149       26849\n",
            "13                      Cayman Islands        669           2\n",
            "14                               Chile    1635173       36718\n",
            "15                            Colombia    4894702      124388\n",
            "16                          Costa Rica     447672        5378\n",
            "17                                Cuba     611163        4806\n",
            "18                             Curaçao      15045         140\n",
            "19                            Dominica       1339           1\n",
            "20                  Dominican Republic     348566        4006\n",
            "21                             Ecuador     499196       32104\n",
            "22                         El Salvador      94060        2863\n",
            "23         Falkland Islands (Malvinas)         64           0\n",
            "24                       French Guiana      33722         208\n",
            "25                             Grenada        230           1\n",
            "26                          Guadeloupe      37955         427\n",
            "27                           Guatemala     444924       11552\n",
            "28                              Guyana      24506         601\n",
            "29                               Haiti      20833         584\n",
            "30                            Honduras     331372        8704\n",
            "31                             Jamaica      63831        1431\n",
            "32                          Martinique      34722         291\n",
            "33                              Mexico    3249878      254466\n",
            "34                          Montserrat         25           1\n",
            "35                           Nicaragua       8867         199\n",
            "36                              Panama     453466        7018\n",
            "37                            Paraguay     457971       15613\n",
            "38                                Peru    2143691      197944\n",
            "39                         Puerto Rico     165899        2778\n",
            "40                                Saba         10           0\n",
            "41                    Saint Barthélemy       1553           1\n",
            "42               Saint Kitts and Nevis        929           3\n",
            "43                         Saint Lucia       7421          99\n",
            "44                        Saint Martin       3147          17\n",
            "45           Saint Pierre and Miquelon         30           0\n",
            "46    Saint Vincent and the Grenadines       2321          12\n",
            "47                      Sint Eustatius         24           0\n",
            "48                        Sint Maarten       3520          46\n",
            "49                            Suriname      27776         704\n",
            "50                 Trinidad and Tobago      43344        1244\n",
            "51            Turks and Caicos Islands       2616          20\n",
            "52        United States Virgin Islands       5684          51\n",
            "53            United States of America   37969371      626163\n",
            "54                             Uruguay     384287        6020\n",
            "55  Venezuela (Bolivarian Republic of)     327450        3924\n"
          ]
        },
        {
          "output_type": "display_data",
          "data": {
            "text/html": [
              "<html>\n",
              "<head><meta charset=\"utf-8\" /></head>\n",
              "<body>\n",
              "    <div>\n",
              "            <script src=\"https://cdnjs.cloudflare.com/ajax/libs/mathjax/2.7.5/MathJax.js?config=TeX-AMS-MML_SVG\"></script><script type=\"text/javascript\">if (window.MathJax) {MathJax.Hub.Config({SVG: {font: \"STIX-Web\"}});}</script>\n",
              "                <script type=\"text/javascript\">window.PlotlyConfig = {MathJaxConfig: 'local'};</script>\n",
              "        <script src=\"https://cdn.plot.ly/plotly-latest.min.js\"></script>    \n",
              "            <div id=\"9c0845e8-4a57-4448-b6ec-a1bef51aa56c\" class=\"plotly-graph-div\" style=\"height:525px; width:100%;\"></div>\n",
              "            <script type=\"text/javascript\">\n",
              "                \n",
              "                    window.PLOTLYENV=window.PLOTLYENV || {};\n",
              "                    \n",
              "                if (document.getElementById(\"9c0845e8-4a57-4448-b6ec-a1bef51aa56c\")) {\n",
              "                    Plotly.newPlot(\n",
              "                        '9c0845e8-4a57-4448-b6ec-a1bef51aa56c',\n",
              "                        [{\"alignmentgroup\": \"True\", \"hoverlabel\": {\"namelength\": 0}, \"hovertemplate\": \"COUNTRY=%{x}<br>NEW_CASES=%{y}\", \"legendgroup\": \"\", \"marker\": {\"color\": \"#636efa\"}, \"name\": \"\", \"offsetgroup\": \"\", \"orientation\": \"v\", \"showlegend\": false, \"textposition\": \"auto\", \"type\": \"bar\", \"x\": [\"Anguilla\", \"Antigua and Barbuda\", \"Argentina\", \"Aruba\", \"Bahamas\", \"Barbados\", \"Belize\", \"Bermuda\", \"Bolivia (Plurinational State of)\", \"Bonaire\", \"Brazil\", \"British Virgin Islands\", \"Canada\", \"Cayman Islands\", \"Chile\", \"Colombia\", \"Costa Rica\", \"Cuba\", \"Cura\\u00e7ao\", \"Dominica\", \"Dominican Republic\", \"Ecuador\", \"El Salvador\", \"Falkland Islands (Malvinas)\", \"French Guiana\", \"Grenada\", \"Guadeloupe\", \"Guatemala\", \"Guyana\", \"Haiti\", \"Honduras\", \"Jamaica\", \"Martinique\", \"Mexico\", \"Montserrat\", \"Nicaragua\", \"Panama\", \"Paraguay\", \"Peru\", \"Puerto Rico\", \"Saba\", \"Saint Barth\\u00e9lemy\", \"Saint Kitts and Nevis\", \"Saint Lucia\", \"Saint Martin\", \"Saint Pierre and Miquelon\", \"Saint Vincent and the Grenadines\", \"Sint Eustatius\", \"Sint Maarten\", \"Suriname\", \"Trinidad and Tobago\", \"Turks and Caicos Islands\", \"United States Virgin Islands\", \"United States of America\", \"Uruguay\", \"Venezuela (Bolivarian Republic of)\"], \"xaxis\": \"x\", \"y\": [174, 1540, 5148085, 14153, 17615, 4694, 15683, 2792, 487721, 1745, 20614866, 2568, 1476149, 669, 1635173, 4894702, 447672, 611163, 15045, 1339, 348566, 499196, 94060, 64, 33722, 230, 37955, 444924, 24506, 20833, 331372, 63831, 34722, 3249878, 25, 8867, 453466, 457971, 2143691, 165899, 10, 1553, 929, 7421, 3147, 30, 2321, 24, 3520, 27776, 43344, 2616, 5684, 37969371, 384287, 327450], \"yaxis\": \"y\"}],\n",
              "                        {\"barmode\": \"relative\", \"legend\": {\"tracegroupgap\": 0}, \"margin\": {\"t\": 60}, \"template\": {\"data\": {\"bar\": [{\"error_x\": {\"color\": \"#2a3f5f\"}, \"error_y\": {\"color\": \"#2a3f5f\"}, \"marker\": {\"line\": {\"color\": \"#E5ECF6\", \"width\": 0.5}}, \"type\": \"bar\"}], \"barpolar\": [{\"marker\": {\"line\": {\"color\": \"#E5ECF6\", \"width\": 0.5}}, \"type\": \"barpolar\"}], \"carpet\": [{\"aaxis\": {\"endlinecolor\": \"#2a3f5f\", \"gridcolor\": \"white\", \"linecolor\": \"white\", \"minorgridcolor\": \"white\", \"startlinecolor\": \"#2a3f5f\"}, \"baxis\": {\"endlinecolor\": \"#2a3f5f\", \"gridcolor\": \"white\", \"linecolor\": \"white\", \"minorgridcolor\": \"white\", \"startlinecolor\": \"#2a3f5f\"}, \"type\": \"carpet\"}], \"choropleth\": [{\"colorbar\": {\"outlinewidth\": 0, \"ticks\": \"\"}, \"type\": \"choropleth\"}], \"contour\": [{\"colorbar\": {\"outlinewidth\": 0, \"ticks\": \"\"}, \"colorscale\": [[0.0, \"#0d0887\"], [0.1111111111111111, \"#46039f\"], [0.2222222222222222, \"#7201a8\"], [0.3333333333333333, \"#9c179e\"], [0.4444444444444444, \"#bd3786\"], [0.5555555555555556, \"#d8576b\"], [0.6666666666666666, \"#ed7953\"], [0.7777777777777778, \"#fb9f3a\"], [0.8888888888888888, \"#fdca26\"], [1.0, \"#f0f921\"]], \"type\": \"contour\"}], \"contourcarpet\": [{\"colorbar\": {\"outlinewidth\": 0, \"ticks\": \"\"}, \"type\": \"contourcarpet\"}], \"heatmap\": [{\"colorbar\": {\"outlinewidth\": 0, \"ticks\": \"\"}, \"colorscale\": [[0.0, \"#0d0887\"], [0.1111111111111111, \"#46039f\"], [0.2222222222222222, \"#7201a8\"], [0.3333333333333333, \"#9c179e\"], [0.4444444444444444, \"#bd3786\"], [0.5555555555555556, \"#d8576b\"], [0.6666666666666666, \"#ed7953\"], [0.7777777777777778, \"#fb9f3a\"], [0.8888888888888888, \"#fdca26\"], [1.0, \"#f0f921\"]], \"type\": \"heatmap\"}], \"heatmapgl\": [{\"colorbar\": {\"outlinewidth\": 0, \"ticks\": \"\"}, \"colorscale\": [[0.0, \"#0d0887\"], [0.1111111111111111, \"#46039f\"], [0.2222222222222222, \"#7201a8\"], [0.3333333333333333, \"#9c179e\"], [0.4444444444444444, \"#bd3786\"], [0.5555555555555556, \"#d8576b\"], [0.6666666666666666, \"#ed7953\"], [0.7777777777777778, \"#fb9f3a\"], [0.8888888888888888, \"#fdca26\"], [1.0, \"#f0f921\"]], \"type\": \"heatmapgl\"}], \"histogram\": [{\"marker\": {\"colorbar\": {\"outlinewidth\": 0, \"ticks\": \"\"}}, \"type\": \"histogram\"}], \"histogram2d\": [{\"colorbar\": {\"outlinewidth\": 0, \"ticks\": \"\"}, \"colorscale\": [[0.0, \"#0d0887\"], [0.1111111111111111, \"#46039f\"], [0.2222222222222222, \"#7201a8\"], [0.3333333333333333, \"#9c179e\"], [0.4444444444444444, \"#bd3786\"], [0.5555555555555556, \"#d8576b\"], [0.6666666666666666, \"#ed7953\"], [0.7777777777777778, \"#fb9f3a\"], [0.8888888888888888, \"#fdca26\"], [1.0, \"#f0f921\"]], \"type\": \"histogram2d\"}], \"histogram2dcontour\": [{\"colorbar\": {\"outlinewidth\": 0, \"ticks\": \"\"}, \"colorscale\": [[0.0, \"#0d0887\"], [0.1111111111111111, \"#46039f\"], [0.2222222222222222, \"#7201a8\"], [0.3333333333333333, \"#9c179e\"], [0.4444444444444444, \"#bd3786\"], [0.5555555555555556, \"#d8576b\"], [0.6666666666666666, \"#ed7953\"], [0.7777777777777778, \"#fb9f3a\"], [0.8888888888888888, \"#fdca26\"], [1.0, \"#f0f921\"]], \"type\": \"histogram2dcontour\"}], \"mesh3d\": [{\"colorbar\": {\"outlinewidth\": 0, \"ticks\": \"\"}, \"type\": \"mesh3d\"}], \"parcoords\": [{\"line\": {\"colorbar\": {\"outlinewidth\": 0, \"ticks\": \"\"}}, \"type\": \"parcoords\"}], \"pie\": [{\"automargin\": true, \"type\": \"pie\"}], \"scatter\": [{\"marker\": {\"colorbar\": {\"outlinewidth\": 0, \"ticks\": \"\"}}, \"type\": \"scatter\"}], \"scatter3d\": [{\"line\": {\"colorbar\": {\"outlinewidth\": 0, \"ticks\": \"\"}}, \"marker\": {\"colorbar\": {\"outlinewidth\": 0, \"ticks\": \"\"}}, \"type\": \"scatter3d\"}], \"scattercarpet\": [{\"marker\": {\"colorbar\": {\"outlinewidth\": 0, \"ticks\": \"\"}}, \"type\": \"scattercarpet\"}], \"scattergeo\": [{\"marker\": {\"colorbar\": {\"outlinewidth\": 0, \"ticks\": \"\"}}, \"type\": \"scattergeo\"}], \"scattergl\": [{\"marker\": {\"colorbar\": {\"outlinewidth\": 0, \"ticks\": \"\"}}, \"type\": \"scattergl\"}], \"scattermapbox\": [{\"marker\": {\"colorbar\": {\"outlinewidth\": 0, \"ticks\": \"\"}}, \"type\": \"scattermapbox\"}], \"scatterpolar\": [{\"marker\": {\"colorbar\": {\"outlinewidth\": 0, \"ticks\": \"\"}}, \"type\": \"scatterpolar\"}], \"scatterpolargl\": [{\"marker\": {\"colorbar\": {\"outlinewidth\": 0, \"ticks\": \"\"}}, \"type\": \"scatterpolargl\"}], \"scatterternary\": [{\"marker\": {\"colorbar\": {\"outlinewidth\": 0, \"ticks\": \"\"}}, \"type\": \"scatterternary\"}], \"surface\": [{\"colorbar\": {\"outlinewidth\": 0, \"ticks\": \"\"}, \"colorscale\": [[0.0, \"#0d0887\"], [0.1111111111111111, \"#46039f\"], [0.2222222222222222, \"#7201a8\"], [0.3333333333333333, \"#9c179e\"], [0.4444444444444444, \"#bd3786\"], [0.5555555555555556, \"#d8576b\"], [0.6666666666666666, \"#ed7953\"], [0.7777777777777778, \"#fb9f3a\"], [0.8888888888888888, \"#fdca26\"], [1.0, \"#f0f921\"]], \"type\": \"surface\"}], \"table\": [{\"cells\": {\"fill\": {\"color\": \"#EBF0F8\"}, \"line\": {\"color\": \"white\"}}, \"header\": {\"fill\": {\"color\": \"#C8D4E3\"}, \"line\": {\"color\": \"white\"}}, \"type\": \"table\"}]}, \"layout\": {\"annotationdefaults\": {\"arrowcolor\": \"#2a3f5f\", \"arrowhead\": 0, \"arrowwidth\": 1}, \"coloraxis\": {\"colorbar\": {\"outlinewidth\": 0, \"ticks\": \"\"}}, \"colorscale\": {\"diverging\": [[0, \"#8e0152\"], [0.1, \"#c51b7d\"], [0.2, \"#de77ae\"], [0.3, \"#f1b6da\"], [0.4, \"#fde0ef\"], [0.5, \"#f7f7f7\"], [0.6, \"#e6f5d0\"], [0.7, \"#b8e186\"], [0.8, \"#7fbc41\"], [0.9, \"#4d9221\"], [1, \"#276419\"]], \"sequential\": [[0.0, \"#0d0887\"], [0.1111111111111111, \"#46039f\"], [0.2222222222222222, \"#7201a8\"], [0.3333333333333333, \"#9c179e\"], [0.4444444444444444, \"#bd3786\"], [0.5555555555555556, \"#d8576b\"], [0.6666666666666666, \"#ed7953\"], [0.7777777777777778, \"#fb9f3a\"], [0.8888888888888888, \"#fdca26\"], [1.0, \"#f0f921\"]], \"sequentialminus\": [[0.0, \"#0d0887\"], [0.1111111111111111, \"#46039f\"], [0.2222222222222222, \"#7201a8\"], [0.3333333333333333, \"#9c179e\"], [0.4444444444444444, \"#bd3786\"], [0.5555555555555556, \"#d8576b\"], [0.6666666666666666, \"#ed7953\"], [0.7777777777777778, \"#fb9f3a\"], [0.8888888888888888, \"#fdca26\"], [1.0, \"#f0f921\"]]}, \"colorway\": [\"#636efa\", \"#EF553B\", \"#00cc96\", \"#ab63fa\", \"#FFA15A\", \"#19d3f3\", \"#FF6692\", \"#B6E880\", \"#FF97FF\", \"#FECB52\"], \"font\": {\"color\": \"#2a3f5f\"}, \"geo\": {\"bgcolor\": \"white\", \"lakecolor\": \"white\", \"landcolor\": \"#E5ECF6\", \"showlakes\": true, \"showland\": true, \"subunitcolor\": \"white\"}, \"hoverlabel\": {\"align\": \"left\"}, \"hovermode\": \"closest\", \"mapbox\": {\"style\": \"light\"}, \"paper_bgcolor\": \"white\", \"plot_bgcolor\": \"#E5ECF6\", \"polar\": {\"angularaxis\": {\"gridcolor\": \"white\", \"linecolor\": \"white\", \"ticks\": \"\"}, \"bgcolor\": \"#E5ECF6\", \"radialaxis\": {\"gridcolor\": \"white\", \"linecolor\": \"white\", \"ticks\": \"\"}}, \"scene\": {\"xaxis\": {\"backgroundcolor\": \"#E5ECF6\", \"gridcolor\": \"white\", \"gridwidth\": 2, \"linecolor\": \"white\", \"showbackground\": true, \"ticks\": \"\", \"zerolinecolor\": \"white\"}, \"yaxis\": {\"backgroundcolor\": \"#E5ECF6\", \"gridcolor\": \"white\", \"gridwidth\": 2, \"linecolor\": \"white\", \"showbackground\": true, \"ticks\": \"\", \"zerolinecolor\": \"white\"}, \"zaxis\": {\"backgroundcolor\": \"#E5ECF6\", \"gridcolor\": \"white\", \"gridwidth\": 2, \"linecolor\": \"white\", \"showbackground\": true, \"ticks\": \"\", \"zerolinecolor\": \"white\"}}, \"shapedefaults\": {\"line\": {\"color\": \"#2a3f5f\"}}, \"ternary\": {\"aaxis\": {\"gridcolor\": \"white\", \"linecolor\": \"white\", \"ticks\": \"\"}, \"baxis\": {\"gridcolor\": \"white\", \"linecolor\": \"white\", \"ticks\": \"\"}, \"bgcolor\": \"#E5ECF6\", \"caxis\": {\"gridcolor\": \"white\", \"linecolor\": \"white\", \"ticks\": \"\"}}, \"title\": {\"x\": 0.05}, \"xaxis\": {\"automargin\": true, \"gridcolor\": \"white\", \"linecolor\": \"white\", \"ticks\": \"\", \"title\": {\"standoff\": 15}, \"zerolinecolor\": \"white\", \"zerolinewidth\": 2}, \"yaxis\": {\"automargin\": true, \"gridcolor\": \"white\", \"linecolor\": \"white\", \"ticks\": \"\", \"title\": {\"standoff\": 15}, \"zerolinecolor\": \"white\", \"zerolinewidth\": 2}}}, \"xaxis\": {\"anchor\": \"y\", \"domain\": [0.0, 1.0], \"title\": {\"text\": \"COUNTRY\"}}, \"yaxis\": {\"anchor\": \"x\", \"domain\": [0.0, 1.0], \"title\": {\"text\": \"NEW_CASES\"}}},\n",
              "                        {\"responsive\": true}\n",
              "                    ).then(function(){\n",
              "                            \n",
              "var gd = document.getElementById('9c0845e8-4a57-4448-b6ec-a1bef51aa56c');\n",
              "var x = new MutationObserver(function (mutations, observer) {{\n",
              "        var display = window.getComputedStyle(gd).display;\n",
              "        if (!display || display === 'none') {{\n",
              "            console.log([gd, 'removed!']);\n",
              "            Plotly.purge(gd);\n",
              "            observer.disconnect();\n",
              "        }}\n",
              "}});\n",
              "\n",
              "// Listen for the removal of the full notebook cells\n",
              "var notebookContainer = gd.closest('#notebook-container');\n",
              "if (notebookContainer) {{\n",
              "    x.observe(notebookContainer, {childList: true});\n",
              "}}\n",
              "\n",
              "// Listen for the clearing of the current output cell\n",
              "var outputEl = gd.closest('.output');\n",
              "if (outputEl) {{\n",
              "    x.observe(outputEl, {childList: true});\n",
              "}}\n",
              "\n",
              "                        })\n",
              "                };\n",
              "                \n",
              "            </script>\n",
              "        </div>\n",
              "</body>\n",
              "</html>"
            ]
          },
          "metadata": {}
        }
      ]
    },
    {
      "cell_type": "code",
      "metadata": {
        "colab": {
          "base_uri": "https://localhost:8080/",
          "height": 542
        },
        "id": "cy_L3fOq_uai",
        "outputId": "8c8e58a1-764d-4ee3-feaa-cd5bc79a81f9"
      },
      "source": [
        "df2 = df.loc[df['WHO_REGION'] == 'AMRO']\n",
        "df2 = df2.groupby('COUNTRY', as_index = False).sum()\n",
        "fig = px.bar(df2, x='COUNTRY', y='NEW_DEATHS')\n",
        "fig.show()"
      ],
      "execution_count": null,
      "outputs": [
        {
          "output_type": "display_data",
          "data": {
            "text/html": [
              "<html>\n",
              "<head><meta charset=\"utf-8\" /></head>\n",
              "<body>\n",
              "    <div>\n",
              "            <script src=\"https://cdnjs.cloudflare.com/ajax/libs/mathjax/2.7.5/MathJax.js?config=TeX-AMS-MML_SVG\"></script><script type=\"text/javascript\">if (window.MathJax) {MathJax.Hub.Config({SVG: {font: \"STIX-Web\"}});}</script>\n",
              "                <script type=\"text/javascript\">window.PlotlyConfig = {MathJaxConfig: 'local'};</script>\n",
              "        <script src=\"https://cdn.plot.ly/plotly-latest.min.js\"></script>    \n",
              "            <div id=\"47630f22-39a6-4529-bb3f-cf7e38134db7\" class=\"plotly-graph-div\" style=\"height:525px; width:100%;\"></div>\n",
              "            <script type=\"text/javascript\">\n",
              "                \n",
              "                    window.PLOTLYENV=window.PLOTLYENV || {};\n",
              "                    \n",
              "                if (document.getElementById(\"47630f22-39a6-4529-bb3f-cf7e38134db7\")) {\n",
              "                    Plotly.newPlot(\n",
              "                        '47630f22-39a6-4529-bb3f-cf7e38134db7',\n",
              "                        [{\"alignmentgroup\": \"True\", \"hoverlabel\": {\"namelength\": 0}, \"hovertemplate\": \"COUNTRY=%{x}<br>NEW_DEATHS=%{y}\", \"legendgroup\": \"\", \"marker\": {\"color\": \"#636efa\"}, \"name\": \"\", \"offsetgroup\": \"\", \"orientation\": \"v\", \"showlegend\": false, \"textposition\": \"auto\", \"type\": \"bar\", \"x\": [\"Anguilla\", \"Antigua and Barbuda\", \"Argentina\", \"Aruba\", \"Bahamas\", \"Barbados\", \"Belize\", \"Bermuda\", \"Bolivia (Plurinational State of)\", \"Bonaire\", \"Brazil\", \"British Virgin Islands\", \"Canada\", \"Cayman Islands\", \"Chile\", \"Colombia\", \"Costa Rica\", \"Cuba\", \"Cura\\u00e7ao\", \"Dominica\", \"Dominican Republic\", \"Ecuador\", \"El Salvador\", \"Falkland Islands (Malvinas)\", \"French Guiana\", \"Grenada\", \"Guadeloupe\", \"Guatemala\", \"Guyana\", \"Haiti\", \"Honduras\", \"Jamaica\", \"Martinique\", \"Mexico\", \"Montserrat\", \"Nicaragua\", \"Panama\", \"Paraguay\", \"Peru\", \"Puerto Rico\", \"Saba\", \"Saint Barth\\u00e9lemy\", \"Saint Kitts and Nevis\", \"Saint Lucia\", \"Saint Martin\", \"Saint Pierre and Miquelon\", \"Saint Vincent and the Grenadines\", \"Sint Eustatius\", \"Sint Maarten\", \"Suriname\", \"Trinidad and Tobago\", \"Turks and Caicos Islands\", \"United States Virgin Islands\", \"United States of America\", \"Uruguay\", \"Venezuela (Bolivarian Republic of)\"], \"xaxis\": \"x\", \"y\": [0, 43, 110806, 128, 343, 48, 355, 33, 18330, 17, 575742, 37, 26849, 2, 36718, 124388, 5378, 4806, 140, 1, 4006, 32104, 2863, 0, 208, 1, 427, 11552, 601, 584, 8704, 1431, 291, 254466, 1, 199, 7018, 15613, 197944, 2778, 0, 1, 3, 99, 17, 0, 12, 0, 46, 704, 1244, 20, 51, 626163, 6020, 3924], \"yaxis\": \"y\"}],\n",
              "                        {\"barmode\": \"relative\", \"legend\": {\"tracegroupgap\": 0}, \"margin\": {\"t\": 60}, \"template\": {\"data\": {\"bar\": [{\"error_x\": {\"color\": \"#2a3f5f\"}, \"error_y\": {\"color\": \"#2a3f5f\"}, \"marker\": {\"line\": {\"color\": \"#E5ECF6\", \"width\": 0.5}}, \"type\": \"bar\"}], \"barpolar\": [{\"marker\": {\"line\": {\"color\": \"#E5ECF6\", \"width\": 0.5}}, \"type\": \"barpolar\"}], \"carpet\": [{\"aaxis\": {\"endlinecolor\": \"#2a3f5f\", \"gridcolor\": \"white\", \"linecolor\": \"white\", \"minorgridcolor\": \"white\", \"startlinecolor\": \"#2a3f5f\"}, \"baxis\": {\"endlinecolor\": \"#2a3f5f\", \"gridcolor\": \"white\", \"linecolor\": \"white\", \"minorgridcolor\": \"white\", \"startlinecolor\": \"#2a3f5f\"}, \"type\": \"carpet\"}], \"choropleth\": [{\"colorbar\": {\"outlinewidth\": 0, \"ticks\": \"\"}, \"type\": \"choropleth\"}], \"contour\": [{\"colorbar\": {\"outlinewidth\": 0, \"ticks\": \"\"}, \"colorscale\": [[0.0, \"#0d0887\"], [0.1111111111111111, \"#46039f\"], [0.2222222222222222, \"#7201a8\"], [0.3333333333333333, \"#9c179e\"], [0.4444444444444444, \"#bd3786\"], [0.5555555555555556, \"#d8576b\"], [0.6666666666666666, \"#ed7953\"], [0.7777777777777778, \"#fb9f3a\"], [0.8888888888888888, \"#fdca26\"], [1.0, \"#f0f921\"]], \"type\": \"contour\"}], \"contourcarpet\": [{\"colorbar\": {\"outlinewidth\": 0, \"ticks\": \"\"}, \"type\": \"contourcarpet\"}], \"heatmap\": [{\"colorbar\": {\"outlinewidth\": 0, \"ticks\": \"\"}, \"colorscale\": [[0.0, \"#0d0887\"], [0.1111111111111111, \"#46039f\"], [0.2222222222222222, \"#7201a8\"], [0.3333333333333333, \"#9c179e\"], [0.4444444444444444, \"#bd3786\"], [0.5555555555555556, \"#d8576b\"], [0.6666666666666666, \"#ed7953\"], [0.7777777777777778, \"#fb9f3a\"], [0.8888888888888888, \"#fdca26\"], [1.0, \"#f0f921\"]], \"type\": \"heatmap\"}], \"heatmapgl\": [{\"colorbar\": {\"outlinewidth\": 0, \"ticks\": \"\"}, \"colorscale\": [[0.0, \"#0d0887\"], [0.1111111111111111, \"#46039f\"], [0.2222222222222222, \"#7201a8\"], [0.3333333333333333, \"#9c179e\"], [0.4444444444444444, \"#bd3786\"], [0.5555555555555556, \"#d8576b\"], [0.6666666666666666, \"#ed7953\"], [0.7777777777777778, \"#fb9f3a\"], [0.8888888888888888, \"#fdca26\"], [1.0, \"#f0f921\"]], \"type\": \"heatmapgl\"}], \"histogram\": [{\"marker\": {\"colorbar\": {\"outlinewidth\": 0, \"ticks\": \"\"}}, \"type\": \"histogram\"}], \"histogram2d\": [{\"colorbar\": {\"outlinewidth\": 0, \"ticks\": \"\"}, \"colorscale\": [[0.0, \"#0d0887\"], [0.1111111111111111, \"#46039f\"], [0.2222222222222222, \"#7201a8\"], [0.3333333333333333, \"#9c179e\"], [0.4444444444444444, \"#bd3786\"], [0.5555555555555556, \"#d8576b\"], [0.6666666666666666, \"#ed7953\"], [0.7777777777777778, \"#fb9f3a\"], [0.8888888888888888, \"#fdca26\"], [1.0, \"#f0f921\"]], \"type\": \"histogram2d\"}], \"histogram2dcontour\": [{\"colorbar\": {\"outlinewidth\": 0, \"ticks\": \"\"}, \"colorscale\": [[0.0, \"#0d0887\"], [0.1111111111111111, \"#46039f\"], [0.2222222222222222, \"#7201a8\"], [0.3333333333333333, \"#9c179e\"], [0.4444444444444444, \"#bd3786\"], [0.5555555555555556, \"#d8576b\"], [0.6666666666666666, \"#ed7953\"], [0.7777777777777778, \"#fb9f3a\"], [0.8888888888888888, \"#fdca26\"], [1.0, \"#f0f921\"]], \"type\": \"histogram2dcontour\"}], \"mesh3d\": [{\"colorbar\": {\"outlinewidth\": 0, \"ticks\": \"\"}, \"type\": \"mesh3d\"}], \"parcoords\": [{\"line\": {\"colorbar\": {\"outlinewidth\": 0, \"ticks\": \"\"}}, \"type\": \"parcoords\"}], \"pie\": [{\"automargin\": true, \"type\": \"pie\"}], \"scatter\": [{\"marker\": {\"colorbar\": {\"outlinewidth\": 0, \"ticks\": \"\"}}, \"type\": \"scatter\"}], \"scatter3d\": [{\"line\": {\"colorbar\": {\"outlinewidth\": 0, \"ticks\": \"\"}}, \"marker\": {\"colorbar\": {\"outlinewidth\": 0, \"ticks\": \"\"}}, \"type\": \"scatter3d\"}], \"scattercarpet\": [{\"marker\": {\"colorbar\": {\"outlinewidth\": 0, \"ticks\": \"\"}}, \"type\": \"scattercarpet\"}], \"scattergeo\": [{\"marker\": {\"colorbar\": {\"outlinewidth\": 0, \"ticks\": \"\"}}, \"type\": \"scattergeo\"}], \"scattergl\": [{\"marker\": {\"colorbar\": {\"outlinewidth\": 0, \"ticks\": \"\"}}, \"type\": \"scattergl\"}], \"scattermapbox\": [{\"marker\": {\"colorbar\": {\"outlinewidth\": 0, \"ticks\": \"\"}}, \"type\": \"scattermapbox\"}], \"scatterpolar\": [{\"marker\": {\"colorbar\": {\"outlinewidth\": 0, \"ticks\": \"\"}}, \"type\": \"scatterpolar\"}], \"scatterpolargl\": [{\"marker\": {\"colorbar\": {\"outlinewidth\": 0, \"ticks\": \"\"}}, \"type\": \"scatterpolargl\"}], \"scatterternary\": [{\"marker\": {\"colorbar\": {\"outlinewidth\": 0, \"ticks\": \"\"}}, \"type\": \"scatterternary\"}], \"surface\": [{\"colorbar\": {\"outlinewidth\": 0, \"ticks\": \"\"}, \"colorscale\": [[0.0, \"#0d0887\"], [0.1111111111111111, \"#46039f\"], [0.2222222222222222, \"#7201a8\"], [0.3333333333333333, \"#9c179e\"], [0.4444444444444444, \"#bd3786\"], [0.5555555555555556, \"#d8576b\"], [0.6666666666666666, \"#ed7953\"], [0.7777777777777778, \"#fb9f3a\"], [0.8888888888888888, \"#fdca26\"], [1.0, \"#f0f921\"]], \"type\": \"surface\"}], \"table\": [{\"cells\": {\"fill\": {\"color\": \"#EBF0F8\"}, \"line\": {\"color\": \"white\"}}, \"header\": {\"fill\": {\"color\": \"#C8D4E3\"}, \"line\": {\"color\": \"white\"}}, \"type\": \"table\"}]}, \"layout\": {\"annotationdefaults\": {\"arrowcolor\": \"#2a3f5f\", \"arrowhead\": 0, \"arrowwidth\": 1}, \"coloraxis\": {\"colorbar\": {\"outlinewidth\": 0, \"ticks\": \"\"}}, \"colorscale\": {\"diverging\": [[0, \"#8e0152\"], [0.1, \"#c51b7d\"], [0.2, \"#de77ae\"], [0.3, \"#f1b6da\"], [0.4, \"#fde0ef\"], [0.5, \"#f7f7f7\"], [0.6, \"#e6f5d0\"], [0.7, \"#b8e186\"], [0.8, \"#7fbc41\"], [0.9, \"#4d9221\"], [1, \"#276419\"]], \"sequential\": [[0.0, \"#0d0887\"], [0.1111111111111111, \"#46039f\"], [0.2222222222222222, \"#7201a8\"], [0.3333333333333333, \"#9c179e\"], [0.4444444444444444, \"#bd3786\"], [0.5555555555555556, \"#d8576b\"], [0.6666666666666666, \"#ed7953\"], [0.7777777777777778, \"#fb9f3a\"], [0.8888888888888888, \"#fdca26\"], [1.0, \"#f0f921\"]], \"sequentialminus\": [[0.0, \"#0d0887\"], [0.1111111111111111, \"#46039f\"], [0.2222222222222222, \"#7201a8\"], [0.3333333333333333, \"#9c179e\"], [0.4444444444444444, \"#bd3786\"], [0.5555555555555556, \"#d8576b\"], [0.6666666666666666, \"#ed7953\"], [0.7777777777777778, \"#fb9f3a\"], [0.8888888888888888, \"#fdca26\"], [1.0, \"#f0f921\"]]}, \"colorway\": [\"#636efa\", \"#EF553B\", \"#00cc96\", \"#ab63fa\", \"#FFA15A\", \"#19d3f3\", \"#FF6692\", \"#B6E880\", \"#FF97FF\", \"#FECB52\"], \"font\": {\"color\": \"#2a3f5f\"}, \"geo\": {\"bgcolor\": \"white\", \"lakecolor\": \"white\", \"landcolor\": \"#E5ECF6\", \"showlakes\": true, \"showland\": true, \"subunitcolor\": \"white\"}, \"hoverlabel\": {\"align\": \"left\"}, \"hovermode\": \"closest\", \"mapbox\": {\"style\": \"light\"}, \"paper_bgcolor\": \"white\", \"plot_bgcolor\": \"#E5ECF6\", \"polar\": {\"angularaxis\": {\"gridcolor\": \"white\", \"linecolor\": \"white\", \"ticks\": \"\"}, \"bgcolor\": \"#E5ECF6\", \"radialaxis\": {\"gridcolor\": \"white\", \"linecolor\": \"white\", \"ticks\": \"\"}}, \"scene\": {\"xaxis\": {\"backgroundcolor\": \"#E5ECF6\", \"gridcolor\": \"white\", \"gridwidth\": 2, \"linecolor\": \"white\", \"showbackground\": true, \"ticks\": \"\", \"zerolinecolor\": \"white\"}, \"yaxis\": {\"backgroundcolor\": \"#E5ECF6\", \"gridcolor\": \"white\", \"gridwidth\": 2, \"linecolor\": \"white\", \"showbackground\": true, \"ticks\": \"\", \"zerolinecolor\": \"white\"}, \"zaxis\": {\"backgroundcolor\": \"#E5ECF6\", \"gridcolor\": \"white\", \"gridwidth\": 2, \"linecolor\": \"white\", \"showbackground\": true, \"ticks\": \"\", \"zerolinecolor\": \"white\"}}, \"shapedefaults\": {\"line\": {\"color\": \"#2a3f5f\"}}, \"ternary\": {\"aaxis\": {\"gridcolor\": \"white\", \"linecolor\": \"white\", \"ticks\": \"\"}, \"baxis\": {\"gridcolor\": \"white\", \"linecolor\": \"white\", \"ticks\": \"\"}, \"bgcolor\": \"#E5ECF6\", \"caxis\": {\"gridcolor\": \"white\", \"linecolor\": \"white\", \"ticks\": \"\"}}, \"title\": {\"x\": 0.05}, \"xaxis\": {\"automargin\": true, \"gridcolor\": \"white\", \"linecolor\": \"white\", \"ticks\": \"\", \"title\": {\"standoff\": 15}, \"zerolinecolor\": \"white\", \"zerolinewidth\": 2}, \"yaxis\": {\"automargin\": true, \"gridcolor\": \"white\", \"linecolor\": \"white\", \"ticks\": \"\", \"title\": {\"standoff\": 15}, \"zerolinecolor\": \"white\", \"zerolinewidth\": 2}}}, \"xaxis\": {\"anchor\": \"y\", \"domain\": [0.0, 1.0], \"title\": {\"text\": \"COUNTRY\"}}, \"yaxis\": {\"anchor\": \"x\", \"domain\": [0.0, 1.0], \"title\": {\"text\": \"NEW_DEATHS\"}}},\n",
              "                        {\"responsive\": true}\n",
              "                    ).then(function(){\n",
              "                            \n",
              "var gd = document.getElementById('47630f22-39a6-4529-bb3f-cf7e38134db7');\n",
              "var x = new MutationObserver(function (mutations, observer) {{\n",
              "        var display = window.getComputedStyle(gd).display;\n",
              "        if (!display || display === 'none') {{\n",
              "            console.log([gd, 'removed!']);\n",
              "            Plotly.purge(gd);\n",
              "            observer.disconnect();\n",
              "        }}\n",
              "}});\n",
              "\n",
              "// Listen for the removal of the full notebook cells\n",
              "var notebookContainer = gd.closest('#notebook-container');\n",
              "if (notebookContainer) {{\n",
              "    x.observe(notebookContainer, {childList: true});\n",
              "}}\n",
              "\n",
              "// Listen for the clearing of the current output cell\n",
              "var outputEl = gd.closest('.output');\n",
              "if (outputEl) {{\n",
              "    x.observe(outputEl, {childList: true});\n",
              "}}\n",
              "\n",
              "                        })\n",
              "                };\n",
              "                \n",
              "            </script>\n",
              "        </div>\n",
              "</body>\n",
              "</html>"
            ]
          },
          "metadata": {}
        }
      ]
    },
    {
      "cell_type": "code",
      "metadata": {
        "colab": {
          "base_uri": "https://localhost:8080/",
          "height": 929
        },
        "id": "YFYBhEM8_xt7",
        "outputId": "2675b7d8-af49-42c0-c03a-a672d315a56a"
      },
      "source": [
        "df2 = df.loc[df['WHO_REGION'] == 'EMRO']\n",
        "df2 = df2.groupby('COUNTRY', as_index = False).sum()\n",
        "print(df2)\n",
        "fig = px.bar(df2, x='COUNTRY', y='NEW_CASES')\n",
        "fig.show()"
      ],
      "execution_count": null,
      "outputs": [
        {
          "output_type": "stream",
          "name": "stdout",
          "text": [
            "                                              COUNTRY  NEW_CASES  NEW_DEATHS\n",
            "0                                         Afghanistan     152822        7093\n",
            "1                                             Bahrain     271933        1388\n",
            "2                                            Djibouti      11707         157\n",
            "3                                               Egypt     286938       16691\n",
            "4                          Iran (Islamic Republic of)    4796377      104022\n",
            "5                                                Iraq    1847697       20410\n",
            "6                                              Jordan     792278       10338\n",
            "7                                              Kuwait     408797        2412\n",
            "8                                             Lebanon     595522        8024\n",
            "9                                               Libya     300455        4126\n",
            "10                                            Morocco     829137       12079\n",
            "11                                               Oman     301683        4047\n",
            "12                                           Pakistan    1135858       25235\n",
            "13                                              Qatar     231559         601\n",
            "14                                       Saudi Arabia     543028        8505\n",
            "15                                            Somalia      17016         938\n",
            "16                                              Sudan      37698        2791\n",
            "17                               Syrian Arab Republic      27221        1985\n",
            "18                                            Tunisia     647483       22860\n",
            "19                               United Arab Emirates     712411        2028\n",
            "20                                              Yemen       7625        1438\n",
            "21  occupied Palestinian territory, including east...     360121        3922\n"
          ]
        },
        {
          "output_type": "display_data",
          "data": {
            "text/html": [
              "<html>\n",
              "<head><meta charset=\"utf-8\" /></head>\n",
              "<body>\n",
              "    <div>\n",
              "            <script src=\"https://cdnjs.cloudflare.com/ajax/libs/mathjax/2.7.5/MathJax.js?config=TeX-AMS-MML_SVG\"></script><script type=\"text/javascript\">if (window.MathJax) {MathJax.Hub.Config({SVG: {font: \"STIX-Web\"}});}</script>\n",
              "                <script type=\"text/javascript\">window.PlotlyConfig = {MathJaxConfig: 'local'};</script>\n",
              "        <script src=\"https://cdn.plot.ly/plotly-latest.min.js\"></script>    \n",
              "            <div id=\"64bbcde7-abc6-4afb-98ad-c0d0533aeec3\" class=\"plotly-graph-div\" style=\"height:525px; width:100%;\"></div>\n",
              "            <script type=\"text/javascript\">\n",
              "                \n",
              "                    window.PLOTLYENV=window.PLOTLYENV || {};\n",
              "                    \n",
              "                if (document.getElementById(\"64bbcde7-abc6-4afb-98ad-c0d0533aeec3\")) {\n",
              "                    Plotly.newPlot(\n",
              "                        '64bbcde7-abc6-4afb-98ad-c0d0533aeec3',\n",
              "                        [{\"alignmentgroup\": \"True\", \"hoverlabel\": {\"namelength\": 0}, \"hovertemplate\": \"COUNTRY=%{x}<br>NEW_CASES=%{y}\", \"legendgroup\": \"\", \"marker\": {\"color\": \"#636efa\"}, \"name\": \"\", \"offsetgroup\": \"\", \"orientation\": \"v\", \"showlegend\": false, \"textposition\": \"auto\", \"type\": \"bar\", \"x\": [\"Afghanistan\", \"Bahrain\", \"Djibouti\", \"Egypt\", \"Iran (Islamic Republic of)\", \"Iraq\", \"Jordan\", \"Kuwait\", \"Lebanon\", \"Libya\", \"Morocco\", \"Oman\", \"Pakistan\", \"Qatar\", \"Saudi Arabia\", \"Somalia\", \"Sudan\", \"Syrian Arab Republic\", \"Tunisia\", \"United Arab Emirates\", \"Yemen\", \"occupied Palestinian territory, including east Jerusalem\"], \"xaxis\": \"x\", \"y\": [152822, 271933, 11707, 286938, 4796377, 1847697, 792278, 408797, 595522, 300455, 829137, 301683, 1135858, 231559, 543028, 17016, 37698, 27221, 647483, 712411, 7625, 360121], \"yaxis\": \"y\"}],\n",
              "                        {\"barmode\": \"relative\", \"legend\": {\"tracegroupgap\": 0}, \"margin\": {\"t\": 60}, \"template\": {\"data\": {\"bar\": [{\"error_x\": {\"color\": \"#2a3f5f\"}, \"error_y\": {\"color\": \"#2a3f5f\"}, \"marker\": {\"line\": {\"color\": \"#E5ECF6\", \"width\": 0.5}}, \"type\": \"bar\"}], \"barpolar\": [{\"marker\": {\"line\": {\"color\": \"#E5ECF6\", \"width\": 0.5}}, \"type\": \"barpolar\"}], \"carpet\": [{\"aaxis\": {\"endlinecolor\": \"#2a3f5f\", \"gridcolor\": \"white\", \"linecolor\": \"white\", \"minorgridcolor\": \"white\", \"startlinecolor\": \"#2a3f5f\"}, \"baxis\": {\"endlinecolor\": \"#2a3f5f\", \"gridcolor\": \"white\", \"linecolor\": \"white\", \"minorgridcolor\": \"white\", \"startlinecolor\": \"#2a3f5f\"}, \"type\": \"carpet\"}], \"choropleth\": [{\"colorbar\": {\"outlinewidth\": 0, \"ticks\": \"\"}, \"type\": \"choropleth\"}], \"contour\": [{\"colorbar\": {\"outlinewidth\": 0, \"ticks\": \"\"}, \"colorscale\": [[0.0, \"#0d0887\"], [0.1111111111111111, \"#46039f\"], [0.2222222222222222, \"#7201a8\"], [0.3333333333333333, \"#9c179e\"], [0.4444444444444444, \"#bd3786\"], [0.5555555555555556, \"#d8576b\"], [0.6666666666666666, \"#ed7953\"], [0.7777777777777778, \"#fb9f3a\"], [0.8888888888888888, \"#fdca26\"], [1.0, \"#f0f921\"]], \"type\": \"contour\"}], \"contourcarpet\": [{\"colorbar\": {\"outlinewidth\": 0, \"ticks\": \"\"}, \"type\": \"contourcarpet\"}], \"heatmap\": [{\"colorbar\": {\"outlinewidth\": 0, \"ticks\": \"\"}, \"colorscale\": [[0.0, \"#0d0887\"], [0.1111111111111111, \"#46039f\"], [0.2222222222222222, \"#7201a8\"], [0.3333333333333333, \"#9c179e\"], [0.4444444444444444, \"#bd3786\"], [0.5555555555555556, \"#d8576b\"], [0.6666666666666666, \"#ed7953\"], [0.7777777777777778, \"#fb9f3a\"], [0.8888888888888888, \"#fdca26\"], [1.0, \"#f0f921\"]], \"type\": \"heatmap\"}], \"heatmapgl\": [{\"colorbar\": {\"outlinewidth\": 0, \"ticks\": \"\"}, \"colorscale\": [[0.0, \"#0d0887\"], [0.1111111111111111, \"#46039f\"], [0.2222222222222222, \"#7201a8\"], [0.3333333333333333, \"#9c179e\"], [0.4444444444444444, \"#bd3786\"], [0.5555555555555556, \"#d8576b\"], [0.6666666666666666, \"#ed7953\"], [0.7777777777777778, \"#fb9f3a\"], [0.8888888888888888, \"#fdca26\"], [1.0, \"#f0f921\"]], \"type\": \"heatmapgl\"}], \"histogram\": [{\"marker\": {\"colorbar\": {\"outlinewidth\": 0, \"ticks\": \"\"}}, \"type\": \"histogram\"}], \"histogram2d\": [{\"colorbar\": {\"outlinewidth\": 0, \"ticks\": \"\"}, \"colorscale\": [[0.0, \"#0d0887\"], [0.1111111111111111, \"#46039f\"], [0.2222222222222222, \"#7201a8\"], [0.3333333333333333, \"#9c179e\"], [0.4444444444444444, \"#bd3786\"], [0.5555555555555556, \"#d8576b\"], [0.6666666666666666, \"#ed7953\"], [0.7777777777777778, \"#fb9f3a\"], [0.8888888888888888, \"#fdca26\"], [1.0, \"#f0f921\"]], \"type\": \"histogram2d\"}], \"histogram2dcontour\": [{\"colorbar\": {\"outlinewidth\": 0, \"ticks\": \"\"}, \"colorscale\": [[0.0, \"#0d0887\"], [0.1111111111111111, \"#46039f\"], [0.2222222222222222, \"#7201a8\"], [0.3333333333333333, \"#9c179e\"], [0.4444444444444444, \"#bd3786\"], [0.5555555555555556, \"#d8576b\"], [0.6666666666666666, \"#ed7953\"], [0.7777777777777778, \"#fb9f3a\"], [0.8888888888888888, \"#fdca26\"], [1.0, \"#f0f921\"]], \"type\": \"histogram2dcontour\"}], \"mesh3d\": [{\"colorbar\": {\"outlinewidth\": 0, \"ticks\": \"\"}, \"type\": \"mesh3d\"}], \"parcoords\": [{\"line\": {\"colorbar\": {\"outlinewidth\": 0, \"ticks\": \"\"}}, \"type\": \"parcoords\"}], \"pie\": [{\"automargin\": true, \"type\": \"pie\"}], \"scatter\": [{\"marker\": {\"colorbar\": {\"outlinewidth\": 0, \"ticks\": \"\"}}, \"type\": \"scatter\"}], \"scatter3d\": [{\"line\": {\"colorbar\": {\"outlinewidth\": 0, \"ticks\": \"\"}}, \"marker\": {\"colorbar\": {\"outlinewidth\": 0, \"ticks\": \"\"}}, \"type\": \"scatter3d\"}], \"scattercarpet\": [{\"marker\": {\"colorbar\": {\"outlinewidth\": 0, \"ticks\": \"\"}}, \"type\": \"scattercarpet\"}], \"scattergeo\": [{\"marker\": {\"colorbar\": {\"outlinewidth\": 0, \"ticks\": \"\"}}, \"type\": \"scattergeo\"}], \"scattergl\": [{\"marker\": {\"colorbar\": {\"outlinewidth\": 0, \"ticks\": \"\"}}, \"type\": \"scattergl\"}], \"scattermapbox\": [{\"marker\": {\"colorbar\": {\"outlinewidth\": 0, \"ticks\": \"\"}}, \"type\": \"scattermapbox\"}], \"scatterpolar\": [{\"marker\": {\"colorbar\": {\"outlinewidth\": 0, \"ticks\": \"\"}}, \"type\": \"scatterpolar\"}], \"scatterpolargl\": [{\"marker\": {\"colorbar\": {\"outlinewidth\": 0, \"ticks\": \"\"}}, \"type\": \"scatterpolargl\"}], \"scatterternary\": [{\"marker\": {\"colorbar\": {\"outlinewidth\": 0, \"ticks\": \"\"}}, \"type\": \"scatterternary\"}], \"surface\": [{\"colorbar\": {\"outlinewidth\": 0, \"ticks\": \"\"}, \"colorscale\": [[0.0, \"#0d0887\"], [0.1111111111111111, \"#46039f\"], [0.2222222222222222, \"#7201a8\"], [0.3333333333333333, \"#9c179e\"], [0.4444444444444444, \"#bd3786\"], [0.5555555555555556, \"#d8576b\"], [0.6666666666666666, \"#ed7953\"], [0.7777777777777778, \"#fb9f3a\"], [0.8888888888888888, \"#fdca26\"], [1.0, \"#f0f921\"]], \"type\": \"surface\"}], \"table\": [{\"cells\": {\"fill\": {\"color\": \"#EBF0F8\"}, \"line\": {\"color\": \"white\"}}, \"header\": {\"fill\": {\"color\": \"#C8D4E3\"}, \"line\": {\"color\": \"white\"}}, \"type\": \"table\"}]}, \"layout\": {\"annotationdefaults\": {\"arrowcolor\": \"#2a3f5f\", \"arrowhead\": 0, \"arrowwidth\": 1}, \"coloraxis\": {\"colorbar\": {\"outlinewidth\": 0, \"ticks\": \"\"}}, \"colorscale\": {\"diverging\": [[0, \"#8e0152\"], [0.1, \"#c51b7d\"], [0.2, \"#de77ae\"], [0.3, \"#f1b6da\"], [0.4, \"#fde0ef\"], [0.5, \"#f7f7f7\"], [0.6, \"#e6f5d0\"], [0.7, \"#b8e186\"], [0.8, \"#7fbc41\"], [0.9, \"#4d9221\"], [1, \"#276419\"]], \"sequential\": [[0.0, \"#0d0887\"], [0.1111111111111111, \"#46039f\"], [0.2222222222222222, \"#7201a8\"], [0.3333333333333333, \"#9c179e\"], [0.4444444444444444, \"#bd3786\"], [0.5555555555555556, \"#d8576b\"], [0.6666666666666666, \"#ed7953\"], [0.7777777777777778, \"#fb9f3a\"], [0.8888888888888888, \"#fdca26\"], [1.0, \"#f0f921\"]], \"sequentialminus\": [[0.0, \"#0d0887\"], [0.1111111111111111, \"#46039f\"], [0.2222222222222222, \"#7201a8\"], [0.3333333333333333, \"#9c179e\"], [0.4444444444444444, \"#bd3786\"], [0.5555555555555556, \"#d8576b\"], [0.6666666666666666, \"#ed7953\"], [0.7777777777777778, \"#fb9f3a\"], [0.8888888888888888, \"#fdca26\"], [1.0, \"#f0f921\"]]}, \"colorway\": [\"#636efa\", \"#EF553B\", \"#00cc96\", \"#ab63fa\", \"#FFA15A\", \"#19d3f3\", \"#FF6692\", \"#B6E880\", \"#FF97FF\", \"#FECB52\"], \"font\": {\"color\": \"#2a3f5f\"}, \"geo\": {\"bgcolor\": \"white\", \"lakecolor\": \"white\", \"landcolor\": \"#E5ECF6\", \"showlakes\": true, \"showland\": true, \"subunitcolor\": \"white\"}, \"hoverlabel\": {\"align\": \"left\"}, \"hovermode\": \"closest\", \"mapbox\": {\"style\": \"light\"}, \"paper_bgcolor\": \"white\", \"plot_bgcolor\": \"#E5ECF6\", \"polar\": {\"angularaxis\": {\"gridcolor\": \"white\", \"linecolor\": \"white\", \"ticks\": \"\"}, \"bgcolor\": \"#E5ECF6\", \"radialaxis\": {\"gridcolor\": \"white\", \"linecolor\": \"white\", \"ticks\": \"\"}}, \"scene\": {\"xaxis\": {\"backgroundcolor\": \"#E5ECF6\", \"gridcolor\": \"white\", \"gridwidth\": 2, \"linecolor\": \"white\", \"showbackground\": true, \"ticks\": \"\", \"zerolinecolor\": \"white\"}, \"yaxis\": {\"backgroundcolor\": \"#E5ECF6\", \"gridcolor\": \"white\", \"gridwidth\": 2, \"linecolor\": \"white\", \"showbackground\": true, \"ticks\": \"\", \"zerolinecolor\": \"white\"}, \"zaxis\": {\"backgroundcolor\": \"#E5ECF6\", \"gridcolor\": \"white\", \"gridwidth\": 2, \"linecolor\": \"white\", \"showbackground\": true, \"ticks\": \"\", \"zerolinecolor\": \"white\"}}, \"shapedefaults\": {\"line\": {\"color\": \"#2a3f5f\"}}, \"ternary\": {\"aaxis\": {\"gridcolor\": \"white\", \"linecolor\": \"white\", \"ticks\": \"\"}, \"baxis\": {\"gridcolor\": \"white\", \"linecolor\": \"white\", \"ticks\": \"\"}, \"bgcolor\": \"#E5ECF6\", \"caxis\": {\"gridcolor\": \"white\", \"linecolor\": \"white\", \"ticks\": \"\"}}, \"title\": {\"x\": 0.05}, \"xaxis\": {\"automargin\": true, \"gridcolor\": \"white\", \"linecolor\": \"white\", \"ticks\": \"\", \"title\": {\"standoff\": 15}, \"zerolinecolor\": \"white\", \"zerolinewidth\": 2}, \"yaxis\": {\"automargin\": true, \"gridcolor\": \"white\", \"linecolor\": \"white\", \"ticks\": \"\", \"title\": {\"standoff\": 15}, \"zerolinecolor\": \"white\", \"zerolinewidth\": 2}}}, \"xaxis\": {\"anchor\": \"y\", \"domain\": [0.0, 1.0], \"title\": {\"text\": \"COUNTRY\"}}, \"yaxis\": {\"anchor\": \"x\", \"domain\": [0.0, 1.0], \"title\": {\"text\": \"NEW_CASES\"}}},\n",
              "                        {\"responsive\": true}\n",
              "                    ).then(function(){\n",
              "                            \n",
              "var gd = document.getElementById('64bbcde7-abc6-4afb-98ad-c0d0533aeec3');\n",
              "var x = new MutationObserver(function (mutations, observer) {{\n",
              "        var display = window.getComputedStyle(gd).display;\n",
              "        if (!display || display === 'none') {{\n",
              "            console.log([gd, 'removed!']);\n",
              "            Plotly.purge(gd);\n",
              "            observer.disconnect();\n",
              "        }}\n",
              "}});\n",
              "\n",
              "// Listen for the removal of the full notebook cells\n",
              "var notebookContainer = gd.closest('#notebook-container');\n",
              "if (notebookContainer) {{\n",
              "    x.observe(notebookContainer, {childList: true});\n",
              "}}\n",
              "\n",
              "// Listen for the clearing of the current output cell\n",
              "var outputEl = gd.closest('.output');\n",
              "if (outputEl) {{\n",
              "    x.observe(outputEl, {childList: true});\n",
              "}}\n",
              "\n",
              "                        })\n",
              "                };\n",
              "                \n",
              "            </script>\n",
              "        </div>\n",
              "</body>\n",
              "</html>"
            ]
          },
          "metadata": {}
        }
      ]
    },
    {
      "cell_type": "code",
      "metadata": {
        "colab": {
          "base_uri": "https://localhost:8080/",
          "height": 542
        },
        "id": "tHaIxWqpAN8G",
        "outputId": "947a67c8-4d09-4869-c620-1cc33e222810"
      },
      "source": [
        "df2 = df.loc[df['WHO_REGION'] == 'EMRO']\n",
        "df2 = df2.groupby('COUNTRY', as_index = False).sum()\n",
        "fig = px.bar(df2, x='COUNTRY', y='NEW_DEATHS')\n",
        "fig.show()"
      ],
      "execution_count": null,
      "outputs": [
        {
          "output_type": "display_data",
          "data": {
            "text/html": [
              "<html>\n",
              "<head><meta charset=\"utf-8\" /></head>\n",
              "<body>\n",
              "    <div>\n",
              "            <script src=\"https://cdnjs.cloudflare.com/ajax/libs/mathjax/2.7.5/MathJax.js?config=TeX-AMS-MML_SVG\"></script><script type=\"text/javascript\">if (window.MathJax) {MathJax.Hub.Config({SVG: {font: \"STIX-Web\"}});}</script>\n",
              "                <script type=\"text/javascript\">window.PlotlyConfig = {MathJaxConfig: 'local'};</script>\n",
              "        <script src=\"https://cdn.plot.ly/plotly-latest.min.js\"></script>    \n",
              "            <div id=\"c32017ac-6a99-4041-af19-b53acadacdfc\" class=\"plotly-graph-div\" style=\"height:525px; width:100%;\"></div>\n",
              "            <script type=\"text/javascript\">\n",
              "                \n",
              "                    window.PLOTLYENV=window.PLOTLYENV || {};\n",
              "                    \n",
              "                if (document.getElementById(\"c32017ac-6a99-4041-af19-b53acadacdfc\")) {\n",
              "                    Plotly.newPlot(\n",
              "                        'c32017ac-6a99-4041-af19-b53acadacdfc',\n",
              "                        [{\"alignmentgroup\": \"True\", \"hoverlabel\": {\"namelength\": 0}, \"hovertemplate\": \"COUNTRY=%{x}<br>NEW_DEATHS=%{y}\", \"legendgroup\": \"\", \"marker\": {\"color\": \"#636efa\"}, \"name\": \"\", \"offsetgroup\": \"\", \"orientation\": \"v\", \"showlegend\": false, \"textposition\": \"auto\", \"type\": \"bar\", \"x\": [\"Afghanistan\", \"Bahrain\", \"Djibouti\", \"Egypt\", \"Iran (Islamic Republic of)\", \"Iraq\", \"Jordan\", \"Kuwait\", \"Lebanon\", \"Libya\", \"Morocco\", \"Oman\", \"Pakistan\", \"Qatar\", \"Saudi Arabia\", \"Somalia\", \"Sudan\", \"Syrian Arab Republic\", \"Tunisia\", \"United Arab Emirates\", \"Yemen\", \"occupied Palestinian territory, including east Jerusalem\"], \"xaxis\": \"x\", \"y\": [7093, 1388, 157, 16691, 104022, 20410, 10338, 2412, 8024, 4126, 12079, 4047, 25235, 601, 8505, 938, 2791, 1985, 22860, 2028, 1438, 3922], \"yaxis\": \"y\"}],\n",
              "                        {\"barmode\": \"relative\", \"legend\": {\"tracegroupgap\": 0}, \"margin\": {\"t\": 60}, \"template\": {\"data\": {\"bar\": [{\"error_x\": {\"color\": \"#2a3f5f\"}, \"error_y\": {\"color\": \"#2a3f5f\"}, \"marker\": {\"line\": {\"color\": \"#E5ECF6\", \"width\": 0.5}}, \"type\": \"bar\"}], \"barpolar\": [{\"marker\": {\"line\": {\"color\": \"#E5ECF6\", \"width\": 0.5}}, \"type\": \"barpolar\"}], \"carpet\": [{\"aaxis\": {\"endlinecolor\": \"#2a3f5f\", \"gridcolor\": \"white\", \"linecolor\": \"white\", \"minorgridcolor\": \"white\", \"startlinecolor\": \"#2a3f5f\"}, \"baxis\": {\"endlinecolor\": \"#2a3f5f\", \"gridcolor\": \"white\", \"linecolor\": \"white\", \"minorgridcolor\": \"white\", \"startlinecolor\": \"#2a3f5f\"}, \"type\": \"carpet\"}], \"choropleth\": [{\"colorbar\": {\"outlinewidth\": 0, \"ticks\": \"\"}, \"type\": \"choropleth\"}], \"contour\": [{\"colorbar\": {\"outlinewidth\": 0, \"ticks\": \"\"}, \"colorscale\": [[0.0, \"#0d0887\"], [0.1111111111111111, \"#46039f\"], [0.2222222222222222, \"#7201a8\"], [0.3333333333333333, \"#9c179e\"], [0.4444444444444444, \"#bd3786\"], [0.5555555555555556, \"#d8576b\"], [0.6666666666666666, \"#ed7953\"], [0.7777777777777778, \"#fb9f3a\"], [0.8888888888888888, \"#fdca26\"], [1.0, \"#f0f921\"]], \"type\": \"contour\"}], \"contourcarpet\": [{\"colorbar\": {\"outlinewidth\": 0, \"ticks\": \"\"}, \"type\": \"contourcarpet\"}], \"heatmap\": [{\"colorbar\": {\"outlinewidth\": 0, \"ticks\": \"\"}, \"colorscale\": [[0.0, \"#0d0887\"], [0.1111111111111111, \"#46039f\"], [0.2222222222222222, \"#7201a8\"], [0.3333333333333333, \"#9c179e\"], [0.4444444444444444, \"#bd3786\"], [0.5555555555555556, \"#d8576b\"], [0.6666666666666666, \"#ed7953\"], [0.7777777777777778, \"#fb9f3a\"], [0.8888888888888888, \"#fdca26\"], [1.0, \"#f0f921\"]], \"type\": \"heatmap\"}], \"heatmapgl\": [{\"colorbar\": {\"outlinewidth\": 0, \"ticks\": \"\"}, \"colorscale\": [[0.0, \"#0d0887\"], [0.1111111111111111, \"#46039f\"], [0.2222222222222222, \"#7201a8\"], [0.3333333333333333, \"#9c179e\"], [0.4444444444444444, \"#bd3786\"], [0.5555555555555556, \"#d8576b\"], [0.6666666666666666, \"#ed7953\"], [0.7777777777777778, \"#fb9f3a\"], [0.8888888888888888, \"#fdca26\"], [1.0, \"#f0f921\"]], \"type\": \"heatmapgl\"}], \"histogram\": [{\"marker\": {\"colorbar\": {\"outlinewidth\": 0, \"ticks\": \"\"}}, \"type\": \"histogram\"}], \"histogram2d\": [{\"colorbar\": {\"outlinewidth\": 0, \"ticks\": \"\"}, \"colorscale\": [[0.0, \"#0d0887\"], [0.1111111111111111, \"#46039f\"], [0.2222222222222222, \"#7201a8\"], [0.3333333333333333, \"#9c179e\"], [0.4444444444444444, \"#bd3786\"], [0.5555555555555556, \"#d8576b\"], [0.6666666666666666, \"#ed7953\"], [0.7777777777777778, \"#fb9f3a\"], [0.8888888888888888, \"#fdca26\"], [1.0, \"#f0f921\"]], \"type\": \"histogram2d\"}], \"histogram2dcontour\": [{\"colorbar\": {\"outlinewidth\": 0, \"ticks\": \"\"}, \"colorscale\": [[0.0, \"#0d0887\"], [0.1111111111111111, \"#46039f\"], [0.2222222222222222, \"#7201a8\"], [0.3333333333333333, \"#9c179e\"], [0.4444444444444444, \"#bd3786\"], [0.5555555555555556, \"#d8576b\"], [0.6666666666666666, \"#ed7953\"], [0.7777777777777778, \"#fb9f3a\"], [0.8888888888888888, \"#fdca26\"], [1.0, \"#f0f921\"]], \"type\": \"histogram2dcontour\"}], \"mesh3d\": [{\"colorbar\": {\"outlinewidth\": 0, \"ticks\": \"\"}, \"type\": \"mesh3d\"}], \"parcoords\": [{\"line\": {\"colorbar\": {\"outlinewidth\": 0, \"ticks\": \"\"}}, \"type\": \"parcoords\"}], \"pie\": [{\"automargin\": true, \"type\": \"pie\"}], \"scatter\": [{\"marker\": {\"colorbar\": {\"outlinewidth\": 0, \"ticks\": \"\"}}, \"type\": \"scatter\"}], \"scatter3d\": [{\"line\": {\"colorbar\": {\"outlinewidth\": 0, \"ticks\": \"\"}}, \"marker\": {\"colorbar\": {\"outlinewidth\": 0, \"ticks\": \"\"}}, \"type\": \"scatter3d\"}], \"scattercarpet\": [{\"marker\": {\"colorbar\": {\"outlinewidth\": 0, \"ticks\": \"\"}}, \"type\": \"scattercarpet\"}], \"scattergeo\": [{\"marker\": {\"colorbar\": {\"outlinewidth\": 0, \"ticks\": \"\"}}, \"type\": \"scattergeo\"}], \"scattergl\": [{\"marker\": {\"colorbar\": {\"outlinewidth\": 0, \"ticks\": \"\"}}, \"type\": \"scattergl\"}], \"scattermapbox\": [{\"marker\": {\"colorbar\": {\"outlinewidth\": 0, \"ticks\": \"\"}}, \"type\": \"scattermapbox\"}], \"scatterpolar\": [{\"marker\": {\"colorbar\": {\"outlinewidth\": 0, \"ticks\": \"\"}}, \"type\": \"scatterpolar\"}], \"scatterpolargl\": [{\"marker\": {\"colorbar\": {\"outlinewidth\": 0, \"ticks\": \"\"}}, \"type\": \"scatterpolargl\"}], \"scatterternary\": [{\"marker\": {\"colorbar\": {\"outlinewidth\": 0, \"ticks\": \"\"}}, \"type\": \"scatterternary\"}], \"surface\": [{\"colorbar\": {\"outlinewidth\": 0, \"ticks\": \"\"}, \"colorscale\": [[0.0, \"#0d0887\"], [0.1111111111111111, \"#46039f\"], [0.2222222222222222, \"#7201a8\"], [0.3333333333333333, \"#9c179e\"], [0.4444444444444444, \"#bd3786\"], [0.5555555555555556, \"#d8576b\"], [0.6666666666666666, \"#ed7953\"], [0.7777777777777778, \"#fb9f3a\"], [0.8888888888888888, \"#fdca26\"], [1.0, \"#f0f921\"]], \"type\": \"surface\"}], \"table\": [{\"cells\": {\"fill\": {\"color\": \"#EBF0F8\"}, \"line\": {\"color\": \"white\"}}, \"header\": {\"fill\": {\"color\": \"#C8D4E3\"}, \"line\": {\"color\": \"white\"}}, \"type\": \"table\"}]}, \"layout\": {\"annotationdefaults\": {\"arrowcolor\": \"#2a3f5f\", \"arrowhead\": 0, \"arrowwidth\": 1}, \"coloraxis\": {\"colorbar\": {\"outlinewidth\": 0, \"ticks\": \"\"}}, \"colorscale\": {\"diverging\": [[0, \"#8e0152\"], [0.1, \"#c51b7d\"], [0.2, \"#de77ae\"], [0.3, \"#f1b6da\"], [0.4, \"#fde0ef\"], [0.5, \"#f7f7f7\"], [0.6, \"#e6f5d0\"], [0.7, \"#b8e186\"], [0.8, \"#7fbc41\"], [0.9, \"#4d9221\"], [1, \"#276419\"]], \"sequential\": [[0.0, \"#0d0887\"], [0.1111111111111111, \"#46039f\"], [0.2222222222222222, \"#7201a8\"], [0.3333333333333333, \"#9c179e\"], [0.4444444444444444, \"#bd3786\"], [0.5555555555555556, \"#d8576b\"], [0.6666666666666666, \"#ed7953\"], [0.7777777777777778, \"#fb9f3a\"], [0.8888888888888888, \"#fdca26\"], [1.0, \"#f0f921\"]], \"sequentialminus\": [[0.0, \"#0d0887\"], [0.1111111111111111, \"#46039f\"], [0.2222222222222222, \"#7201a8\"], [0.3333333333333333, \"#9c179e\"], [0.4444444444444444, \"#bd3786\"], [0.5555555555555556, \"#d8576b\"], [0.6666666666666666, \"#ed7953\"], [0.7777777777777778, \"#fb9f3a\"], [0.8888888888888888, \"#fdca26\"], [1.0, \"#f0f921\"]]}, \"colorway\": [\"#636efa\", \"#EF553B\", \"#00cc96\", \"#ab63fa\", \"#FFA15A\", \"#19d3f3\", \"#FF6692\", \"#B6E880\", \"#FF97FF\", \"#FECB52\"], \"font\": {\"color\": \"#2a3f5f\"}, \"geo\": {\"bgcolor\": \"white\", \"lakecolor\": \"white\", \"landcolor\": \"#E5ECF6\", \"showlakes\": true, \"showland\": true, \"subunitcolor\": \"white\"}, \"hoverlabel\": {\"align\": \"left\"}, \"hovermode\": \"closest\", \"mapbox\": {\"style\": \"light\"}, \"paper_bgcolor\": \"white\", \"plot_bgcolor\": \"#E5ECF6\", \"polar\": {\"angularaxis\": {\"gridcolor\": \"white\", \"linecolor\": \"white\", \"ticks\": \"\"}, \"bgcolor\": \"#E5ECF6\", \"radialaxis\": {\"gridcolor\": \"white\", \"linecolor\": \"white\", \"ticks\": \"\"}}, \"scene\": {\"xaxis\": {\"backgroundcolor\": \"#E5ECF6\", \"gridcolor\": \"white\", \"gridwidth\": 2, \"linecolor\": \"white\", \"showbackground\": true, \"ticks\": \"\", \"zerolinecolor\": \"white\"}, \"yaxis\": {\"backgroundcolor\": \"#E5ECF6\", \"gridcolor\": \"white\", \"gridwidth\": 2, \"linecolor\": \"white\", \"showbackground\": true, \"ticks\": \"\", \"zerolinecolor\": \"white\"}, \"zaxis\": {\"backgroundcolor\": \"#E5ECF6\", \"gridcolor\": \"white\", \"gridwidth\": 2, \"linecolor\": \"white\", \"showbackground\": true, \"ticks\": \"\", \"zerolinecolor\": \"white\"}}, \"shapedefaults\": {\"line\": {\"color\": \"#2a3f5f\"}}, \"ternary\": {\"aaxis\": {\"gridcolor\": \"white\", \"linecolor\": \"white\", \"ticks\": \"\"}, \"baxis\": {\"gridcolor\": \"white\", \"linecolor\": \"white\", \"ticks\": \"\"}, \"bgcolor\": \"#E5ECF6\", \"caxis\": {\"gridcolor\": \"white\", \"linecolor\": \"white\", \"ticks\": \"\"}}, \"title\": {\"x\": 0.05}, \"xaxis\": {\"automargin\": true, \"gridcolor\": \"white\", \"linecolor\": \"white\", \"ticks\": \"\", \"title\": {\"standoff\": 15}, \"zerolinecolor\": \"white\", \"zerolinewidth\": 2}, \"yaxis\": {\"automargin\": true, \"gridcolor\": \"white\", \"linecolor\": \"white\", \"ticks\": \"\", \"title\": {\"standoff\": 15}, \"zerolinecolor\": \"white\", \"zerolinewidth\": 2}}}, \"xaxis\": {\"anchor\": \"y\", \"domain\": [0.0, 1.0], \"title\": {\"text\": \"COUNTRY\"}}, \"yaxis\": {\"anchor\": \"x\", \"domain\": [0.0, 1.0], \"title\": {\"text\": \"NEW_DEATHS\"}}},\n",
              "                        {\"responsive\": true}\n",
              "                    ).then(function(){\n",
              "                            \n",
              "var gd = document.getElementById('c32017ac-6a99-4041-af19-b53acadacdfc');\n",
              "var x = new MutationObserver(function (mutations, observer) {{\n",
              "        var display = window.getComputedStyle(gd).display;\n",
              "        if (!display || display === 'none') {{\n",
              "            console.log([gd, 'removed!']);\n",
              "            Plotly.purge(gd);\n",
              "            observer.disconnect();\n",
              "        }}\n",
              "}});\n",
              "\n",
              "// Listen for the removal of the full notebook cells\n",
              "var notebookContainer = gd.closest('#notebook-container');\n",
              "if (notebookContainer) {{\n",
              "    x.observe(notebookContainer, {childList: true});\n",
              "}}\n",
              "\n",
              "// Listen for the clearing of the current output cell\n",
              "var outputEl = gd.closest('.output');\n",
              "if (outputEl) {{\n",
              "    x.observe(outputEl, {childList: true});\n",
              "}}\n",
              "\n",
              "                        })\n",
              "                };\n",
              "                \n",
              "            </script>\n",
              "        </div>\n",
              "</body>\n",
              "</html>"
            ]
          },
          "metadata": {}
        }
      ]
    },
    {
      "cell_type": "code",
      "metadata": {
        "colab": {
          "base_uri": "https://localhost:8080/",
          "height": 778
        },
        "id": "ZmatvVeDAZ_K",
        "outputId": "9c5f4280-5aed-476a-f5c3-9d7570cf3007"
      },
      "source": [
        "df2 = df.loc[df['WHO_REGION'] == 'EURO']\n",
        "df2 = df2.groupby('COUNTRY', as_index = False).sum()\n",
        "print(df2)\n",
        "fig = px.bar(df2, x='COUNTRY', y='NEW_CASES')\n",
        "fig.show()"
      ],
      "execution_count": null,
      "outputs": [
        {
          "output_type": "stream",
          "name": "stdout",
          "text": [
            "               COUNTRY  NEW_CASES  NEW_DEATHS\n",
            "0              Albania     141365        2483\n",
            "1              Andorra      15014         130\n",
            "2              Armenia     239739        4785\n",
            "3              Austria     675741       10573\n",
            "4           Azerbaijan     401828        5403\n",
            "..                 ...        ...         ...\n",
            "57  The United Kingdom    6590751      132003\n",
            "58              Turkey    6273681       55212\n",
            "59        Turkmenistan          0           0\n",
            "60             Ukraine    2278171       53566\n",
            "61          Uzbekistan     152363        1050\n",
            "\n",
            "[62 rows x 3 columns]\n"
          ]
        },
        {
          "output_type": "display_data",
          "data": {
            "text/html": [
              "<html>\n",
              "<head><meta charset=\"utf-8\" /></head>\n",
              "<body>\n",
              "    <div>\n",
              "            <script src=\"https://cdnjs.cloudflare.com/ajax/libs/mathjax/2.7.5/MathJax.js?config=TeX-AMS-MML_SVG\"></script><script type=\"text/javascript\">if (window.MathJax) {MathJax.Hub.Config({SVG: {font: \"STIX-Web\"}});}</script>\n",
              "                <script type=\"text/javascript\">window.PlotlyConfig = {MathJaxConfig: 'local'};</script>\n",
              "        <script src=\"https://cdn.plot.ly/plotly-latest.min.js\"></script>    \n",
              "            <div id=\"f2910f40-7025-47a7-b309-85fe7ff7d446\" class=\"plotly-graph-div\" style=\"height:525px; width:100%;\"></div>\n",
              "            <script type=\"text/javascript\">\n",
              "                \n",
              "                    window.PLOTLYENV=window.PLOTLYENV || {};\n",
              "                    \n",
              "                if (document.getElementById(\"f2910f40-7025-47a7-b309-85fe7ff7d446\")) {\n",
              "                    Plotly.newPlot(\n",
              "                        'f2910f40-7025-47a7-b309-85fe7ff7d446',\n",
              "                        [{\"alignmentgroup\": \"True\", \"hoverlabel\": {\"namelength\": 0}, \"hovertemplate\": \"COUNTRY=%{x}<br>NEW_CASES=%{y}\", \"legendgroup\": \"\", \"marker\": {\"color\": \"#636efa\"}, \"name\": \"\", \"offsetgroup\": \"\", \"orientation\": \"v\", \"showlegend\": false, \"textposition\": \"auto\", \"type\": \"bar\", \"x\": [\"Albania\", \"Andorra\", \"Armenia\", \"Austria\", \"Azerbaijan\", \"Belarus\", \"Belgium\", \"Bosnia and Herzegovina\", \"Bulgaria\", \"Croatia\", \"Cyprus\", \"Czechia\", \"Denmark\", \"Estonia\", \"Faroe Islands\", \"Finland\", \"France\", \"Georgia\", \"Germany\", \"Gibraltar\", \"Greece\", \"Greenland\", \"Guernsey\", \"Holy See\", \"Hungary\", \"Iceland\", \"Ireland\", \"Isle of Man\", \"Israel\", \"Italy\", \"Jersey\", \"Kazakhstan\", \"Kosovo[1]\", \"Kyrgyzstan\", \"Latvia\", \"Liechtenstein\", \"Lithuania\", \"Luxembourg\", \"Malta\", \"Monaco\", \"Montenegro\", \"Netherlands\", \"North Macedonia\", \"Norway\", \"Poland\", \"Portugal\", \"Republic of Moldova\", \"Romania\", \"Russian Federation\", \"San Marino\", \"Serbia\", \"Slovakia\", \"Slovenia\", \"Spain\", \"Sweden\", \"Switzerland\", \"Tajikistan\", \"The United Kingdom\", \"Turkey\", \"Turkmenistan\", \"Ukraine\", \"Uzbekistan\"], \"xaxis\": \"x\", \"y\": [141365, 15014, 239739, 675741, 401828, 472852, 1173108, 211059, 446698, 371623, 112278, 1678331, 340567, 140341, 999, 124285, 6493798, 532171, 3901799, 5308, 570077, 313, 1195, 26, 811517, 10443, 342329, 6418, 1024100, 4502396, 9169, 829924, 134775, 174813, 141686, 3359, 296096, 75312, 35908, 3163, 111736, 1926424, 171576, 152113, 2887485, 1025869, 265817, 1093924, 6824540, 5305, 748693, 394446, 264650, 4815205, 1120628, 761831, 17007, 6590751, 6273681, 0, 2278171, 152363], \"yaxis\": \"y\"}],\n",
              "                        {\"barmode\": \"relative\", \"legend\": {\"tracegroupgap\": 0}, \"margin\": {\"t\": 60}, \"template\": {\"data\": {\"bar\": [{\"error_x\": {\"color\": \"#2a3f5f\"}, \"error_y\": {\"color\": \"#2a3f5f\"}, \"marker\": {\"line\": {\"color\": \"#E5ECF6\", \"width\": 0.5}}, \"type\": \"bar\"}], \"barpolar\": [{\"marker\": {\"line\": {\"color\": \"#E5ECF6\", \"width\": 0.5}}, \"type\": \"barpolar\"}], \"carpet\": [{\"aaxis\": {\"endlinecolor\": \"#2a3f5f\", \"gridcolor\": \"white\", \"linecolor\": \"white\", \"minorgridcolor\": \"white\", \"startlinecolor\": \"#2a3f5f\"}, \"baxis\": {\"endlinecolor\": \"#2a3f5f\", \"gridcolor\": \"white\", \"linecolor\": \"white\", \"minorgridcolor\": \"white\", \"startlinecolor\": \"#2a3f5f\"}, \"type\": \"carpet\"}], \"choropleth\": [{\"colorbar\": {\"outlinewidth\": 0, \"ticks\": \"\"}, \"type\": \"choropleth\"}], \"contour\": [{\"colorbar\": {\"outlinewidth\": 0, \"ticks\": \"\"}, \"colorscale\": [[0.0, \"#0d0887\"], [0.1111111111111111, \"#46039f\"], [0.2222222222222222, \"#7201a8\"], [0.3333333333333333, \"#9c179e\"], [0.4444444444444444, \"#bd3786\"], [0.5555555555555556, \"#d8576b\"], [0.6666666666666666, \"#ed7953\"], [0.7777777777777778, \"#fb9f3a\"], [0.8888888888888888, \"#fdca26\"], [1.0, \"#f0f921\"]], \"type\": \"contour\"}], \"contourcarpet\": [{\"colorbar\": {\"outlinewidth\": 0, \"ticks\": \"\"}, \"type\": \"contourcarpet\"}], \"heatmap\": [{\"colorbar\": {\"outlinewidth\": 0, \"ticks\": \"\"}, \"colorscale\": [[0.0, \"#0d0887\"], [0.1111111111111111, \"#46039f\"], [0.2222222222222222, \"#7201a8\"], [0.3333333333333333, \"#9c179e\"], [0.4444444444444444, \"#bd3786\"], [0.5555555555555556, \"#d8576b\"], [0.6666666666666666, \"#ed7953\"], [0.7777777777777778, \"#fb9f3a\"], [0.8888888888888888, \"#fdca26\"], [1.0, \"#f0f921\"]], \"type\": \"heatmap\"}], \"heatmapgl\": [{\"colorbar\": {\"outlinewidth\": 0, \"ticks\": \"\"}, \"colorscale\": [[0.0, \"#0d0887\"], [0.1111111111111111, \"#46039f\"], [0.2222222222222222, \"#7201a8\"], [0.3333333333333333, \"#9c179e\"], [0.4444444444444444, \"#bd3786\"], [0.5555555555555556, \"#d8576b\"], [0.6666666666666666, \"#ed7953\"], [0.7777777777777778, \"#fb9f3a\"], [0.8888888888888888, \"#fdca26\"], [1.0, \"#f0f921\"]], \"type\": \"heatmapgl\"}], \"histogram\": [{\"marker\": {\"colorbar\": {\"outlinewidth\": 0, \"ticks\": \"\"}}, \"type\": \"histogram\"}], \"histogram2d\": [{\"colorbar\": {\"outlinewidth\": 0, \"ticks\": \"\"}, \"colorscale\": [[0.0, \"#0d0887\"], [0.1111111111111111, \"#46039f\"], [0.2222222222222222, \"#7201a8\"], [0.3333333333333333, \"#9c179e\"], [0.4444444444444444, \"#bd3786\"], [0.5555555555555556, \"#d8576b\"], [0.6666666666666666, \"#ed7953\"], [0.7777777777777778, \"#fb9f3a\"], [0.8888888888888888, \"#fdca26\"], [1.0, \"#f0f921\"]], \"type\": \"histogram2d\"}], \"histogram2dcontour\": [{\"colorbar\": {\"outlinewidth\": 0, \"ticks\": \"\"}, \"colorscale\": [[0.0, \"#0d0887\"], [0.1111111111111111, \"#46039f\"], [0.2222222222222222, \"#7201a8\"], [0.3333333333333333, \"#9c179e\"], [0.4444444444444444, \"#bd3786\"], [0.5555555555555556, \"#d8576b\"], [0.6666666666666666, \"#ed7953\"], [0.7777777777777778, \"#fb9f3a\"], [0.8888888888888888, \"#fdca26\"], [1.0, \"#f0f921\"]], \"type\": \"histogram2dcontour\"}], \"mesh3d\": [{\"colorbar\": {\"outlinewidth\": 0, \"ticks\": \"\"}, \"type\": \"mesh3d\"}], \"parcoords\": [{\"line\": {\"colorbar\": {\"outlinewidth\": 0, \"ticks\": \"\"}}, \"type\": \"parcoords\"}], \"pie\": [{\"automargin\": true, \"type\": \"pie\"}], \"scatter\": [{\"marker\": {\"colorbar\": {\"outlinewidth\": 0, \"ticks\": \"\"}}, \"type\": \"scatter\"}], \"scatter3d\": [{\"line\": {\"colorbar\": {\"outlinewidth\": 0, \"ticks\": \"\"}}, \"marker\": {\"colorbar\": {\"outlinewidth\": 0, \"ticks\": \"\"}}, \"type\": \"scatter3d\"}], \"scattercarpet\": [{\"marker\": {\"colorbar\": {\"outlinewidth\": 0, \"ticks\": \"\"}}, \"type\": \"scattercarpet\"}], \"scattergeo\": [{\"marker\": {\"colorbar\": {\"outlinewidth\": 0, \"ticks\": \"\"}}, \"type\": \"scattergeo\"}], \"scattergl\": [{\"marker\": {\"colorbar\": {\"outlinewidth\": 0, \"ticks\": \"\"}}, \"type\": \"scattergl\"}], \"scattermapbox\": [{\"marker\": {\"colorbar\": {\"outlinewidth\": 0, \"ticks\": \"\"}}, \"type\": \"scattermapbox\"}], \"scatterpolar\": [{\"marker\": {\"colorbar\": {\"outlinewidth\": 0, \"ticks\": \"\"}}, \"type\": \"scatterpolar\"}], \"scatterpolargl\": [{\"marker\": {\"colorbar\": {\"outlinewidth\": 0, \"ticks\": \"\"}}, \"type\": \"scatterpolargl\"}], \"scatterternary\": [{\"marker\": {\"colorbar\": {\"outlinewidth\": 0, \"ticks\": \"\"}}, \"type\": \"scatterternary\"}], \"surface\": [{\"colorbar\": {\"outlinewidth\": 0, \"ticks\": \"\"}, \"colorscale\": [[0.0, \"#0d0887\"], [0.1111111111111111, \"#46039f\"], [0.2222222222222222, \"#7201a8\"], [0.3333333333333333, \"#9c179e\"], [0.4444444444444444, \"#bd3786\"], [0.5555555555555556, \"#d8576b\"], [0.6666666666666666, \"#ed7953\"], [0.7777777777777778, \"#fb9f3a\"], [0.8888888888888888, \"#fdca26\"], [1.0, \"#f0f921\"]], \"type\": \"surface\"}], \"table\": [{\"cells\": {\"fill\": {\"color\": \"#EBF0F8\"}, \"line\": {\"color\": \"white\"}}, \"header\": {\"fill\": {\"color\": \"#C8D4E3\"}, \"line\": {\"color\": \"white\"}}, \"type\": \"table\"}]}, \"layout\": {\"annotationdefaults\": {\"arrowcolor\": \"#2a3f5f\", \"arrowhead\": 0, \"arrowwidth\": 1}, \"coloraxis\": {\"colorbar\": {\"outlinewidth\": 0, \"ticks\": \"\"}}, \"colorscale\": {\"diverging\": [[0, \"#8e0152\"], [0.1, \"#c51b7d\"], [0.2, \"#de77ae\"], [0.3, \"#f1b6da\"], [0.4, \"#fde0ef\"], [0.5, \"#f7f7f7\"], [0.6, \"#e6f5d0\"], [0.7, \"#b8e186\"], [0.8, \"#7fbc41\"], [0.9, \"#4d9221\"], [1, \"#276419\"]], \"sequential\": [[0.0, \"#0d0887\"], [0.1111111111111111, \"#46039f\"], [0.2222222222222222, \"#7201a8\"], [0.3333333333333333, \"#9c179e\"], [0.4444444444444444, \"#bd3786\"], [0.5555555555555556, \"#d8576b\"], [0.6666666666666666, \"#ed7953\"], [0.7777777777777778, \"#fb9f3a\"], [0.8888888888888888, \"#fdca26\"], [1.0, \"#f0f921\"]], \"sequentialminus\": [[0.0, \"#0d0887\"], [0.1111111111111111, \"#46039f\"], [0.2222222222222222, \"#7201a8\"], [0.3333333333333333, \"#9c179e\"], [0.4444444444444444, \"#bd3786\"], [0.5555555555555556, \"#d8576b\"], [0.6666666666666666, \"#ed7953\"], [0.7777777777777778, \"#fb9f3a\"], [0.8888888888888888, \"#fdca26\"], [1.0, \"#f0f921\"]]}, \"colorway\": [\"#636efa\", \"#EF553B\", \"#00cc96\", \"#ab63fa\", \"#FFA15A\", \"#19d3f3\", \"#FF6692\", \"#B6E880\", \"#FF97FF\", \"#FECB52\"], \"font\": {\"color\": \"#2a3f5f\"}, \"geo\": {\"bgcolor\": \"white\", \"lakecolor\": \"white\", \"landcolor\": \"#E5ECF6\", \"showlakes\": true, \"showland\": true, \"subunitcolor\": \"white\"}, \"hoverlabel\": {\"align\": \"left\"}, \"hovermode\": \"closest\", \"mapbox\": {\"style\": \"light\"}, \"paper_bgcolor\": \"white\", \"plot_bgcolor\": \"#E5ECF6\", \"polar\": {\"angularaxis\": {\"gridcolor\": \"white\", \"linecolor\": \"white\", \"ticks\": \"\"}, \"bgcolor\": \"#E5ECF6\", \"radialaxis\": {\"gridcolor\": \"white\", \"linecolor\": \"white\", \"ticks\": \"\"}}, \"scene\": {\"xaxis\": {\"backgroundcolor\": \"#E5ECF6\", \"gridcolor\": \"white\", \"gridwidth\": 2, \"linecolor\": \"white\", \"showbackground\": true, \"ticks\": \"\", \"zerolinecolor\": \"white\"}, \"yaxis\": {\"backgroundcolor\": \"#E5ECF6\", \"gridcolor\": \"white\", \"gridwidth\": 2, \"linecolor\": \"white\", \"showbackground\": true, \"ticks\": \"\", \"zerolinecolor\": \"white\"}, \"zaxis\": {\"backgroundcolor\": \"#E5ECF6\", \"gridcolor\": \"white\", \"gridwidth\": 2, \"linecolor\": \"white\", \"showbackground\": true, \"ticks\": \"\", \"zerolinecolor\": \"white\"}}, \"shapedefaults\": {\"line\": {\"color\": \"#2a3f5f\"}}, \"ternary\": {\"aaxis\": {\"gridcolor\": \"white\", \"linecolor\": \"white\", \"ticks\": \"\"}, \"baxis\": {\"gridcolor\": \"white\", \"linecolor\": \"white\", \"ticks\": \"\"}, \"bgcolor\": \"#E5ECF6\", \"caxis\": {\"gridcolor\": \"white\", \"linecolor\": \"white\", \"ticks\": \"\"}}, \"title\": {\"x\": 0.05}, \"xaxis\": {\"automargin\": true, \"gridcolor\": \"white\", \"linecolor\": \"white\", \"ticks\": \"\", \"title\": {\"standoff\": 15}, \"zerolinecolor\": \"white\", \"zerolinewidth\": 2}, \"yaxis\": {\"automargin\": true, \"gridcolor\": \"white\", \"linecolor\": \"white\", \"ticks\": \"\", \"title\": {\"standoff\": 15}, \"zerolinecolor\": \"white\", \"zerolinewidth\": 2}}}, \"xaxis\": {\"anchor\": \"y\", \"domain\": [0.0, 1.0], \"title\": {\"text\": \"COUNTRY\"}}, \"yaxis\": {\"anchor\": \"x\", \"domain\": [0.0, 1.0], \"title\": {\"text\": \"NEW_CASES\"}}},\n",
              "                        {\"responsive\": true}\n",
              "                    ).then(function(){\n",
              "                            \n",
              "var gd = document.getElementById('f2910f40-7025-47a7-b309-85fe7ff7d446');\n",
              "var x = new MutationObserver(function (mutations, observer) {{\n",
              "        var display = window.getComputedStyle(gd).display;\n",
              "        if (!display || display === 'none') {{\n",
              "            console.log([gd, 'removed!']);\n",
              "            Plotly.purge(gd);\n",
              "            observer.disconnect();\n",
              "        }}\n",
              "}});\n",
              "\n",
              "// Listen for the removal of the full notebook cells\n",
              "var notebookContainer = gd.closest('#notebook-container');\n",
              "if (notebookContainer) {{\n",
              "    x.observe(notebookContainer, {childList: true});\n",
              "}}\n",
              "\n",
              "// Listen for the clearing of the current output cell\n",
              "var outputEl = gd.closest('.output');\n",
              "if (outputEl) {{\n",
              "    x.observe(outputEl, {childList: true});\n",
              "}}\n",
              "\n",
              "                        })\n",
              "                };\n",
              "                \n",
              "            </script>\n",
              "        </div>\n",
              "</body>\n",
              "</html>"
            ]
          },
          "metadata": {}
        }
      ]
    },
    {
      "cell_type": "code",
      "metadata": {
        "colab": {
          "base_uri": "https://localhost:8080/",
          "height": 542
        },
        "id": "bFNho68dAinh",
        "outputId": "96328ebc-4e84-4c66-b13d-3bfc1dce7abb"
      },
      "source": [
        "df2 = df.loc[df['WHO_REGION'] == 'EURO']\n",
        "df2 = df2.groupby('COUNTRY', as_index = False).sum()\n",
        "fig = px.bar(df2, x='COUNTRY', y='NEW_DEATHS')\n",
        "fig.show()"
      ],
      "execution_count": null,
      "outputs": [
        {
          "output_type": "display_data",
          "data": {
            "text/html": [
              "<html>\n",
              "<head><meta charset=\"utf-8\" /></head>\n",
              "<body>\n",
              "    <div>\n",
              "            <script src=\"https://cdnjs.cloudflare.com/ajax/libs/mathjax/2.7.5/MathJax.js?config=TeX-AMS-MML_SVG\"></script><script type=\"text/javascript\">if (window.MathJax) {MathJax.Hub.Config({SVG: {font: \"STIX-Web\"}});}</script>\n",
              "                <script type=\"text/javascript\">window.PlotlyConfig = {MathJaxConfig: 'local'};</script>\n",
              "        <script src=\"https://cdn.plot.ly/plotly-latest.min.js\"></script>    \n",
              "            <div id=\"29d8870e-0051-4628-a53f-8f69320dfb85\" class=\"plotly-graph-div\" style=\"height:525px; width:100%;\"></div>\n",
              "            <script type=\"text/javascript\">\n",
              "                \n",
              "                    window.PLOTLYENV=window.PLOTLYENV || {};\n",
              "                    \n",
              "                if (document.getElementById(\"29d8870e-0051-4628-a53f-8f69320dfb85\")) {\n",
              "                    Plotly.newPlot(\n",
              "                        '29d8870e-0051-4628-a53f-8f69320dfb85',\n",
              "                        [{\"alignmentgroup\": \"True\", \"hoverlabel\": {\"namelength\": 0}, \"hovertemplate\": \"COUNTRY=%{x}<br>NEW_DEATHS=%{y}\", \"legendgroup\": \"\", \"marker\": {\"color\": \"#636efa\"}, \"name\": \"\", \"offsetgroup\": \"\", \"orientation\": \"v\", \"showlegend\": false, \"textposition\": \"auto\", \"type\": \"bar\", \"x\": [\"Albania\", \"Andorra\", \"Armenia\", \"Austria\", \"Azerbaijan\", \"Belarus\", \"Belgium\", \"Bosnia and Herzegovina\", \"Bulgaria\", \"Croatia\", \"Cyprus\", \"Czechia\", \"Denmark\", \"Estonia\", \"Faroe Islands\", \"Finland\", \"France\", \"Georgia\", \"Germany\", \"Gibraltar\", \"Greece\", \"Greenland\", \"Guernsey\", \"Holy See\", \"Hungary\", \"Iceland\", \"Ireland\", \"Isle of Man\", \"Israel\", \"Italy\", \"Jersey\", \"Kazakhstan\", \"Kosovo[1]\", \"Kyrgyzstan\", \"Latvia\", \"Liechtenstein\", \"Lithuania\", \"Luxembourg\", \"Malta\", \"Monaco\", \"Montenegro\", \"Netherlands\", \"North Macedonia\", \"Norway\", \"Poland\", \"Portugal\", \"Republic of Moldova\", \"Romania\", \"Russian Federation\", \"San Marino\", \"Serbia\", \"Slovakia\", \"Slovenia\", \"Spain\", \"Sweden\", \"Switzerland\", \"Tajikistan\", \"The United Kingdom\", \"Turkey\", \"Turkmenistan\", \"Ukraine\", \"Uzbekistan\"], \"xaxis\": \"x\", \"y\": [2483, 130, 4785, 10573, 5403, 3712, 25348, 9758, 18613, 8316, 486, 30393, 2571, 1286, 2, 1018, 112430, 7028, 92082, 96, 13509, 0, 18, 0, 30056, 31, 5092, 29, 6909, 128914, 76, 12655, 2360, 2503, 2571, 58, 4513, 830, 437, 35, 1695, 17974, 5755, 814, 75332, 17674, 6380, 34471, 179243, 90, 7233, 12547, 4770, 83690, 14674, 10410, 125, 132003, 55212, 0, 53566, 1050], \"yaxis\": \"y\"}],\n",
              "                        {\"barmode\": \"relative\", \"legend\": {\"tracegroupgap\": 0}, \"margin\": {\"t\": 60}, \"template\": {\"data\": {\"bar\": [{\"error_x\": {\"color\": \"#2a3f5f\"}, \"error_y\": {\"color\": \"#2a3f5f\"}, \"marker\": {\"line\": {\"color\": \"#E5ECF6\", \"width\": 0.5}}, \"type\": \"bar\"}], \"barpolar\": [{\"marker\": {\"line\": {\"color\": \"#E5ECF6\", \"width\": 0.5}}, \"type\": \"barpolar\"}], \"carpet\": [{\"aaxis\": {\"endlinecolor\": \"#2a3f5f\", \"gridcolor\": \"white\", \"linecolor\": \"white\", \"minorgridcolor\": \"white\", \"startlinecolor\": \"#2a3f5f\"}, \"baxis\": {\"endlinecolor\": \"#2a3f5f\", \"gridcolor\": \"white\", \"linecolor\": \"white\", \"minorgridcolor\": \"white\", \"startlinecolor\": \"#2a3f5f\"}, \"type\": \"carpet\"}], \"choropleth\": [{\"colorbar\": {\"outlinewidth\": 0, \"ticks\": \"\"}, \"type\": \"choropleth\"}], \"contour\": [{\"colorbar\": {\"outlinewidth\": 0, \"ticks\": \"\"}, \"colorscale\": [[0.0, \"#0d0887\"], [0.1111111111111111, \"#46039f\"], [0.2222222222222222, \"#7201a8\"], [0.3333333333333333, \"#9c179e\"], [0.4444444444444444, \"#bd3786\"], [0.5555555555555556, \"#d8576b\"], [0.6666666666666666, \"#ed7953\"], [0.7777777777777778, \"#fb9f3a\"], [0.8888888888888888, \"#fdca26\"], [1.0, \"#f0f921\"]], \"type\": \"contour\"}], \"contourcarpet\": [{\"colorbar\": {\"outlinewidth\": 0, \"ticks\": \"\"}, \"type\": \"contourcarpet\"}], \"heatmap\": [{\"colorbar\": {\"outlinewidth\": 0, \"ticks\": \"\"}, \"colorscale\": [[0.0, \"#0d0887\"], [0.1111111111111111, \"#46039f\"], [0.2222222222222222, \"#7201a8\"], [0.3333333333333333, \"#9c179e\"], [0.4444444444444444, \"#bd3786\"], [0.5555555555555556, \"#d8576b\"], [0.6666666666666666, \"#ed7953\"], [0.7777777777777778, \"#fb9f3a\"], [0.8888888888888888, \"#fdca26\"], [1.0, \"#f0f921\"]], \"type\": \"heatmap\"}], \"heatmapgl\": [{\"colorbar\": {\"outlinewidth\": 0, \"ticks\": \"\"}, \"colorscale\": [[0.0, \"#0d0887\"], [0.1111111111111111, \"#46039f\"], [0.2222222222222222, \"#7201a8\"], [0.3333333333333333, \"#9c179e\"], [0.4444444444444444, \"#bd3786\"], [0.5555555555555556, \"#d8576b\"], [0.6666666666666666, \"#ed7953\"], [0.7777777777777778, \"#fb9f3a\"], [0.8888888888888888, \"#fdca26\"], [1.0, \"#f0f921\"]], \"type\": \"heatmapgl\"}], \"histogram\": [{\"marker\": {\"colorbar\": {\"outlinewidth\": 0, \"ticks\": \"\"}}, \"type\": \"histogram\"}], \"histogram2d\": [{\"colorbar\": {\"outlinewidth\": 0, \"ticks\": \"\"}, \"colorscale\": [[0.0, \"#0d0887\"], [0.1111111111111111, \"#46039f\"], [0.2222222222222222, \"#7201a8\"], [0.3333333333333333, \"#9c179e\"], [0.4444444444444444, \"#bd3786\"], [0.5555555555555556, \"#d8576b\"], [0.6666666666666666, \"#ed7953\"], [0.7777777777777778, \"#fb9f3a\"], [0.8888888888888888, \"#fdca26\"], [1.0, \"#f0f921\"]], \"type\": \"histogram2d\"}], \"histogram2dcontour\": [{\"colorbar\": {\"outlinewidth\": 0, \"ticks\": \"\"}, \"colorscale\": [[0.0, \"#0d0887\"], [0.1111111111111111, \"#46039f\"], [0.2222222222222222, \"#7201a8\"], [0.3333333333333333, \"#9c179e\"], [0.4444444444444444, \"#bd3786\"], [0.5555555555555556, \"#d8576b\"], [0.6666666666666666, \"#ed7953\"], [0.7777777777777778, \"#fb9f3a\"], [0.8888888888888888, \"#fdca26\"], [1.0, \"#f0f921\"]], \"type\": \"histogram2dcontour\"}], \"mesh3d\": [{\"colorbar\": {\"outlinewidth\": 0, \"ticks\": \"\"}, \"type\": \"mesh3d\"}], \"parcoords\": [{\"line\": {\"colorbar\": {\"outlinewidth\": 0, \"ticks\": \"\"}}, \"type\": \"parcoords\"}], \"pie\": [{\"automargin\": true, \"type\": \"pie\"}], \"scatter\": [{\"marker\": {\"colorbar\": {\"outlinewidth\": 0, \"ticks\": \"\"}}, \"type\": \"scatter\"}], \"scatter3d\": [{\"line\": {\"colorbar\": {\"outlinewidth\": 0, \"ticks\": \"\"}}, \"marker\": {\"colorbar\": {\"outlinewidth\": 0, \"ticks\": \"\"}}, \"type\": \"scatter3d\"}], \"scattercarpet\": [{\"marker\": {\"colorbar\": {\"outlinewidth\": 0, \"ticks\": \"\"}}, \"type\": \"scattercarpet\"}], \"scattergeo\": [{\"marker\": {\"colorbar\": {\"outlinewidth\": 0, \"ticks\": \"\"}}, \"type\": \"scattergeo\"}], \"scattergl\": [{\"marker\": {\"colorbar\": {\"outlinewidth\": 0, \"ticks\": \"\"}}, \"type\": \"scattergl\"}], \"scattermapbox\": [{\"marker\": {\"colorbar\": {\"outlinewidth\": 0, \"ticks\": \"\"}}, \"type\": \"scattermapbox\"}], \"scatterpolar\": [{\"marker\": {\"colorbar\": {\"outlinewidth\": 0, \"ticks\": \"\"}}, \"type\": \"scatterpolar\"}], \"scatterpolargl\": [{\"marker\": {\"colorbar\": {\"outlinewidth\": 0, \"ticks\": \"\"}}, \"type\": \"scatterpolargl\"}], \"scatterternary\": [{\"marker\": {\"colorbar\": {\"outlinewidth\": 0, \"ticks\": \"\"}}, \"type\": \"scatterternary\"}], \"surface\": [{\"colorbar\": {\"outlinewidth\": 0, \"ticks\": \"\"}, \"colorscale\": [[0.0, \"#0d0887\"], [0.1111111111111111, \"#46039f\"], [0.2222222222222222, \"#7201a8\"], [0.3333333333333333, \"#9c179e\"], [0.4444444444444444, \"#bd3786\"], [0.5555555555555556, \"#d8576b\"], [0.6666666666666666, \"#ed7953\"], [0.7777777777777778, \"#fb9f3a\"], [0.8888888888888888, \"#fdca26\"], [1.0, \"#f0f921\"]], \"type\": \"surface\"}], \"table\": [{\"cells\": {\"fill\": {\"color\": \"#EBF0F8\"}, \"line\": {\"color\": \"white\"}}, \"header\": {\"fill\": {\"color\": \"#C8D4E3\"}, \"line\": {\"color\": \"white\"}}, \"type\": \"table\"}]}, \"layout\": {\"annotationdefaults\": {\"arrowcolor\": \"#2a3f5f\", \"arrowhead\": 0, \"arrowwidth\": 1}, \"coloraxis\": {\"colorbar\": {\"outlinewidth\": 0, \"ticks\": \"\"}}, \"colorscale\": {\"diverging\": [[0, \"#8e0152\"], [0.1, \"#c51b7d\"], [0.2, \"#de77ae\"], [0.3, \"#f1b6da\"], [0.4, \"#fde0ef\"], [0.5, \"#f7f7f7\"], [0.6, \"#e6f5d0\"], [0.7, \"#b8e186\"], [0.8, \"#7fbc41\"], [0.9, \"#4d9221\"], [1, \"#276419\"]], \"sequential\": [[0.0, \"#0d0887\"], [0.1111111111111111, \"#46039f\"], [0.2222222222222222, \"#7201a8\"], [0.3333333333333333, \"#9c179e\"], [0.4444444444444444, \"#bd3786\"], [0.5555555555555556, \"#d8576b\"], [0.6666666666666666, \"#ed7953\"], [0.7777777777777778, \"#fb9f3a\"], [0.8888888888888888, \"#fdca26\"], [1.0, \"#f0f921\"]], \"sequentialminus\": [[0.0, \"#0d0887\"], [0.1111111111111111, \"#46039f\"], [0.2222222222222222, \"#7201a8\"], [0.3333333333333333, \"#9c179e\"], [0.4444444444444444, \"#bd3786\"], [0.5555555555555556, \"#d8576b\"], [0.6666666666666666, \"#ed7953\"], [0.7777777777777778, \"#fb9f3a\"], [0.8888888888888888, \"#fdca26\"], [1.0, \"#f0f921\"]]}, \"colorway\": [\"#636efa\", \"#EF553B\", \"#00cc96\", \"#ab63fa\", \"#FFA15A\", \"#19d3f3\", \"#FF6692\", \"#B6E880\", \"#FF97FF\", \"#FECB52\"], \"font\": {\"color\": \"#2a3f5f\"}, \"geo\": {\"bgcolor\": \"white\", \"lakecolor\": \"white\", \"landcolor\": \"#E5ECF6\", \"showlakes\": true, \"showland\": true, \"subunitcolor\": \"white\"}, \"hoverlabel\": {\"align\": \"left\"}, \"hovermode\": \"closest\", \"mapbox\": {\"style\": \"light\"}, \"paper_bgcolor\": \"white\", \"plot_bgcolor\": \"#E5ECF6\", \"polar\": {\"angularaxis\": {\"gridcolor\": \"white\", \"linecolor\": \"white\", \"ticks\": \"\"}, \"bgcolor\": \"#E5ECF6\", \"radialaxis\": {\"gridcolor\": \"white\", \"linecolor\": \"white\", \"ticks\": \"\"}}, \"scene\": {\"xaxis\": {\"backgroundcolor\": \"#E5ECF6\", \"gridcolor\": \"white\", \"gridwidth\": 2, \"linecolor\": \"white\", \"showbackground\": true, \"ticks\": \"\", \"zerolinecolor\": \"white\"}, \"yaxis\": {\"backgroundcolor\": \"#E5ECF6\", \"gridcolor\": \"white\", \"gridwidth\": 2, \"linecolor\": \"white\", \"showbackground\": true, \"ticks\": \"\", \"zerolinecolor\": \"white\"}, \"zaxis\": {\"backgroundcolor\": \"#E5ECF6\", \"gridcolor\": \"white\", \"gridwidth\": 2, \"linecolor\": \"white\", \"showbackground\": true, \"ticks\": \"\", \"zerolinecolor\": \"white\"}}, \"shapedefaults\": {\"line\": {\"color\": \"#2a3f5f\"}}, \"ternary\": {\"aaxis\": {\"gridcolor\": \"white\", \"linecolor\": \"white\", \"ticks\": \"\"}, \"baxis\": {\"gridcolor\": \"white\", \"linecolor\": \"white\", \"ticks\": \"\"}, \"bgcolor\": \"#E5ECF6\", \"caxis\": {\"gridcolor\": \"white\", \"linecolor\": \"white\", \"ticks\": \"\"}}, \"title\": {\"x\": 0.05}, \"xaxis\": {\"automargin\": true, \"gridcolor\": \"white\", \"linecolor\": \"white\", \"ticks\": \"\", \"title\": {\"standoff\": 15}, \"zerolinecolor\": \"white\", \"zerolinewidth\": 2}, \"yaxis\": {\"automargin\": true, \"gridcolor\": \"white\", \"linecolor\": \"white\", \"ticks\": \"\", \"title\": {\"standoff\": 15}, \"zerolinecolor\": \"white\", \"zerolinewidth\": 2}}}, \"xaxis\": {\"anchor\": \"y\", \"domain\": [0.0, 1.0], \"title\": {\"text\": \"COUNTRY\"}}, \"yaxis\": {\"anchor\": \"x\", \"domain\": [0.0, 1.0], \"title\": {\"text\": \"NEW_DEATHS\"}}},\n",
              "                        {\"responsive\": true}\n",
              "                    ).then(function(){\n",
              "                            \n",
              "var gd = document.getElementById('29d8870e-0051-4628-a53f-8f69320dfb85');\n",
              "var x = new MutationObserver(function (mutations, observer) {{\n",
              "        var display = window.getComputedStyle(gd).display;\n",
              "        if (!display || display === 'none') {{\n",
              "            console.log([gd, 'removed!']);\n",
              "            Plotly.purge(gd);\n",
              "            observer.disconnect();\n",
              "        }}\n",
              "}});\n",
              "\n",
              "// Listen for the removal of the full notebook cells\n",
              "var notebookContainer = gd.closest('#notebook-container');\n",
              "if (notebookContainer) {{\n",
              "    x.observe(notebookContainer, {childList: true});\n",
              "}}\n",
              "\n",
              "// Listen for the clearing of the current output cell\n",
              "var outputEl = gd.closest('.output');\n",
              "if (outputEl) {{\n",
              "    x.observe(outputEl, {childList: true});\n",
              "}}\n",
              "\n",
              "                        })\n",
              "                };\n",
              "                \n",
              "            </script>\n",
              "        </div>\n",
              "</body>\n",
              "</html>"
            ]
          },
          "metadata": {}
        }
      ]
    },
    {
      "cell_type": "code",
      "metadata": {
        "colab": {
          "base_uri": "https://localhost:8080/",
          "height": 576
        },
        "id": "4FmdqO6GAwQU",
        "outputId": "c051d5ea-07f9-44ca-e410-d4cfde90fa2d"
      },
      "source": [
        "df2 = df.loc[df['WHO_REGION'] == 'Other']\n",
        "df2 = df2.groupby('COUNTRY', as_index = False).sum()\n",
        "print(df2)\n",
        "fig = px.bar(df2, x='COUNTRY', y='NEW_CASES')\n",
        "fig.show()"
      ],
      "execution_count": null,
      "outputs": [
        {
          "output_type": "stream",
          "name": "stdout",
          "text": [
            "  COUNTRY  NEW_CASES  NEW_DEATHS\n",
            "0   Other        764          13\n"
          ]
        },
        {
          "output_type": "display_data",
          "data": {
            "text/html": [
              "<html>\n",
              "<head><meta charset=\"utf-8\" /></head>\n",
              "<body>\n",
              "    <div>\n",
              "            <script src=\"https://cdnjs.cloudflare.com/ajax/libs/mathjax/2.7.5/MathJax.js?config=TeX-AMS-MML_SVG\"></script><script type=\"text/javascript\">if (window.MathJax) {MathJax.Hub.Config({SVG: {font: \"STIX-Web\"}});}</script>\n",
              "                <script type=\"text/javascript\">window.PlotlyConfig = {MathJaxConfig: 'local'};</script>\n",
              "        <script src=\"https://cdn.plot.ly/plotly-latest.min.js\"></script>    \n",
              "            <div id=\"38b7c24d-d215-4010-a970-edb39fdd7c0b\" class=\"plotly-graph-div\" style=\"height:525px; width:100%;\"></div>\n",
              "            <script type=\"text/javascript\">\n",
              "                \n",
              "                    window.PLOTLYENV=window.PLOTLYENV || {};\n",
              "                    \n",
              "                if (document.getElementById(\"38b7c24d-d215-4010-a970-edb39fdd7c0b\")) {\n",
              "                    Plotly.newPlot(\n",
              "                        '38b7c24d-d215-4010-a970-edb39fdd7c0b',\n",
              "                        [{\"alignmentgroup\": \"True\", \"hoverlabel\": {\"namelength\": 0}, \"hovertemplate\": \"COUNTRY=%{x}<br>NEW_CASES=%{y}\", \"legendgroup\": \"\", \"marker\": {\"color\": \"#636efa\"}, \"name\": \"\", \"offsetgroup\": \"\", \"orientation\": \"v\", \"showlegend\": false, \"textposition\": \"auto\", \"type\": \"bar\", \"x\": [\"Other\"], \"xaxis\": \"x\", \"y\": [764], \"yaxis\": \"y\"}],\n",
              "                        {\"barmode\": \"relative\", \"legend\": {\"tracegroupgap\": 0}, \"margin\": {\"t\": 60}, \"template\": {\"data\": {\"bar\": [{\"error_x\": {\"color\": \"#2a3f5f\"}, \"error_y\": {\"color\": \"#2a3f5f\"}, \"marker\": {\"line\": {\"color\": \"#E5ECF6\", \"width\": 0.5}}, \"type\": \"bar\"}], \"barpolar\": [{\"marker\": {\"line\": {\"color\": \"#E5ECF6\", \"width\": 0.5}}, \"type\": \"barpolar\"}], \"carpet\": [{\"aaxis\": {\"endlinecolor\": \"#2a3f5f\", \"gridcolor\": \"white\", \"linecolor\": \"white\", \"minorgridcolor\": \"white\", \"startlinecolor\": \"#2a3f5f\"}, \"baxis\": {\"endlinecolor\": \"#2a3f5f\", \"gridcolor\": \"white\", \"linecolor\": \"white\", \"minorgridcolor\": \"white\", \"startlinecolor\": \"#2a3f5f\"}, \"type\": \"carpet\"}], \"choropleth\": [{\"colorbar\": {\"outlinewidth\": 0, \"ticks\": \"\"}, \"type\": \"choropleth\"}], \"contour\": [{\"colorbar\": {\"outlinewidth\": 0, \"ticks\": \"\"}, \"colorscale\": [[0.0, \"#0d0887\"], [0.1111111111111111, \"#46039f\"], [0.2222222222222222, \"#7201a8\"], [0.3333333333333333, \"#9c179e\"], [0.4444444444444444, \"#bd3786\"], [0.5555555555555556, \"#d8576b\"], [0.6666666666666666, \"#ed7953\"], [0.7777777777777778, \"#fb9f3a\"], [0.8888888888888888, \"#fdca26\"], [1.0, \"#f0f921\"]], \"type\": \"contour\"}], \"contourcarpet\": [{\"colorbar\": {\"outlinewidth\": 0, \"ticks\": \"\"}, \"type\": \"contourcarpet\"}], \"heatmap\": [{\"colorbar\": {\"outlinewidth\": 0, \"ticks\": \"\"}, \"colorscale\": [[0.0, \"#0d0887\"], [0.1111111111111111, \"#46039f\"], [0.2222222222222222, \"#7201a8\"], [0.3333333333333333, \"#9c179e\"], [0.4444444444444444, \"#bd3786\"], [0.5555555555555556, \"#d8576b\"], [0.6666666666666666, \"#ed7953\"], [0.7777777777777778, \"#fb9f3a\"], [0.8888888888888888, \"#fdca26\"], [1.0, \"#f0f921\"]], \"type\": \"heatmap\"}], \"heatmapgl\": [{\"colorbar\": {\"outlinewidth\": 0, \"ticks\": \"\"}, \"colorscale\": [[0.0, \"#0d0887\"], [0.1111111111111111, \"#46039f\"], [0.2222222222222222, \"#7201a8\"], [0.3333333333333333, \"#9c179e\"], [0.4444444444444444, \"#bd3786\"], [0.5555555555555556, \"#d8576b\"], [0.6666666666666666, \"#ed7953\"], [0.7777777777777778, \"#fb9f3a\"], [0.8888888888888888, \"#fdca26\"], [1.0, \"#f0f921\"]], \"type\": \"heatmapgl\"}], \"histogram\": [{\"marker\": {\"colorbar\": {\"outlinewidth\": 0, \"ticks\": \"\"}}, \"type\": \"histogram\"}], \"histogram2d\": [{\"colorbar\": {\"outlinewidth\": 0, \"ticks\": \"\"}, \"colorscale\": [[0.0, \"#0d0887\"], [0.1111111111111111, \"#46039f\"], [0.2222222222222222, \"#7201a8\"], [0.3333333333333333, \"#9c179e\"], [0.4444444444444444, \"#bd3786\"], [0.5555555555555556, \"#d8576b\"], [0.6666666666666666, \"#ed7953\"], [0.7777777777777778, \"#fb9f3a\"], [0.8888888888888888, \"#fdca26\"], [1.0, \"#f0f921\"]], \"type\": \"histogram2d\"}], \"histogram2dcontour\": [{\"colorbar\": {\"outlinewidth\": 0, \"ticks\": \"\"}, \"colorscale\": [[0.0, \"#0d0887\"], [0.1111111111111111, \"#46039f\"], [0.2222222222222222, \"#7201a8\"], [0.3333333333333333, \"#9c179e\"], [0.4444444444444444, \"#bd3786\"], [0.5555555555555556, \"#d8576b\"], [0.6666666666666666, \"#ed7953\"], [0.7777777777777778, \"#fb9f3a\"], [0.8888888888888888, \"#fdca26\"], [1.0, \"#f0f921\"]], \"type\": \"histogram2dcontour\"}], \"mesh3d\": [{\"colorbar\": {\"outlinewidth\": 0, \"ticks\": \"\"}, \"type\": \"mesh3d\"}], \"parcoords\": [{\"line\": {\"colorbar\": {\"outlinewidth\": 0, \"ticks\": \"\"}}, \"type\": \"parcoords\"}], \"pie\": [{\"automargin\": true, \"type\": \"pie\"}], \"scatter\": [{\"marker\": {\"colorbar\": {\"outlinewidth\": 0, \"ticks\": \"\"}}, \"type\": \"scatter\"}], \"scatter3d\": [{\"line\": {\"colorbar\": {\"outlinewidth\": 0, \"ticks\": \"\"}}, \"marker\": {\"colorbar\": {\"outlinewidth\": 0, \"ticks\": \"\"}}, \"type\": \"scatter3d\"}], \"scattercarpet\": [{\"marker\": {\"colorbar\": {\"outlinewidth\": 0, \"ticks\": \"\"}}, \"type\": \"scattercarpet\"}], \"scattergeo\": [{\"marker\": {\"colorbar\": {\"outlinewidth\": 0, \"ticks\": \"\"}}, \"type\": \"scattergeo\"}], \"scattergl\": [{\"marker\": {\"colorbar\": {\"outlinewidth\": 0, \"ticks\": \"\"}}, \"type\": \"scattergl\"}], \"scattermapbox\": [{\"marker\": {\"colorbar\": {\"outlinewidth\": 0, \"ticks\": \"\"}}, \"type\": \"scattermapbox\"}], \"scatterpolar\": [{\"marker\": {\"colorbar\": {\"outlinewidth\": 0, \"ticks\": \"\"}}, \"type\": \"scatterpolar\"}], \"scatterpolargl\": [{\"marker\": {\"colorbar\": {\"outlinewidth\": 0, \"ticks\": \"\"}}, \"type\": \"scatterpolargl\"}], \"scatterternary\": [{\"marker\": {\"colorbar\": {\"outlinewidth\": 0, \"ticks\": \"\"}}, \"type\": \"scatterternary\"}], \"surface\": [{\"colorbar\": {\"outlinewidth\": 0, \"ticks\": \"\"}, \"colorscale\": [[0.0, \"#0d0887\"], [0.1111111111111111, \"#46039f\"], [0.2222222222222222, \"#7201a8\"], [0.3333333333333333, \"#9c179e\"], [0.4444444444444444, \"#bd3786\"], [0.5555555555555556, \"#d8576b\"], [0.6666666666666666, \"#ed7953\"], [0.7777777777777778, \"#fb9f3a\"], [0.8888888888888888, \"#fdca26\"], [1.0, \"#f0f921\"]], \"type\": \"surface\"}], \"table\": [{\"cells\": {\"fill\": {\"color\": \"#EBF0F8\"}, \"line\": {\"color\": \"white\"}}, \"header\": {\"fill\": {\"color\": \"#C8D4E3\"}, \"line\": {\"color\": \"white\"}}, \"type\": \"table\"}]}, \"layout\": {\"annotationdefaults\": {\"arrowcolor\": \"#2a3f5f\", \"arrowhead\": 0, \"arrowwidth\": 1}, \"coloraxis\": {\"colorbar\": {\"outlinewidth\": 0, \"ticks\": \"\"}}, \"colorscale\": {\"diverging\": [[0, \"#8e0152\"], [0.1, \"#c51b7d\"], [0.2, \"#de77ae\"], [0.3, \"#f1b6da\"], [0.4, \"#fde0ef\"], [0.5, \"#f7f7f7\"], [0.6, \"#e6f5d0\"], [0.7, \"#b8e186\"], [0.8, \"#7fbc41\"], [0.9, \"#4d9221\"], [1, \"#276419\"]], \"sequential\": [[0.0, \"#0d0887\"], [0.1111111111111111, \"#46039f\"], [0.2222222222222222, \"#7201a8\"], [0.3333333333333333, \"#9c179e\"], [0.4444444444444444, \"#bd3786\"], [0.5555555555555556, \"#d8576b\"], [0.6666666666666666, \"#ed7953\"], [0.7777777777777778, \"#fb9f3a\"], [0.8888888888888888, \"#fdca26\"], [1.0, \"#f0f921\"]], \"sequentialminus\": [[0.0, \"#0d0887\"], [0.1111111111111111, \"#46039f\"], [0.2222222222222222, \"#7201a8\"], [0.3333333333333333, \"#9c179e\"], [0.4444444444444444, \"#bd3786\"], [0.5555555555555556, \"#d8576b\"], [0.6666666666666666, \"#ed7953\"], [0.7777777777777778, \"#fb9f3a\"], [0.8888888888888888, \"#fdca26\"], [1.0, \"#f0f921\"]]}, \"colorway\": [\"#636efa\", \"#EF553B\", \"#00cc96\", \"#ab63fa\", \"#FFA15A\", \"#19d3f3\", \"#FF6692\", \"#B6E880\", \"#FF97FF\", \"#FECB52\"], \"font\": {\"color\": \"#2a3f5f\"}, \"geo\": {\"bgcolor\": \"white\", \"lakecolor\": \"white\", \"landcolor\": \"#E5ECF6\", \"showlakes\": true, \"showland\": true, \"subunitcolor\": \"white\"}, \"hoverlabel\": {\"align\": \"left\"}, \"hovermode\": \"closest\", \"mapbox\": {\"style\": \"light\"}, \"paper_bgcolor\": \"white\", \"plot_bgcolor\": \"#E5ECF6\", \"polar\": {\"angularaxis\": {\"gridcolor\": \"white\", \"linecolor\": \"white\", \"ticks\": \"\"}, \"bgcolor\": \"#E5ECF6\", \"radialaxis\": {\"gridcolor\": \"white\", \"linecolor\": \"white\", \"ticks\": \"\"}}, \"scene\": {\"xaxis\": {\"backgroundcolor\": \"#E5ECF6\", \"gridcolor\": \"white\", \"gridwidth\": 2, \"linecolor\": \"white\", \"showbackground\": true, \"ticks\": \"\", \"zerolinecolor\": \"white\"}, \"yaxis\": {\"backgroundcolor\": \"#E5ECF6\", \"gridcolor\": \"white\", \"gridwidth\": 2, \"linecolor\": \"white\", \"showbackground\": true, \"ticks\": \"\", \"zerolinecolor\": \"white\"}, \"zaxis\": {\"backgroundcolor\": \"#E5ECF6\", \"gridcolor\": \"white\", \"gridwidth\": 2, \"linecolor\": \"white\", \"showbackground\": true, \"ticks\": \"\", \"zerolinecolor\": \"white\"}}, \"shapedefaults\": {\"line\": {\"color\": \"#2a3f5f\"}}, \"ternary\": {\"aaxis\": {\"gridcolor\": \"white\", \"linecolor\": \"white\", \"ticks\": \"\"}, \"baxis\": {\"gridcolor\": \"white\", \"linecolor\": \"white\", \"ticks\": \"\"}, \"bgcolor\": \"#E5ECF6\", \"caxis\": {\"gridcolor\": \"white\", \"linecolor\": \"white\", \"ticks\": \"\"}}, \"title\": {\"x\": 0.05}, \"xaxis\": {\"automargin\": true, \"gridcolor\": \"white\", \"linecolor\": \"white\", \"ticks\": \"\", \"title\": {\"standoff\": 15}, \"zerolinecolor\": \"white\", \"zerolinewidth\": 2}, \"yaxis\": {\"automargin\": true, \"gridcolor\": \"white\", \"linecolor\": \"white\", \"ticks\": \"\", \"title\": {\"standoff\": 15}, \"zerolinecolor\": \"white\", \"zerolinewidth\": 2}}}, \"xaxis\": {\"anchor\": \"y\", \"domain\": [0.0, 1.0], \"title\": {\"text\": \"COUNTRY\"}}, \"yaxis\": {\"anchor\": \"x\", \"domain\": [0.0, 1.0], \"title\": {\"text\": \"NEW_CASES\"}}},\n",
              "                        {\"responsive\": true}\n",
              "                    ).then(function(){\n",
              "                            \n",
              "var gd = document.getElementById('38b7c24d-d215-4010-a970-edb39fdd7c0b');\n",
              "var x = new MutationObserver(function (mutations, observer) {{\n",
              "        var display = window.getComputedStyle(gd).display;\n",
              "        if (!display || display === 'none') {{\n",
              "            console.log([gd, 'removed!']);\n",
              "            Plotly.purge(gd);\n",
              "            observer.disconnect();\n",
              "        }}\n",
              "}});\n",
              "\n",
              "// Listen for the removal of the full notebook cells\n",
              "var notebookContainer = gd.closest('#notebook-container');\n",
              "if (notebookContainer) {{\n",
              "    x.observe(notebookContainer, {childList: true});\n",
              "}}\n",
              "\n",
              "// Listen for the clearing of the current output cell\n",
              "var outputEl = gd.closest('.output');\n",
              "if (outputEl) {{\n",
              "    x.observe(outputEl, {childList: true});\n",
              "}}\n",
              "\n",
              "                        })\n",
              "                };\n",
              "                \n",
              "            </script>\n",
              "        </div>\n",
              "</body>\n",
              "</html>"
            ]
          },
          "metadata": {}
        }
      ]
    },
    {
      "cell_type": "code",
      "metadata": {
        "colab": {
          "base_uri": "https://localhost:8080/",
          "height": 542
        },
        "id": "V4-SYYvhBppf",
        "outputId": "70911843-807e-4fd7-fddc-682aebe8ecff"
      },
      "source": [
        "df2 = df.loc[df['WHO_REGION'] == 'Other']\n",
        "df2 = df2.groupby('COUNTRY', as_index = False).sum()\n",
        "fig = px.bar(df2, x='COUNTRY', y='NEW_DEATHS')\n",
        "fig.show()"
      ],
      "execution_count": null,
      "outputs": [
        {
          "output_type": "display_data",
          "data": {
            "text/html": [
              "<html>\n",
              "<head><meta charset=\"utf-8\" /></head>\n",
              "<body>\n",
              "    <div>\n",
              "            <script src=\"https://cdnjs.cloudflare.com/ajax/libs/mathjax/2.7.5/MathJax.js?config=TeX-AMS-MML_SVG\"></script><script type=\"text/javascript\">if (window.MathJax) {MathJax.Hub.Config({SVG: {font: \"STIX-Web\"}});}</script>\n",
              "                <script type=\"text/javascript\">window.PlotlyConfig = {MathJaxConfig: 'local'};</script>\n",
              "        <script src=\"https://cdn.plot.ly/plotly-latest.min.js\"></script>    \n",
              "            <div id=\"6a36e290-2c4a-46a6-92d8-d96b7a8137ae\" class=\"plotly-graph-div\" style=\"height:525px; width:100%;\"></div>\n",
              "            <script type=\"text/javascript\">\n",
              "                \n",
              "                    window.PLOTLYENV=window.PLOTLYENV || {};\n",
              "                    \n",
              "                if (document.getElementById(\"6a36e290-2c4a-46a6-92d8-d96b7a8137ae\")) {\n",
              "                    Plotly.newPlot(\n",
              "                        '6a36e290-2c4a-46a6-92d8-d96b7a8137ae',\n",
              "                        [{\"alignmentgroup\": \"True\", \"hoverlabel\": {\"namelength\": 0}, \"hovertemplate\": \"COUNTRY=%{x}<br>NEW_DEATHS=%{y}\", \"legendgroup\": \"\", \"marker\": {\"color\": \"#636efa\"}, \"name\": \"\", \"offsetgroup\": \"\", \"orientation\": \"v\", \"showlegend\": false, \"textposition\": \"auto\", \"type\": \"bar\", \"x\": [\"Other\"], \"xaxis\": \"x\", \"y\": [13], \"yaxis\": \"y\"}],\n",
              "                        {\"barmode\": \"relative\", \"legend\": {\"tracegroupgap\": 0}, \"margin\": {\"t\": 60}, \"template\": {\"data\": {\"bar\": [{\"error_x\": {\"color\": \"#2a3f5f\"}, \"error_y\": {\"color\": \"#2a3f5f\"}, \"marker\": {\"line\": {\"color\": \"#E5ECF6\", \"width\": 0.5}}, \"type\": \"bar\"}], \"barpolar\": [{\"marker\": {\"line\": {\"color\": \"#E5ECF6\", \"width\": 0.5}}, \"type\": \"barpolar\"}], \"carpet\": [{\"aaxis\": {\"endlinecolor\": \"#2a3f5f\", \"gridcolor\": \"white\", \"linecolor\": \"white\", \"minorgridcolor\": \"white\", \"startlinecolor\": \"#2a3f5f\"}, \"baxis\": {\"endlinecolor\": \"#2a3f5f\", \"gridcolor\": \"white\", \"linecolor\": \"white\", \"minorgridcolor\": \"white\", \"startlinecolor\": \"#2a3f5f\"}, \"type\": \"carpet\"}], \"choropleth\": [{\"colorbar\": {\"outlinewidth\": 0, \"ticks\": \"\"}, \"type\": \"choropleth\"}], \"contour\": [{\"colorbar\": {\"outlinewidth\": 0, \"ticks\": \"\"}, \"colorscale\": [[0.0, \"#0d0887\"], [0.1111111111111111, \"#46039f\"], [0.2222222222222222, \"#7201a8\"], [0.3333333333333333, \"#9c179e\"], [0.4444444444444444, \"#bd3786\"], [0.5555555555555556, \"#d8576b\"], [0.6666666666666666, \"#ed7953\"], [0.7777777777777778, \"#fb9f3a\"], [0.8888888888888888, \"#fdca26\"], [1.0, \"#f0f921\"]], \"type\": \"contour\"}], \"contourcarpet\": [{\"colorbar\": {\"outlinewidth\": 0, \"ticks\": \"\"}, \"type\": \"contourcarpet\"}], \"heatmap\": [{\"colorbar\": {\"outlinewidth\": 0, \"ticks\": \"\"}, \"colorscale\": [[0.0, \"#0d0887\"], [0.1111111111111111, \"#46039f\"], [0.2222222222222222, \"#7201a8\"], [0.3333333333333333, \"#9c179e\"], [0.4444444444444444, \"#bd3786\"], [0.5555555555555556, \"#d8576b\"], [0.6666666666666666, \"#ed7953\"], [0.7777777777777778, \"#fb9f3a\"], [0.8888888888888888, \"#fdca26\"], [1.0, \"#f0f921\"]], \"type\": \"heatmap\"}], \"heatmapgl\": [{\"colorbar\": {\"outlinewidth\": 0, \"ticks\": \"\"}, \"colorscale\": [[0.0, \"#0d0887\"], [0.1111111111111111, \"#46039f\"], [0.2222222222222222, \"#7201a8\"], [0.3333333333333333, \"#9c179e\"], [0.4444444444444444, \"#bd3786\"], [0.5555555555555556, \"#d8576b\"], [0.6666666666666666, \"#ed7953\"], [0.7777777777777778, \"#fb9f3a\"], [0.8888888888888888, \"#fdca26\"], [1.0, \"#f0f921\"]], \"type\": \"heatmapgl\"}], \"histogram\": [{\"marker\": {\"colorbar\": {\"outlinewidth\": 0, \"ticks\": \"\"}}, \"type\": \"histogram\"}], \"histogram2d\": [{\"colorbar\": {\"outlinewidth\": 0, \"ticks\": \"\"}, \"colorscale\": [[0.0, \"#0d0887\"], [0.1111111111111111, \"#46039f\"], [0.2222222222222222, \"#7201a8\"], [0.3333333333333333, \"#9c179e\"], [0.4444444444444444, \"#bd3786\"], [0.5555555555555556, \"#d8576b\"], [0.6666666666666666, \"#ed7953\"], [0.7777777777777778, \"#fb9f3a\"], [0.8888888888888888, \"#fdca26\"], [1.0, \"#f0f921\"]], \"type\": \"histogram2d\"}], \"histogram2dcontour\": [{\"colorbar\": {\"outlinewidth\": 0, \"ticks\": \"\"}, \"colorscale\": [[0.0, \"#0d0887\"], [0.1111111111111111, \"#46039f\"], [0.2222222222222222, \"#7201a8\"], [0.3333333333333333, \"#9c179e\"], [0.4444444444444444, \"#bd3786\"], [0.5555555555555556, \"#d8576b\"], [0.6666666666666666, \"#ed7953\"], [0.7777777777777778, \"#fb9f3a\"], [0.8888888888888888, \"#fdca26\"], [1.0, \"#f0f921\"]], \"type\": \"histogram2dcontour\"}], \"mesh3d\": [{\"colorbar\": {\"outlinewidth\": 0, \"ticks\": \"\"}, \"type\": \"mesh3d\"}], \"parcoords\": [{\"line\": {\"colorbar\": {\"outlinewidth\": 0, \"ticks\": \"\"}}, \"type\": \"parcoords\"}], \"pie\": [{\"automargin\": true, \"type\": \"pie\"}], \"scatter\": [{\"marker\": {\"colorbar\": {\"outlinewidth\": 0, \"ticks\": \"\"}}, \"type\": \"scatter\"}], \"scatter3d\": [{\"line\": {\"colorbar\": {\"outlinewidth\": 0, \"ticks\": \"\"}}, \"marker\": {\"colorbar\": {\"outlinewidth\": 0, \"ticks\": \"\"}}, \"type\": \"scatter3d\"}], \"scattercarpet\": [{\"marker\": {\"colorbar\": {\"outlinewidth\": 0, \"ticks\": \"\"}}, \"type\": \"scattercarpet\"}], \"scattergeo\": [{\"marker\": {\"colorbar\": {\"outlinewidth\": 0, \"ticks\": \"\"}}, \"type\": \"scattergeo\"}], \"scattergl\": [{\"marker\": {\"colorbar\": {\"outlinewidth\": 0, \"ticks\": \"\"}}, \"type\": \"scattergl\"}], \"scattermapbox\": [{\"marker\": {\"colorbar\": {\"outlinewidth\": 0, \"ticks\": \"\"}}, \"type\": \"scattermapbox\"}], \"scatterpolar\": [{\"marker\": {\"colorbar\": {\"outlinewidth\": 0, \"ticks\": \"\"}}, \"type\": \"scatterpolar\"}], \"scatterpolargl\": [{\"marker\": {\"colorbar\": {\"outlinewidth\": 0, \"ticks\": \"\"}}, \"type\": \"scatterpolargl\"}], \"scatterternary\": [{\"marker\": {\"colorbar\": {\"outlinewidth\": 0, \"ticks\": \"\"}}, \"type\": \"scatterternary\"}], \"surface\": [{\"colorbar\": {\"outlinewidth\": 0, \"ticks\": \"\"}, \"colorscale\": [[0.0, \"#0d0887\"], [0.1111111111111111, \"#46039f\"], [0.2222222222222222, \"#7201a8\"], [0.3333333333333333, \"#9c179e\"], [0.4444444444444444, \"#bd3786\"], [0.5555555555555556, \"#d8576b\"], [0.6666666666666666, \"#ed7953\"], [0.7777777777777778, \"#fb9f3a\"], [0.8888888888888888, \"#fdca26\"], [1.0, \"#f0f921\"]], \"type\": \"surface\"}], \"table\": [{\"cells\": {\"fill\": {\"color\": \"#EBF0F8\"}, \"line\": {\"color\": \"white\"}}, \"header\": {\"fill\": {\"color\": \"#C8D4E3\"}, \"line\": {\"color\": \"white\"}}, \"type\": \"table\"}]}, \"layout\": {\"annotationdefaults\": {\"arrowcolor\": \"#2a3f5f\", \"arrowhead\": 0, \"arrowwidth\": 1}, \"coloraxis\": {\"colorbar\": {\"outlinewidth\": 0, \"ticks\": \"\"}}, \"colorscale\": {\"diverging\": [[0, \"#8e0152\"], [0.1, \"#c51b7d\"], [0.2, \"#de77ae\"], [0.3, \"#f1b6da\"], [0.4, \"#fde0ef\"], [0.5, \"#f7f7f7\"], [0.6, \"#e6f5d0\"], [0.7, \"#b8e186\"], [0.8, \"#7fbc41\"], [0.9, \"#4d9221\"], [1, \"#276419\"]], \"sequential\": [[0.0, \"#0d0887\"], [0.1111111111111111, \"#46039f\"], [0.2222222222222222, \"#7201a8\"], [0.3333333333333333, \"#9c179e\"], [0.4444444444444444, \"#bd3786\"], [0.5555555555555556, \"#d8576b\"], [0.6666666666666666, \"#ed7953\"], [0.7777777777777778, \"#fb9f3a\"], [0.8888888888888888, \"#fdca26\"], [1.0, \"#f0f921\"]], \"sequentialminus\": [[0.0, \"#0d0887\"], [0.1111111111111111, \"#46039f\"], [0.2222222222222222, \"#7201a8\"], [0.3333333333333333, \"#9c179e\"], [0.4444444444444444, \"#bd3786\"], [0.5555555555555556, \"#d8576b\"], [0.6666666666666666, \"#ed7953\"], [0.7777777777777778, \"#fb9f3a\"], [0.8888888888888888, \"#fdca26\"], [1.0, \"#f0f921\"]]}, \"colorway\": [\"#636efa\", \"#EF553B\", \"#00cc96\", \"#ab63fa\", \"#FFA15A\", \"#19d3f3\", \"#FF6692\", \"#B6E880\", \"#FF97FF\", \"#FECB52\"], \"font\": {\"color\": \"#2a3f5f\"}, \"geo\": {\"bgcolor\": \"white\", \"lakecolor\": \"white\", \"landcolor\": \"#E5ECF6\", \"showlakes\": true, \"showland\": true, \"subunitcolor\": \"white\"}, \"hoverlabel\": {\"align\": \"left\"}, \"hovermode\": \"closest\", \"mapbox\": {\"style\": \"light\"}, \"paper_bgcolor\": \"white\", \"plot_bgcolor\": \"#E5ECF6\", \"polar\": {\"angularaxis\": {\"gridcolor\": \"white\", \"linecolor\": \"white\", \"ticks\": \"\"}, \"bgcolor\": \"#E5ECF6\", \"radialaxis\": {\"gridcolor\": \"white\", \"linecolor\": \"white\", \"ticks\": \"\"}}, \"scene\": {\"xaxis\": {\"backgroundcolor\": \"#E5ECF6\", \"gridcolor\": \"white\", \"gridwidth\": 2, \"linecolor\": \"white\", \"showbackground\": true, \"ticks\": \"\", \"zerolinecolor\": \"white\"}, \"yaxis\": {\"backgroundcolor\": \"#E5ECF6\", \"gridcolor\": \"white\", \"gridwidth\": 2, \"linecolor\": \"white\", \"showbackground\": true, \"ticks\": \"\", \"zerolinecolor\": \"white\"}, \"zaxis\": {\"backgroundcolor\": \"#E5ECF6\", \"gridcolor\": \"white\", \"gridwidth\": 2, \"linecolor\": \"white\", \"showbackground\": true, \"ticks\": \"\", \"zerolinecolor\": \"white\"}}, \"shapedefaults\": {\"line\": {\"color\": \"#2a3f5f\"}}, \"ternary\": {\"aaxis\": {\"gridcolor\": \"white\", \"linecolor\": \"white\", \"ticks\": \"\"}, \"baxis\": {\"gridcolor\": \"white\", \"linecolor\": \"white\", \"ticks\": \"\"}, \"bgcolor\": \"#E5ECF6\", \"caxis\": {\"gridcolor\": \"white\", \"linecolor\": \"white\", \"ticks\": \"\"}}, \"title\": {\"x\": 0.05}, \"xaxis\": {\"automargin\": true, \"gridcolor\": \"white\", \"linecolor\": \"white\", \"ticks\": \"\", \"title\": {\"standoff\": 15}, \"zerolinecolor\": \"white\", \"zerolinewidth\": 2}, \"yaxis\": {\"automargin\": true, \"gridcolor\": \"white\", \"linecolor\": \"white\", \"ticks\": \"\", \"title\": {\"standoff\": 15}, \"zerolinecolor\": \"white\", \"zerolinewidth\": 2}}}, \"xaxis\": {\"anchor\": \"y\", \"domain\": [0.0, 1.0], \"title\": {\"text\": \"COUNTRY\"}}, \"yaxis\": {\"anchor\": \"x\", \"domain\": [0.0, 1.0], \"title\": {\"text\": \"NEW_DEATHS\"}}},\n",
              "                        {\"responsive\": true}\n",
              "                    ).then(function(){\n",
              "                            \n",
              "var gd = document.getElementById('6a36e290-2c4a-46a6-92d8-d96b7a8137ae');\n",
              "var x = new MutationObserver(function (mutations, observer) {{\n",
              "        var display = window.getComputedStyle(gd).display;\n",
              "        if (!display || display === 'none') {{\n",
              "            console.log([gd, 'removed!']);\n",
              "            Plotly.purge(gd);\n",
              "            observer.disconnect();\n",
              "        }}\n",
              "}});\n",
              "\n",
              "// Listen for the removal of the full notebook cells\n",
              "var notebookContainer = gd.closest('#notebook-container');\n",
              "if (notebookContainer) {{\n",
              "    x.observe(notebookContainer, {childList: true});\n",
              "}}\n",
              "\n",
              "// Listen for the clearing of the current output cell\n",
              "var outputEl = gd.closest('.output');\n",
              "if (outputEl) {{\n",
              "    x.observe(outputEl, {childList: true});\n",
              "}}\n",
              "\n",
              "                        })\n",
              "                };\n",
              "                \n",
              "            </script>\n",
              "        </div>\n",
              "</body>\n",
              "</html>"
            ]
          },
          "metadata": {}
        }
      ]
    },
    {
      "cell_type": "code",
      "metadata": {
        "colab": {
          "base_uri": "https://localhost:8080/",
          "height": 744
        },
        "id": "-ag1RWGIBuY8",
        "outputId": "bb8cdafa-fad5-4168-cfb1-417fafb1148e"
      },
      "source": [
        "df2 = df.loc[df['WHO_REGION'] == 'SEARO']\n",
        "df2 = df2.groupby('COUNTRY', as_index = False).sum()\n",
        "print(df2)\n",
        "fig = px.bar(df2, x='COUNTRY', y='NEW_CASES')\n",
        "fig.show()"
      ],
      "execution_count": null,
      "outputs": [
        {
          "output_type": "stream",
          "name": "stdout",
          "text": [
            "                                  COUNTRY  NEW_CASES  NEW_DEATHS\n",
            "0                              Bangladesh    1482628       25729\n",
            "1                                  Bhutan       2591           3\n",
            "2   Democratic People's Republic of Korea          0           0\n",
            "3                                   India   32558530      436365\n",
            "4                               Indonesia    4026837      129293\n",
            "5                                Maldives      80328         225\n",
            "6                                 Myanmar     380879       14737\n",
            "7                                   Nepal     752863       10612\n",
            "8                               Sri Lanka     407768        7948\n",
            "9                                Thailand    1120869       10314\n",
            "10                            Timor-Leste      15296          52\n"
          ]
        },
        {
          "output_type": "display_data",
          "data": {
            "text/html": [
              "<html>\n",
              "<head><meta charset=\"utf-8\" /></head>\n",
              "<body>\n",
              "    <div>\n",
              "            <script src=\"https://cdnjs.cloudflare.com/ajax/libs/mathjax/2.7.5/MathJax.js?config=TeX-AMS-MML_SVG\"></script><script type=\"text/javascript\">if (window.MathJax) {MathJax.Hub.Config({SVG: {font: \"STIX-Web\"}});}</script>\n",
              "                <script type=\"text/javascript\">window.PlotlyConfig = {MathJaxConfig: 'local'};</script>\n",
              "        <script src=\"https://cdn.plot.ly/plotly-latest.min.js\"></script>    \n",
              "            <div id=\"2784cf2d-723e-464b-aa9c-14b9108ee5d6\" class=\"plotly-graph-div\" style=\"height:525px; width:100%;\"></div>\n",
              "            <script type=\"text/javascript\">\n",
              "                \n",
              "                    window.PLOTLYENV=window.PLOTLYENV || {};\n",
              "                    \n",
              "                if (document.getElementById(\"2784cf2d-723e-464b-aa9c-14b9108ee5d6\")) {\n",
              "                    Plotly.newPlot(\n",
              "                        '2784cf2d-723e-464b-aa9c-14b9108ee5d6',\n",
              "                        [{\"alignmentgroup\": \"True\", \"hoverlabel\": {\"namelength\": 0}, \"hovertemplate\": \"COUNTRY=%{x}<br>NEW_CASES=%{y}\", \"legendgroup\": \"\", \"marker\": {\"color\": \"#636efa\"}, \"name\": \"\", \"offsetgroup\": \"\", \"orientation\": \"v\", \"showlegend\": false, \"textposition\": \"auto\", \"type\": \"bar\", \"x\": [\"Bangladesh\", \"Bhutan\", \"Democratic People's Republic of Korea\", \"India\", \"Indonesia\", \"Maldives\", \"Myanmar\", \"Nepal\", \"Sri Lanka\", \"Thailand\", \"Timor-Leste\"], \"xaxis\": \"x\", \"y\": [1482628, 2591, 0, 32558530, 4026837, 80328, 380879, 752863, 407768, 1120869, 15296], \"yaxis\": \"y\"}],\n",
              "                        {\"barmode\": \"relative\", \"legend\": {\"tracegroupgap\": 0}, \"margin\": {\"t\": 60}, \"template\": {\"data\": {\"bar\": [{\"error_x\": {\"color\": \"#2a3f5f\"}, \"error_y\": {\"color\": \"#2a3f5f\"}, \"marker\": {\"line\": {\"color\": \"#E5ECF6\", \"width\": 0.5}}, \"type\": \"bar\"}], \"barpolar\": [{\"marker\": {\"line\": {\"color\": \"#E5ECF6\", \"width\": 0.5}}, \"type\": \"barpolar\"}], \"carpet\": [{\"aaxis\": {\"endlinecolor\": \"#2a3f5f\", \"gridcolor\": \"white\", \"linecolor\": \"white\", \"minorgridcolor\": \"white\", \"startlinecolor\": \"#2a3f5f\"}, \"baxis\": {\"endlinecolor\": \"#2a3f5f\", \"gridcolor\": \"white\", \"linecolor\": \"white\", \"minorgridcolor\": \"white\", \"startlinecolor\": \"#2a3f5f\"}, \"type\": \"carpet\"}], \"choropleth\": [{\"colorbar\": {\"outlinewidth\": 0, \"ticks\": \"\"}, \"type\": \"choropleth\"}], \"contour\": [{\"colorbar\": {\"outlinewidth\": 0, \"ticks\": \"\"}, \"colorscale\": [[0.0, \"#0d0887\"], [0.1111111111111111, \"#46039f\"], [0.2222222222222222, \"#7201a8\"], [0.3333333333333333, \"#9c179e\"], [0.4444444444444444, \"#bd3786\"], [0.5555555555555556, \"#d8576b\"], [0.6666666666666666, \"#ed7953\"], [0.7777777777777778, \"#fb9f3a\"], [0.8888888888888888, \"#fdca26\"], [1.0, \"#f0f921\"]], \"type\": \"contour\"}], \"contourcarpet\": [{\"colorbar\": {\"outlinewidth\": 0, \"ticks\": \"\"}, \"type\": \"contourcarpet\"}], \"heatmap\": [{\"colorbar\": {\"outlinewidth\": 0, \"ticks\": \"\"}, \"colorscale\": [[0.0, \"#0d0887\"], [0.1111111111111111, \"#46039f\"], [0.2222222222222222, \"#7201a8\"], [0.3333333333333333, \"#9c179e\"], [0.4444444444444444, \"#bd3786\"], [0.5555555555555556, \"#d8576b\"], [0.6666666666666666, \"#ed7953\"], [0.7777777777777778, \"#fb9f3a\"], [0.8888888888888888, \"#fdca26\"], [1.0, \"#f0f921\"]], \"type\": \"heatmap\"}], \"heatmapgl\": [{\"colorbar\": {\"outlinewidth\": 0, \"ticks\": \"\"}, \"colorscale\": [[0.0, \"#0d0887\"], [0.1111111111111111, \"#46039f\"], [0.2222222222222222, \"#7201a8\"], [0.3333333333333333, \"#9c179e\"], [0.4444444444444444, \"#bd3786\"], [0.5555555555555556, \"#d8576b\"], [0.6666666666666666, \"#ed7953\"], [0.7777777777777778, \"#fb9f3a\"], [0.8888888888888888, \"#fdca26\"], [1.0, \"#f0f921\"]], \"type\": \"heatmapgl\"}], \"histogram\": [{\"marker\": {\"colorbar\": {\"outlinewidth\": 0, \"ticks\": \"\"}}, \"type\": \"histogram\"}], \"histogram2d\": [{\"colorbar\": {\"outlinewidth\": 0, \"ticks\": \"\"}, \"colorscale\": [[0.0, \"#0d0887\"], [0.1111111111111111, \"#46039f\"], [0.2222222222222222, \"#7201a8\"], [0.3333333333333333, \"#9c179e\"], [0.4444444444444444, \"#bd3786\"], [0.5555555555555556, \"#d8576b\"], [0.6666666666666666, \"#ed7953\"], [0.7777777777777778, \"#fb9f3a\"], [0.8888888888888888, \"#fdca26\"], [1.0, \"#f0f921\"]], \"type\": \"histogram2d\"}], \"histogram2dcontour\": [{\"colorbar\": {\"outlinewidth\": 0, \"ticks\": \"\"}, \"colorscale\": [[0.0, \"#0d0887\"], [0.1111111111111111, \"#46039f\"], [0.2222222222222222, \"#7201a8\"], [0.3333333333333333, \"#9c179e\"], [0.4444444444444444, \"#bd3786\"], [0.5555555555555556, \"#d8576b\"], [0.6666666666666666, \"#ed7953\"], [0.7777777777777778, \"#fb9f3a\"], [0.8888888888888888, \"#fdca26\"], [1.0, \"#f0f921\"]], \"type\": \"histogram2dcontour\"}], \"mesh3d\": [{\"colorbar\": {\"outlinewidth\": 0, \"ticks\": \"\"}, \"type\": \"mesh3d\"}], \"parcoords\": [{\"line\": {\"colorbar\": {\"outlinewidth\": 0, \"ticks\": \"\"}}, \"type\": \"parcoords\"}], \"pie\": [{\"automargin\": true, \"type\": \"pie\"}], \"scatter\": [{\"marker\": {\"colorbar\": {\"outlinewidth\": 0, \"ticks\": \"\"}}, \"type\": \"scatter\"}], \"scatter3d\": [{\"line\": {\"colorbar\": {\"outlinewidth\": 0, \"ticks\": \"\"}}, \"marker\": {\"colorbar\": {\"outlinewidth\": 0, \"ticks\": \"\"}}, \"type\": \"scatter3d\"}], \"scattercarpet\": [{\"marker\": {\"colorbar\": {\"outlinewidth\": 0, \"ticks\": \"\"}}, \"type\": \"scattercarpet\"}], \"scattergeo\": [{\"marker\": {\"colorbar\": {\"outlinewidth\": 0, \"ticks\": \"\"}}, \"type\": \"scattergeo\"}], \"scattergl\": [{\"marker\": {\"colorbar\": {\"outlinewidth\": 0, \"ticks\": \"\"}}, \"type\": \"scattergl\"}], \"scattermapbox\": [{\"marker\": {\"colorbar\": {\"outlinewidth\": 0, \"ticks\": \"\"}}, \"type\": \"scattermapbox\"}], \"scatterpolar\": [{\"marker\": {\"colorbar\": {\"outlinewidth\": 0, \"ticks\": \"\"}}, \"type\": \"scatterpolar\"}], \"scatterpolargl\": [{\"marker\": {\"colorbar\": {\"outlinewidth\": 0, \"ticks\": \"\"}}, \"type\": \"scatterpolargl\"}], \"scatterternary\": [{\"marker\": {\"colorbar\": {\"outlinewidth\": 0, \"ticks\": \"\"}}, \"type\": \"scatterternary\"}], \"surface\": [{\"colorbar\": {\"outlinewidth\": 0, \"ticks\": \"\"}, \"colorscale\": [[0.0, \"#0d0887\"], [0.1111111111111111, \"#46039f\"], [0.2222222222222222, \"#7201a8\"], [0.3333333333333333, \"#9c179e\"], [0.4444444444444444, \"#bd3786\"], [0.5555555555555556, \"#d8576b\"], [0.6666666666666666, \"#ed7953\"], [0.7777777777777778, \"#fb9f3a\"], [0.8888888888888888, \"#fdca26\"], [1.0, \"#f0f921\"]], \"type\": \"surface\"}], \"table\": [{\"cells\": {\"fill\": {\"color\": \"#EBF0F8\"}, \"line\": {\"color\": \"white\"}}, \"header\": {\"fill\": {\"color\": \"#C8D4E3\"}, \"line\": {\"color\": \"white\"}}, \"type\": \"table\"}]}, \"layout\": {\"annotationdefaults\": {\"arrowcolor\": \"#2a3f5f\", \"arrowhead\": 0, \"arrowwidth\": 1}, \"coloraxis\": {\"colorbar\": {\"outlinewidth\": 0, \"ticks\": \"\"}}, \"colorscale\": {\"diverging\": [[0, \"#8e0152\"], [0.1, \"#c51b7d\"], [0.2, \"#de77ae\"], [0.3, \"#f1b6da\"], [0.4, \"#fde0ef\"], [0.5, \"#f7f7f7\"], [0.6, \"#e6f5d0\"], [0.7, \"#b8e186\"], [0.8, \"#7fbc41\"], [0.9, \"#4d9221\"], [1, \"#276419\"]], \"sequential\": [[0.0, \"#0d0887\"], [0.1111111111111111, \"#46039f\"], [0.2222222222222222, \"#7201a8\"], [0.3333333333333333, \"#9c179e\"], [0.4444444444444444, \"#bd3786\"], [0.5555555555555556, \"#d8576b\"], [0.6666666666666666, \"#ed7953\"], [0.7777777777777778, \"#fb9f3a\"], [0.8888888888888888, \"#fdca26\"], [1.0, \"#f0f921\"]], \"sequentialminus\": [[0.0, \"#0d0887\"], [0.1111111111111111, \"#46039f\"], [0.2222222222222222, \"#7201a8\"], [0.3333333333333333, \"#9c179e\"], [0.4444444444444444, \"#bd3786\"], [0.5555555555555556, \"#d8576b\"], [0.6666666666666666, \"#ed7953\"], [0.7777777777777778, \"#fb9f3a\"], [0.8888888888888888, \"#fdca26\"], [1.0, \"#f0f921\"]]}, \"colorway\": [\"#636efa\", \"#EF553B\", \"#00cc96\", \"#ab63fa\", \"#FFA15A\", \"#19d3f3\", \"#FF6692\", \"#B6E880\", \"#FF97FF\", \"#FECB52\"], \"font\": {\"color\": \"#2a3f5f\"}, \"geo\": {\"bgcolor\": \"white\", \"lakecolor\": \"white\", \"landcolor\": \"#E5ECF6\", \"showlakes\": true, \"showland\": true, \"subunitcolor\": \"white\"}, \"hoverlabel\": {\"align\": \"left\"}, \"hovermode\": \"closest\", \"mapbox\": {\"style\": \"light\"}, \"paper_bgcolor\": \"white\", \"plot_bgcolor\": \"#E5ECF6\", \"polar\": {\"angularaxis\": {\"gridcolor\": \"white\", \"linecolor\": \"white\", \"ticks\": \"\"}, \"bgcolor\": \"#E5ECF6\", \"radialaxis\": {\"gridcolor\": \"white\", \"linecolor\": \"white\", \"ticks\": \"\"}}, \"scene\": {\"xaxis\": {\"backgroundcolor\": \"#E5ECF6\", \"gridcolor\": \"white\", \"gridwidth\": 2, \"linecolor\": \"white\", \"showbackground\": true, \"ticks\": \"\", \"zerolinecolor\": \"white\"}, \"yaxis\": {\"backgroundcolor\": \"#E5ECF6\", \"gridcolor\": \"white\", \"gridwidth\": 2, \"linecolor\": \"white\", \"showbackground\": true, \"ticks\": \"\", \"zerolinecolor\": \"white\"}, \"zaxis\": {\"backgroundcolor\": \"#E5ECF6\", \"gridcolor\": \"white\", \"gridwidth\": 2, \"linecolor\": \"white\", \"showbackground\": true, \"ticks\": \"\", \"zerolinecolor\": \"white\"}}, \"shapedefaults\": {\"line\": {\"color\": \"#2a3f5f\"}}, \"ternary\": {\"aaxis\": {\"gridcolor\": \"white\", \"linecolor\": \"white\", \"ticks\": \"\"}, \"baxis\": {\"gridcolor\": \"white\", \"linecolor\": \"white\", \"ticks\": \"\"}, \"bgcolor\": \"#E5ECF6\", \"caxis\": {\"gridcolor\": \"white\", \"linecolor\": \"white\", \"ticks\": \"\"}}, \"title\": {\"x\": 0.05}, \"xaxis\": {\"automargin\": true, \"gridcolor\": \"white\", \"linecolor\": \"white\", \"ticks\": \"\", \"title\": {\"standoff\": 15}, \"zerolinecolor\": \"white\", \"zerolinewidth\": 2}, \"yaxis\": {\"automargin\": true, \"gridcolor\": \"white\", \"linecolor\": \"white\", \"ticks\": \"\", \"title\": {\"standoff\": 15}, \"zerolinecolor\": \"white\", \"zerolinewidth\": 2}}}, \"xaxis\": {\"anchor\": \"y\", \"domain\": [0.0, 1.0], \"title\": {\"text\": \"COUNTRY\"}}, \"yaxis\": {\"anchor\": \"x\", \"domain\": [0.0, 1.0], \"title\": {\"text\": \"NEW_CASES\"}}},\n",
              "                        {\"responsive\": true}\n",
              "                    ).then(function(){\n",
              "                            \n",
              "var gd = document.getElementById('2784cf2d-723e-464b-aa9c-14b9108ee5d6');\n",
              "var x = new MutationObserver(function (mutations, observer) {{\n",
              "        var display = window.getComputedStyle(gd).display;\n",
              "        if (!display || display === 'none') {{\n",
              "            console.log([gd, 'removed!']);\n",
              "            Plotly.purge(gd);\n",
              "            observer.disconnect();\n",
              "        }}\n",
              "}});\n",
              "\n",
              "// Listen for the removal of the full notebook cells\n",
              "var notebookContainer = gd.closest('#notebook-container');\n",
              "if (notebookContainer) {{\n",
              "    x.observe(notebookContainer, {childList: true});\n",
              "}}\n",
              "\n",
              "// Listen for the clearing of the current output cell\n",
              "var outputEl = gd.closest('.output');\n",
              "if (outputEl) {{\n",
              "    x.observe(outputEl, {childList: true});\n",
              "}}\n",
              "\n",
              "                        })\n",
              "                };\n",
              "                \n",
              "            </script>\n",
              "        </div>\n",
              "</body>\n",
              "</html>"
            ]
          },
          "metadata": {}
        }
      ]
    },
    {
      "cell_type": "code",
      "metadata": {
        "colab": {
          "base_uri": "https://localhost:8080/",
          "height": 542
        },
        "id": "DS-XaS3SB3hJ",
        "outputId": "5c2ca3e8-1c3f-4374-c3d1-ffa465b3266d"
      },
      "source": [
        "df2 = df.loc[df['WHO_REGION'] == 'SEARO']\n",
        "df2 = df2.groupby('COUNTRY', as_index = False).sum()\n",
        "fig = px.bar(df2, x='COUNTRY', y='NEW_DEATHS')\n",
        "fig.show()"
      ],
      "execution_count": null,
      "outputs": [
        {
          "output_type": "display_data",
          "data": {
            "text/html": [
              "<html>\n",
              "<head><meta charset=\"utf-8\" /></head>\n",
              "<body>\n",
              "    <div>\n",
              "            <script src=\"https://cdnjs.cloudflare.com/ajax/libs/mathjax/2.7.5/MathJax.js?config=TeX-AMS-MML_SVG\"></script><script type=\"text/javascript\">if (window.MathJax) {MathJax.Hub.Config({SVG: {font: \"STIX-Web\"}});}</script>\n",
              "                <script type=\"text/javascript\">window.PlotlyConfig = {MathJaxConfig: 'local'};</script>\n",
              "        <script src=\"https://cdn.plot.ly/plotly-latest.min.js\"></script>    \n",
              "            <div id=\"bd9e381d-dfc0-4c4e-95de-6d293a42a092\" class=\"plotly-graph-div\" style=\"height:525px; width:100%;\"></div>\n",
              "            <script type=\"text/javascript\">\n",
              "                \n",
              "                    window.PLOTLYENV=window.PLOTLYENV || {};\n",
              "                    \n",
              "                if (document.getElementById(\"bd9e381d-dfc0-4c4e-95de-6d293a42a092\")) {\n",
              "                    Plotly.newPlot(\n",
              "                        'bd9e381d-dfc0-4c4e-95de-6d293a42a092',\n",
              "                        [{\"alignmentgroup\": \"True\", \"hoverlabel\": {\"namelength\": 0}, \"hovertemplate\": \"COUNTRY=%{x}<br>NEW_DEATHS=%{y}\", \"legendgroup\": \"\", \"marker\": {\"color\": \"#636efa\"}, \"name\": \"\", \"offsetgroup\": \"\", \"orientation\": \"v\", \"showlegend\": false, \"textposition\": \"auto\", \"type\": \"bar\", \"x\": [\"Bangladesh\", \"Bhutan\", \"Democratic People's Republic of Korea\", \"India\", \"Indonesia\", \"Maldives\", \"Myanmar\", \"Nepal\", \"Sri Lanka\", \"Thailand\", \"Timor-Leste\"], \"xaxis\": \"x\", \"y\": [25729, 3, 0, 436365, 129293, 225, 14737, 10612, 7948, 10314, 52], \"yaxis\": \"y\"}],\n",
              "                        {\"barmode\": \"relative\", \"legend\": {\"tracegroupgap\": 0}, \"margin\": {\"t\": 60}, \"template\": {\"data\": {\"bar\": [{\"error_x\": {\"color\": \"#2a3f5f\"}, \"error_y\": {\"color\": \"#2a3f5f\"}, \"marker\": {\"line\": {\"color\": \"#E5ECF6\", \"width\": 0.5}}, \"type\": \"bar\"}], \"barpolar\": [{\"marker\": {\"line\": {\"color\": \"#E5ECF6\", \"width\": 0.5}}, \"type\": \"barpolar\"}], \"carpet\": [{\"aaxis\": {\"endlinecolor\": \"#2a3f5f\", \"gridcolor\": \"white\", \"linecolor\": \"white\", \"minorgridcolor\": \"white\", \"startlinecolor\": \"#2a3f5f\"}, \"baxis\": {\"endlinecolor\": \"#2a3f5f\", \"gridcolor\": \"white\", \"linecolor\": \"white\", \"minorgridcolor\": \"white\", \"startlinecolor\": \"#2a3f5f\"}, \"type\": \"carpet\"}], \"choropleth\": [{\"colorbar\": {\"outlinewidth\": 0, \"ticks\": \"\"}, \"type\": \"choropleth\"}], \"contour\": [{\"colorbar\": {\"outlinewidth\": 0, \"ticks\": \"\"}, \"colorscale\": [[0.0, \"#0d0887\"], [0.1111111111111111, \"#46039f\"], [0.2222222222222222, \"#7201a8\"], [0.3333333333333333, \"#9c179e\"], [0.4444444444444444, \"#bd3786\"], [0.5555555555555556, \"#d8576b\"], [0.6666666666666666, \"#ed7953\"], [0.7777777777777778, \"#fb9f3a\"], [0.8888888888888888, \"#fdca26\"], [1.0, \"#f0f921\"]], \"type\": \"contour\"}], \"contourcarpet\": [{\"colorbar\": {\"outlinewidth\": 0, \"ticks\": \"\"}, \"type\": \"contourcarpet\"}], \"heatmap\": [{\"colorbar\": {\"outlinewidth\": 0, \"ticks\": \"\"}, \"colorscale\": [[0.0, \"#0d0887\"], [0.1111111111111111, \"#46039f\"], [0.2222222222222222, \"#7201a8\"], [0.3333333333333333, \"#9c179e\"], [0.4444444444444444, \"#bd3786\"], [0.5555555555555556, \"#d8576b\"], [0.6666666666666666, \"#ed7953\"], [0.7777777777777778, \"#fb9f3a\"], [0.8888888888888888, \"#fdca26\"], [1.0, \"#f0f921\"]], \"type\": \"heatmap\"}], \"heatmapgl\": [{\"colorbar\": {\"outlinewidth\": 0, \"ticks\": \"\"}, \"colorscale\": [[0.0, \"#0d0887\"], [0.1111111111111111, \"#46039f\"], [0.2222222222222222, \"#7201a8\"], [0.3333333333333333, \"#9c179e\"], [0.4444444444444444, \"#bd3786\"], [0.5555555555555556, \"#d8576b\"], [0.6666666666666666, \"#ed7953\"], [0.7777777777777778, \"#fb9f3a\"], [0.8888888888888888, \"#fdca26\"], [1.0, \"#f0f921\"]], \"type\": \"heatmapgl\"}], \"histogram\": [{\"marker\": {\"colorbar\": {\"outlinewidth\": 0, \"ticks\": \"\"}}, \"type\": \"histogram\"}], \"histogram2d\": [{\"colorbar\": {\"outlinewidth\": 0, \"ticks\": \"\"}, \"colorscale\": [[0.0, \"#0d0887\"], [0.1111111111111111, \"#46039f\"], [0.2222222222222222, \"#7201a8\"], [0.3333333333333333, \"#9c179e\"], [0.4444444444444444, \"#bd3786\"], [0.5555555555555556, \"#d8576b\"], [0.6666666666666666, \"#ed7953\"], [0.7777777777777778, \"#fb9f3a\"], [0.8888888888888888, \"#fdca26\"], [1.0, \"#f0f921\"]], \"type\": \"histogram2d\"}], \"histogram2dcontour\": [{\"colorbar\": {\"outlinewidth\": 0, \"ticks\": \"\"}, \"colorscale\": [[0.0, \"#0d0887\"], [0.1111111111111111, \"#46039f\"], [0.2222222222222222, \"#7201a8\"], [0.3333333333333333, \"#9c179e\"], [0.4444444444444444, \"#bd3786\"], [0.5555555555555556, \"#d8576b\"], [0.6666666666666666, \"#ed7953\"], [0.7777777777777778, \"#fb9f3a\"], [0.8888888888888888, \"#fdca26\"], [1.0, \"#f0f921\"]], \"type\": \"histogram2dcontour\"}], \"mesh3d\": [{\"colorbar\": {\"outlinewidth\": 0, \"ticks\": \"\"}, \"type\": \"mesh3d\"}], \"parcoords\": [{\"line\": {\"colorbar\": {\"outlinewidth\": 0, \"ticks\": \"\"}}, \"type\": \"parcoords\"}], \"pie\": [{\"automargin\": true, \"type\": \"pie\"}], \"scatter\": [{\"marker\": {\"colorbar\": {\"outlinewidth\": 0, \"ticks\": \"\"}}, \"type\": \"scatter\"}], \"scatter3d\": [{\"line\": {\"colorbar\": {\"outlinewidth\": 0, \"ticks\": \"\"}}, \"marker\": {\"colorbar\": {\"outlinewidth\": 0, \"ticks\": \"\"}}, \"type\": \"scatter3d\"}], \"scattercarpet\": [{\"marker\": {\"colorbar\": {\"outlinewidth\": 0, \"ticks\": \"\"}}, \"type\": \"scattercarpet\"}], \"scattergeo\": [{\"marker\": {\"colorbar\": {\"outlinewidth\": 0, \"ticks\": \"\"}}, \"type\": \"scattergeo\"}], \"scattergl\": [{\"marker\": {\"colorbar\": {\"outlinewidth\": 0, \"ticks\": \"\"}}, \"type\": \"scattergl\"}], \"scattermapbox\": [{\"marker\": {\"colorbar\": {\"outlinewidth\": 0, \"ticks\": \"\"}}, \"type\": \"scattermapbox\"}], \"scatterpolar\": [{\"marker\": {\"colorbar\": {\"outlinewidth\": 0, \"ticks\": \"\"}}, \"type\": \"scatterpolar\"}], \"scatterpolargl\": [{\"marker\": {\"colorbar\": {\"outlinewidth\": 0, \"ticks\": \"\"}}, \"type\": \"scatterpolargl\"}], \"scatterternary\": [{\"marker\": {\"colorbar\": {\"outlinewidth\": 0, \"ticks\": \"\"}}, \"type\": \"scatterternary\"}], \"surface\": [{\"colorbar\": {\"outlinewidth\": 0, \"ticks\": \"\"}, \"colorscale\": [[0.0, \"#0d0887\"], [0.1111111111111111, \"#46039f\"], [0.2222222222222222, \"#7201a8\"], [0.3333333333333333, \"#9c179e\"], [0.4444444444444444, \"#bd3786\"], [0.5555555555555556, \"#d8576b\"], [0.6666666666666666, \"#ed7953\"], [0.7777777777777778, \"#fb9f3a\"], [0.8888888888888888, \"#fdca26\"], [1.0, \"#f0f921\"]], \"type\": \"surface\"}], \"table\": [{\"cells\": {\"fill\": {\"color\": \"#EBF0F8\"}, \"line\": {\"color\": \"white\"}}, \"header\": {\"fill\": {\"color\": \"#C8D4E3\"}, \"line\": {\"color\": \"white\"}}, \"type\": \"table\"}]}, \"layout\": {\"annotationdefaults\": {\"arrowcolor\": \"#2a3f5f\", \"arrowhead\": 0, \"arrowwidth\": 1}, \"coloraxis\": {\"colorbar\": {\"outlinewidth\": 0, \"ticks\": \"\"}}, \"colorscale\": {\"diverging\": [[0, \"#8e0152\"], [0.1, \"#c51b7d\"], [0.2, \"#de77ae\"], [0.3, \"#f1b6da\"], [0.4, \"#fde0ef\"], [0.5, \"#f7f7f7\"], [0.6, \"#e6f5d0\"], [0.7, \"#b8e186\"], [0.8, \"#7fbc41\"], [0.9, \"#4d9221\"], [1, \"#276419\"]], \"sequential\": [[0.0, \"#0d0887\"], [0.1111111111111111, \"#46039f\"], [0.2222222222222222, \"#7201a8\"], [0.3333333333333333, \"#9c179e\"], [0.4444444444444444, \"#bd3786\"], [0.5555555555555556, \"#d8576b\"], [0.6666666666666666, \"#ed7953\"], [0.7777777777777778, \"#fb9f3a\"], [0.8888888888888888, \"#fdca26\"], [1.0, \"#f0f921\"]], \"sequentialminus\": [[0.0, \"#0d0887\"], [0.1111111111111111, \"#46039f\"], [0.2222222222222222, \"#7201a8\"], [0.3333333333333333, \"#9c179e\"], [0.4444444444444444, \"#bd3786\"], [0.5555555555555556, \"#d8576b\"], [0.6666666666666666, \"#ed7953\"], [0.7777777777777778, \"#fb9f3a\"], [0.8888888888888888, \"#fdca26\"], [1.0, \"#f0f921\"]]}, \"colorway\": [\"#636efa\", \"#EF553B\", \"#00cc96\", \"#ab63fa\", \"#FFA15A\", \"#19d3f3\", \"#FF6692\", \"#B6E880\", \"#FF97FF\", \"#FECB52\"], \"font\": {\"color\": \"#2a3f5f\"}, \"geo\": {\"bgcolor\": \"white\", \"lakecolor\": \"white\", \"landcolor\": \"#E5ECF6\", \"showlakes\": true, \"showland\": true, \"subunitcolor\": \"white\"}, \"hoverlabel\": {\"align\": \"left\"}, \"hovermode\": \"closest\", \"mapbox\": {\"style\": \"light\"}, \"paper_bgcolor\": \"white\", \"plot_bgcolor\": \"#E5ECF6\", \"polar\": {\"angularaxis\": {\"gridcolor\": \"white\", \"linecolor\": \"white\", \"ticks\": \"\"}, \"bgcolor\": \"#E5ECF6\", \"radialaxis\": {\"gridcolor\": \"white\", \"linecolor\": \"white\", \"ticks\": \"\"}}, \"scene\": {\"xaxis\": {\"backgroundcolor\": \"#E5ECF6\", \"gridcolor\": \"white\", \"gridwidth\": 2, \"linecolor\": \"white\", \"showbackground\": true, \"ticks\": \"\", \"zerolinecolor\": \"white\"}, \"yaxis\": {\"backgroundcolor\": \"#E5ECF6\", \"gridcolor\": \"white\", \"gridwidth\": 2, \"linecolor\": \"white\", \"showbackground\": true, \"ticks\": \"\", \"zerolinecolor\": \"white\"}, \"zaxis\": {\"backgroundcolor\": \"#E5ECF6\", \"gridcolor\": \"white\", \"gridwidth\": 2, \"linecolor\": \"white\", \"showbackground\": true, \"ticks\": \"\", \"zerolinecolor\": \"white\"}}, \"shapedefaults\": {\"line\": {\"color\": \"#2a3f5f\"}}, \"ternary\": {\"aaxis\": {\"gridcolor\": \"white\", \"linecolor\": \"white\", \"ticks\": \"\"}, \"baxis\": {\"gridcolor\": \"white\", \"linecolor\": \"white\", \"ticks\": \"\"}, \"bgcolor\": \"#E5ECF6\", \"caxis\": {\"gridcolor\": \"white\", \"linecolor\": \"white\", \"ticks\": \"\"}}, \"title\": {\"x\": 0.05}, \"xaxis\": {\"automargin\": true, \"gridcolor\": \"white\", \"linecolor\": \"white\", \"ticks\": \"\", \"title\": {\"standoff\": 15}, \"zerolinecolor\": \"white\", \"zerolinewidth\": 2}, \"yaxis\": {\"automargin\": true, \"gridcolor\": \"white\", \"linecolor\": \"white\", \"ticks\": \"\", \"title\": {\"standoff\": 15}, \"zerolinecolor\": \"white\", \"zerolinewidth\": 2}}}, \"xaxis\": {\"anchor\": \"y\", \"domain\": [0.0, 1.0], \"title\": {\"text\": \"COUNTRY\"}}, \"yaxis\": {\"anchor\": \"x\", \"domain\": [0.0, 1.0], \"title\": {\"text\": \"NEW_DEATHS\"}}},\n",
              "                        {\"responsive\": true}\n",
              "                    ).then(function(){\n",
              "                            \n",
              "var gd = document.getElementById('bd9e381d-dfc0-4c4e-95de-6d293a42a092');\n",
              "var x = new MutationObserver(function (mutations, observer) {{\n",
              "        var display = window.getComputedStyle(gd).display;\n",
              "        if (!display || display === 'none') {{\n",
              "            console.log([gd, 'removed!']);\n",
              "            Plotly.purge(gd);\n",
              "            observer.disconnect();\n",
              "        }}\n",
              "}});\n",
              "\n",
              "// Listen for the removal of the full notebook cells\n",
              "var notebookContainer = gd.closest('#notebook-container');\n",
              "if (notebookContainer) {{\n",
              "    x.observe(notebookContainer, {childList: true});\n",
              "}}\n",
              "\n",
              "// Listen for the clearing of the current output cell\n",
              "var outputEl = gd.closest('.output');\n",
              "if (outputEl) {{\n",
              "    x.observe(outputEl, {childList: true});\n",
              "}}\n",
              "\n",
              "                        })\n",
              "                };\n",
              "                \n",
              "            </script>\n",
              "        </div>\n",
              "</body>\n",
              "</html>"
            ]
          },
          "metadata": {}
        }
      ]
    },
    {
      "cell_type": "code",
      "metadata": {
        "colab": {
          "base_uri": "https://localhost:8080/",
          "height": 1000
        },
        "id": "LwARGXMBCByx",
        "outputId": "a46d6c1f-48ee-4969-872e-937946fceb18"
      },
      "source": [
        "df2 = df.loc[df['WHO_REGION'] == 'WPRO']\n",
        "df2 = df2.groupby('COUNTRY', as_index = False).sum()\n",
        "print(df2)\n",
        "fig = px.bar(df2, x='COUNTRY', y='NEW_CASES')\n",
        "fig.show()"
      ],
      "execution_count": null,
      "outputs": [
        {
          "output_type": "stream",
          "name": "stdout",
          "text": [
            "                                           COUNTRY  NEW_CASES  NEW_DEATHS\n",
            "0                                   American Samoa          0           0\n",
            "1                                        Australia      46728         986\n",
            "2                                Brunei Darussalam       2159           6\n",
            "3                                         Cambodia      90535        1835\n",
            "4                                            China     122809        5678\n",
            "5                                     Cook Islands          0           0\n",
            "6                                             Fiji      44745         459\n",
            "7                                 French Polynesia      40178         353\n",
            "8                                             Guam       9253         145\n",
            "9                                            Japan    1362813       15737\n",
            "10                                        Kiribati          0           0\n",
            "11                Lao People's Democratic Republic      13909          11\n",
            "12                                        Malaysia    1616244       14818\n",
            "13                                Marshall Islands          4           0\n",
            "14                Micronesia (Federated States of)          0           0\n",
            "15                                        Mongolia     199274         913\n",
            "16                                           Nauru          0           0\n",
            "17                                   New Caledonia        135           0\n",
            "18                                     New Zealand       2871          26\n",
            "19                                            Niue          0           0\n",
            "20  Northern Mariana Islands (Commonwealth of the)        232           2\n",
            "21                                           Palau          2           0\n",
            "22                                Papua New Guinea      17975         192\n",
            "23                                     Philippines    1883088       32492\n",
            "24                                Pitcairn Islands          0           0\n",
            "25                               Republic of Korea     243317        2257\n",
            "26                                           Samoa          1           0\n",
            "27                                       Singapore      66812          52\n",
            "28                                 Solomon Islands         20           0\n",
            "29                                         Tokelau          0           0\n",
            "30                                           Tonga          0           0\n",
            "31                                          Tuvalu          0           0\n",
            "32                                         Vanuatu          3           0\n",
            "33                                        Viet Nam     381363        9349\n",
            "34                               Wallis and Futuna        454           7\n"
          ]
        },
        {
          "output_type": "display_data",
          "data": {
            "text/html": [
              "<html>\n",
              "<head><meta charset=\"utf-8\" /></head>\n",
              "<body>\n",
              "    <div>\n",
              "            <script src=\"https://cdnjs.cloudflare.com/ajax/libs/mathjax/2.7.5/MathJax.js?config=TeX-AMS-MML_SVG\"></script><script type=\"text/javascript\">if (window.MathJax) {MathJax.Hub.Config({SVG: {font: \"STIX-Web\"}});}</script>\n",
              "                <script type=\"text/javascript\">window.PlotlyConfig = {MathJaxConfig: 'local'};</script>\n",
              "        <script src=\"https://cdn.plot.ly/plotly-latest.min.js\"></script>    \n",
              "            <div id=\"4dd01434-e20f-4ee3-b8e6-3ecc106c73e6\" class=\"plotly-graph-div\" style=\"height:525px; width:100%;\"></div>\n",
              "            <script type=\"text/javascript\">\n",
              "                \n",
              "                    window.PLOTLYENV=window.PLOTLYENV || {};\n",
              "                    \n",
              "                if (document.getElementById(\"4dd01434-e20f-4ee3-b8e6-3ecc106c73e6\")) {\n",
              "                    Plotly.newPlot(\n",
              "                        '4dd01434-e20f-4ee3-b8e6-3ecc106c73e6',\n",
              "                        [{\"alignmentgroup\": \"True\", \"hoverlabel\": {\"namelength\": 0}, \"hovertemplate\": \"COUNTRY=%{x}<br>NEW_CASES=%{y}\", \"legendgroup\": \"\", \"marker\": {\"color\": \"#636efa\"}, \"name\": \"\", \"offsetgroup\": \"\", \"orientation\": \"v\", \"showlegend\": false, \"textposition\": \"auto\", \"type\": \"bar\", \"x\": [\"American Samoa\", \"Australia\", \"Brunei Darussalam\", \"Cambodia\", \"China\", \"Cook Islands\", \"Fiji\", \"French Polynesia\", \"Guam\", \"Japan\", \"Kiribati\", \"Lao People's Democratic Republic\", \"Malaysia\", \"Marshall Islands\", \"Micronesia (Federated States of)\", \"Mongolia\", \"Nauru\", \"New Caledonia\", \"New Zealand\", \"Niue\", \"Northern Mariana Islands (Commonwealth of the)\", \"Palau\", \"Papua New Guinea\", \"Philippines\", \"Pitcairn Islands\", \"Republic of Korea\", \"Samoa\", \"Singapore\", \"Solomon Islands\", \"Tokelau\", \"Tonga\", \"Tuvalu\", \"Vanuatu\", \"Viet Nam\", \"Wallis and Futuna\"], \"xaxis\": \"x\", \"y\": [0, 46728, 2159, 90535, 122809, 0, 44745, 40178, 9253, 1362813, 0, 13909, 1616244, 4, 0, 199274, 0, 135, 2871, 0, 232, 2, 17975, 1883088, 0, 243317, 1, 66812, 20, 0, 0, 0, 3, 381363, 454], \"yaxis\": \"y\"}],\n",
              "                        {\"barmode\": \"relative\", \"legend\": {\"tracegroupgap\": 0}, \"margin\": {\"t\": 60}, \"template\": {\"data\": {\"bar\": [{\"error_x\": {\"color\": \"#2a3f5f\"}, \"error_y\": {\"color\": \"#2a3f5f\"}, \"marker\": {\"line\": {\"color\": \"#E5ECF6\", \"width\": 0.5}}, \"type\": \"bar\"}], \"barpolar\": [{\"marker\": {\"line\": {\"color\": \"#E5ECF6\", \"width\": 0.5}}, \"type\": \"barpolar\"}], \"carpet\": [{\"aaxis\": {\"endlinecolor\": \"#2a3f5f\", \"gridcolor\": \"white\", \"linecolor\": \"white\", \"minorgridcolor\": \"white\", \"startlinecolor\": \"#2a3f5f\"}, \"baxis\": {\"endlinecolor\": \"#2a3f5f\", \"gridcolor\": \"white\", \"linecolor\": \"white\", \"minorgridcolor\": \"white\", \"startlinecolor\": \"#2a3f5f\"}, \"type\": \"carpet\"}], \"choropleth\": [{\"colorbar\": {\"outlinewidth\": 0, \"ticks\": \"\"}, \"type\": \"choropleth\"}], \"contour\": [{\"colorbar\": {\"outlinewidth\": 0, \"ticks\": \"\"}, \"colorscale\": [[0.0, \"#0d0887\"], [0.1111111111111111, \"#46039f\"], [0.2222222222222222, \"#7201a8\"], [0.3333333333333333, \"#9c179e\"], [0.4444444444444444, \"#bd3786\"], [0.5555555555555556, \"#d8576b\"], [0.6666666666666666, \"#ed7953\"], [0.7777777777777778, \"#fb9f3a\"], [0.8888888888888888, \"#fdca26\"], [1.0, \"#f0f921\"]], \"type\": \"contour\"}], \"contourcarpet\": [{\"colorbar\": {\"outlinewidth\": 0, \"ticks\": \"\"}, \"type\": \"contourcarpet\"}], \"heatmap\": [{\"colorbar\": {\"outlinewidth\": 0, \"ticks\": \"\"}, \"colorscale\": [[0.0, \"#0d0887\"], [0.1111111111111111, \"#46039f\"], [0.2222222222222222, \"#7201a8\"], [0.3333333333333333, \"#9c179e\"], [0.4444444444444444, \"#bd3786\"], [0.5555555555555556, \"#d8576b\"], [0.6666666666666666, \"#ed7953\"], [0.7777777777777778, \"#fb9f3a\"], [0.8888888888888888, \"#fdca26\"], [1.0, \"#f0f921\"]], \"type\": \"heatmap\"}], \"heatmapgl\": [{\"colorbar\": {\"outlinewidth\": 0, \"ticks\": \"\"}, \"colorscale\": [[0.0, \"#0d0887\"], [0.1111111111111111, \"#46039f\"], [0.2222222222222222, \"#7201a8\"], [0.3333333333333333, \"#9c179e\"], [0.4444444444444444, \"#bd3786\"], [0.5555555555555556, \"#d8576b\"], [0.6666666666666666, \"#ed7953\"], [0.7777777777777778, \"#fb9f3a\"], [0.8888888888888888, \"#fdca26\"], [1.0, \"#f0f921\"]], \"type\": \"heatmapgl\"}], \"histogram\": [{\"marker\": {\"colorbar\": {\"outlinewidth\": 0, \"ticks\": \"\"}}, \"type\": \"histogram\"}], \"histogram2d\": [{\"colorbar\": {\"outlinewidth\": 0, \"ticks\": \"\"}, \"colorscale\": [[0.0, \"#0d0887\"], [0.1111111111111111, \"#46039f\"], [0.2222222222222222, \"#7201a8\"], [0.3333333333333333, \"#9c179e\"], [0.4444444444444444, \"#bd3786\"], [0.5555555555555556, \"#d8576b\"], [0.6666666666666666, \"#ed7953\"], [0.7777777777777778, \"#fb9f3a\"], [0.8888888888888888, \"#fdca26\"], [1.0, \"#f0f921\"]], \"type\": \"histogram2d\"}], \"histogram2dcontour\": [{\"colorbar\": {\"outlinewidth\": 0, \"ticks\": \"\"}, \"colorscale\": [[0.0, \"#0d0887\"], [0.1111111111111111, \"#46039f\"], [0.2222222222222222, \"#7201a8\"], [0.3333333333333333, \"#9c179e\"], [0.4444444444444444, \"#bd3786\"], [0.5555555555555556, \"#d8576b\"], [0.6666666666666666, \"#ed7953\"], [0.7777777777777778, \"#fb9f3a\"], [0.8888888888888888, \"#fdca26\"], [1.0, \"#f0f921\"]], \"type\": \"histogram2dcontour\"}], \"mesh3d\": [{\"colorbar\": {\"outlinewidth\": 0, \"ticks\": \"\"}, \"type\": \"mesh3d\"}], \"parcoords\": [{\"line\": {\"colorbar\": {\"outlinewidth\": 0, \"ticks\": \"\"}}, \"type\": \"parcoords\"}], \"pie\": [{\"automargin\": true, \"type\": \"pie\"}], \"scatter\": [{\"marker\": {\"colorbar\": {\"outlinewidth\": 0, \"ticks\": \"\"}}, \"type\": \"scatter\"}], \"scatter3d\": [{\"line\": {\"colorbar\": {\"outlinewidth\": 0, \"ticks\": \"\"}}, \"marker\": {\"colorbar\": {\"outlinewidth\": 0, \"ticks\": \"\"}}, \"type\": \"scatter3d\"}], \"scattercarpet\": [{\"marker\": {\"colorbar\": {\"outlinewidth\": 0, \"ticks\": \"\"}}, \"type\": \"scattercarpet\"}], \"scattergeo\": [{\"marker\": {\"colorbar\": {\"outlinewidth\": 0, \"ticks\": \"\"}}, \"type\": \"scattergeo\"}], \"scattergl\": [{\"marker\": {\"colorbar\": {\"outlinewidth\": 0, \"ticks\": \"\"}}, \"type\": \"scattergl\"}], \"scattermapbox\": [{\"marker\": {\"colorbar\": {\"outlinewidth\": 0, \"ticks\": \"\"}}, \"type\": \"scattermapbox\"}], \"scatterpolar\": [{\"marker\": {\"colorbar\": {\"outlinewidth\": 0, \"ticks\": \"\"}}, \"type\": \"scatterpolar\"}], \"scatterpolargl\": [{\"marker\": {\"colorbar\": {\"outlinewidth\": 0, \"ticks\": \"\"}}, \"type\": \"scatterpolargl\"}], \"scatterternary\": [{\"marker\": {\"colorbar\": {\"outlinewidth\": 0, \"ticks\": \"\"}}, \"type\": \"scatterternary\"}], \"surface\": [{\"colorbar\": {\"outlinewidth\": 0, \"ticks\": \"\"}, \"colorscale\": [[0.0, \"#0d0887\"], [0.1111111111111111, \"#46039f\"], [0.2222222222222222, \"#7201a8\"], [0.3333333333333333, \"#9c179e\"], [0.4444444444444444, \"#bd3786\"], [0.5555555555555556, \"#d8576b\"], [0.6666666666666666, \"#ed7953\"], [0.7777777777777778, \"#fb9f3a\"], [0.8888888888888888, \"#fdca26\"], [1.0, \"#f0f921\"]], \"type\": \"surface\"}], \"table\": [{\"cells\": {\"fill\": {\"color\": \"#EBF0F8\"}, \"line\": {\"color\": \"white\"}}, \"header\": {\"fill\": {\"color\": \"#C8D4E3\"}, \"line\": {\"color\": \"white\"}}, \"type\": \"table\"}]}, \"layout\": {\"annotationdefaults\": {\"arrowcolor\": \"#2a3f5f\", \"arrowhead\": 0, \"arrowwidth\": 1}, \"coloraxis\": {\"colorbar\": {\"outlinewidth\": 0, \"ticks\": \"\"}}, \"colorscale\": {\"diverging\": [[0, \"#8e0152\"], [0.1, \"#c51b7d\"], [0.2, \"#de77ae\"], [0.3, \"#f1b6da\"], [0.4, \"#fde0ef\"], [0.5, \"#f7f7f7\"], [0.6, \"#e6f5d0\"], [0.7, \"#b8e186\"], [0.8, \"#7fbc41\"], [0.9, \"#4d9221\"], [1, \"#276419\"]], \"sequential\": [[0.0, \"#0d0887\"], [0.1111111111111111, \"#46039f\"], [0.2222222222222222, \"#7201a8\"], [0.3333333333333333, \"#9c179e\"], [0.4444444444444444, \"#bd3786\"], [0.5555555555555556, \"#d8576b\"], [0.6666666666666666, \"#ed7953\"], [0.7777777777777778, \"#fb9f3a\"], [0.8888888888888888, \"#fdca26\"], [1.0, \"#f0f921\"]], \"sequentialminus\": [[0.0, \"#0d0887\"], [0.1111111111111111, \"#46039f\"], [0.2222222222222222, \"#7201a8\"], [0.3333333333333333, \"#9c179e\"], [0.4444444444444444, \"#bd3786\"], [0.5555555555555556, \"#d8576b\"], [0.6666666666666666, \"#ed7953\"], [0.7777777777777778, \"#fb9f3a\"], [0.8888888888888888, \"#fdca26\"], [1.0, \"#f0f921\"]]}, \"colorway\": [\"#636efa\", \"#EF553B\", \"#00cc96\", \"#ab63fa\", \"#FFA15A\", \"#19d3f3\", \"#FF6692\", \"#B6E880\", \"#FF97FF\", \"#FECB52\"], \"font\": {\"color\": \"#2a3f5f\"}, \"geo\": {\"bgcolor\": \"white\", \"lakecolor\": \"white\", \"landcolor\": \"#E5ECF6\", \"showlakes\": true, \"showland\": true, \"subunitcolor\": \"white\"}, \"hoverlabel\": {\"align\": \"left\"}, \"hovermode\": \"closest\", \"mapbox\": {\"style\": \"light\"}, \"paper_bgcolor\": \"white\", \"plot_bgcolor\": \"#E5ECF6\", \"polar\": {\"angularaxis\": {\"gridcolor\": \"white\", \"linecolor\": \"white\", \"ticks\": \"\"}, \"bgcolor\": \"#E5ECF6\", \"radialaxis\": {\"gridcolor\": \"white\", \"linecolor\": \"white\", \"ticks\": \"\"}}, \"scene\": {\"xaxis\": {\"backgroundcolor\": \"#E5ECF6\", \"gridcolor\": \"white\", \"gridwidth\": 2, \"linecolor\": \"white\", \"showbackground\": true, \"ticks\": \"\", \"zerolinecolor\": \"white\"}, \"yaxis\": {\"backgroundcolor\": \"#E5ECF6\", \"gridcolor\": \"white\", \"gridwidth\": 2, \"linecolor\": \"white\", \"showbackground\": true, \"ticks\": \"\", \"zerolinecolor\": \"white\"}, \"zaxis\": {\"backgroundcolor\": \"#E5ECF6\", \"gridcolor\": \"white\", \"gridwidth\": 2, \"linecolor\": \"white\", \"showbackground\": true, \"ticks\": \"\", \"zerolinecolor\": \"white\"}}, \"shapedefaults\": {\"line\": {\"color\": \"#2a3f5f\"}}, \"ternary\": {\"aaxis\": {\"gridcolor\": \"white\", \"linecolor\": \"white\", \"ticks\": \"\"}, \"baxis\": {\"gridcolor\": \"white\", \"linecolor\": \"white\", \"ticks\": \"\"}, \"bgcolor\": \"#E5ECF6\", \"caxis\": {\"gridcolor\": \"white\", \"linecolor\": \"white\", \"ticks\": \"\"}}, \"title\": {\"x\": 0.05}, \"xaxis\": {\"automargin\": true, \"gridcolor\": \"white\", \"linecolor\": \"white\", \"ticks\": \"\", \"title\": {\"standoff\": 15}, \"zerolinecolor\": \"white\", \"zerolinewidth\": 2}, \"yaxis\": {\"automargin\": true, \"gridcolor\": \"white\", \"linecolor\": \"white\", \"ticks\": \"\", \"title\": {\"standoff\": 15}, \"zerolinecolor\": \"white\", \"zerolinewidth\": 2}}}, \"xaxis\": {\"anchor\": \"y\", \"domain\": [0.0, 1.0], \"title\": {\"text\": \"COUNTRY\"}}, \"yaxis\": {\"anchor\": \"x\", \"domain\": [0.0, 1.0], \"title\": {\"text\": \"NEW_CASES\"}}},\n",
              "                        {\"responsive\": true}\n",
              "                    ).then(function(){\n",
              "                            \n",
              "var gd = document.getElementById('4dd01434-e20f-4ee3-b8e6-3ecc106c73e6');\n",
              "var x = new MutationObserver(function (mutations, observer) {{\n",
              "        var display = window.getComputedStyle(gd).display;\n",
              "        if (!display || display === 'none') {{\n",
              "            console.log([gd, 'removed!']);\n",
              "            Plotly.purge(gd);\n",
              "            observer.disconnect();\n",
              "        }}\n",
              "}});\n",
              "\n",
              "// Listen for the removal of the full notebook cells\n",
              "var notebookContainer = gd.closest('#notebook-container');\n",
              "if (notebookContainer) {{\n",
              "    x.observe(notebookContainer, {childList: true});\n",
              "}}\n",
              "\n",
              "// Listen for the clearing of the current output cell\n",
              "var outputEl = gd.closest('.output');\n",
              "if (outputEl) {{\n",
              "    x.observe(outputEl, {childList: true});\n",
              "}}\n",
              "\n",
              "                        })\n",
              "                };\n",
              "                \n",
              "            </script>\n",
              "        </div>\n",
              "</body>\n",
              "</html>"
            ]
          },
          "metadata": {}
        }
      ]
    },
    {
      "cell_type": "code",
      "metadata": {
        "colab": {
          "base_uri": "https://localhost:8080/",
          "height": 542
        },
        "id": "yxG14YlnCPs_",
        "outputId": "1c2f60f0-e243-45fc-86a4-525ea8010b19"
      },
      "source": [
        "df2 = df.loc[df['WHO_REGION'] == 'WPRO']\n",
        "df2 = df2.groupby('COUNTRY', as_index = False).sum()\n",
        "fig = px.bar(df2, x='COUNTRY', y='NEW_DEATHS')\n",
        "fig.show()"
      ],
      "execution_count": null,
      "outputs": [
        {
          "output_type": "display_data",
          "data": {
            "text/html": [
              "<html>\n",
              "<head><meta charset=\"utf-8\" /></head>\n",
              "<body>\n",
              "    <div>\n",
              "            <script src=\"https://cdnjs.cloudflare.com/ajax/libs/mathjax/2.7.5/MathJax.js?config=TeX-AMS-MML_SVG\"></script><script type=\"text/javascript\">if (window.MathJax) {MathJax.Hub.Config({SVG: {font: \"STIX-Web\"}});}</script>\n",
              "                <script type=\"text/javascript\">window.PlotlyConfig = {MathJaxConfig: 'local'};</script>\n",
              "        <script src=\"https://cdn.plot.ly/plotly-latest.min.js\"></script>    \n",
              "            <div id=\"3c3d70dc-5122-4d14-ba43-fa3ed2fb1fc7\" class=\"plotly-graph-div\" style=\"height:525px; width:100%;\"></div>\n",
              "            <script type=\"text/javascript\">\n",
              "                \n",
              "                    window.PLOTLYENV=window.PLOTLYENV || {};\n",
              "                    \n",
              "                if (document.getElementById(\"3c3d70dc-5122-4d14-ba43-fa3ed2fb1fc7\")) {\n",
              "                    Plotly.newPlot(\n",
              "                        '3c3d70dc-5122-4d14-ba43-fa3ed2fb1fc7',\n",
              "                        [{\"alignmentgroup\": \"True\", \"hoverlabel\": {\"namelength\": 0}, \"hovertemplate\": \"COUNTRY=%{x}<br>NEW_DEATHS=%{y}\", \"legendgroup\": \"\", \"marker\": {\"color\": \"#636efa\"}, \"name\": \"\", \"offsetgroup\": \"\", \"orientation\": \"v\", \"showlegend\": false, \"textposition\": \"auto\", \"type\": \"bar\", \"x\": [\"American Samoa\", \"Australia\", \"Brunei Darussalam\", \"Cambodia\", \"China\", \"Cook Islands\", \"Fiji\", \"French Polynesia\", \"Guam\", \"Japan\", \"Kiribati\", \"Lao People's Democratic Republic\", \"Malaysia\", \"Marshall Islands\", \"Micronesia (Federated States of)\", \"Mongolia\", \"Nauru\", \"New Caledonia\", \"New Zealand\", \"Niue\", \"Northern Mariana Islands (Commonwealth of the)\", \"Palau\", \"Papua New Guinea\", \"Philippines\", \"Pitcairn Islands\", \"Republic of Korea\", \"Samoa\", \"Singapore\", \"Solomon Islands\", \"Tokelau\", \"Tonga\", \"Tuvalu\", \"Vanuatu\", \"Viet Nam\", \"Wallis and Futuna\"], \"xaxis\": \"x\", \"y\": [0, 986, 6, 1835, 5678, 0, 459, 353, 145, 15737, 0, 11, 14818, 0, 0, 913, 0, 0, 26, 0, 2, 0, 192, 32492, 0, 2257, 0, 52, 0, 0, 0, 0, 0, 9349, 7], \"yaxis\": \"y\"}],\n",
              "                        {\"barmode\": \"relative\", \"legend\": {\"tracegroupgap\": 0}, \"margin\": {\"t\": 60}, \"template\": {\"data\": {\"bar\": [{\"error_x\": {\"color\": \"#2a3f5f\"}, \"error_y\": {\"color\": \"#2a3f5f\"}, \"marker\": {\"line\": {\"color\": \"#E5ECF6\", \"width\": 0.5}}, \"type\": \"bar\"}], \"barpolar\": [{\"marker\": {\"line\": {\"color\": \"#E5ECF6\", \"width\": 0.5}}, \"type\": \"barpolar\"}], \"carpet\": [{\"aaxis\": {\"endlinecolor\": \"#2a3f5f\", \"gridcolor\": \"white\", \"linecolor\": \"white\", \"minorgridcolor\": \"white\", \"startlinecolor\": \"#2a3f5f\"}, \"baxis\": {\"endlinecolor\": \"#2a3f5f\", \"gridcolor\": \"white\", \"linecolor\": \"white\", \"minorgridcolor\": \"white\", \"startlinecolor\": \"#2a3f5f\"}, \"type\": \"carpet\"}], \"choropleth\": [{\"colorbar\": {\"outlinewidth\": 0, \"ticks\": \"\"}, \"type\": \"choropleth\"}], \"contour\": [{\"colorbar\": {\"outlinewidth\": 0, \"ticks\": \"\"}, \"colorscale\": [[0.0, \"#0d0887\"], [0.1111111111111111, \"#46039f\"], [0.2222222222222222, \"#7201a8\"], [0.3333333333333333, \"#9c179e\"], [0.4444444444444444, \"#bd3786\"], [0.5555555555555556, \"#d8576b\"], [0.6666666666666666, \"#ed7953\"], [0.7777777777777778, \"#fb9f3a\"], [0.8888888888888888, \"#fdca26\"], [1.0, \"#f0f921\"]], \"type\": \"contour\"}], \"contourcarpet\": [{\"colorbar\": {\"outlinewidth\": 0, \"ticks\": \"\"}, \"type\": \"contourcarpet\"}], \"heatmap\": [{\"colorbar\": {\"outlinewidth\": 0, \"ticks\": \"\"}, \"colorscale\": [[0.0, \"#0d0887\"], [0.1111111111111111, \"#46039f\"], [0.2222222222222222, \"#7201a8\"], [0.3333333333333333, \"#9c179e\"], [0.4444444444444444, \"#bd3786\"], [0.5555555555555556, \"#d8576b\"], [0.6666666666666666, \"#ed7953\"], [0.7777777777777778, \"#fb9f3a\"], [0.8888888888888888, \"#fdca26\"], [1.0, \"#f0f921\"]], \"type\": \"heatmap\"}], \"heatmapgl\": [{\"colorbar\": {\"outlinewidth\": 0, \"ticks\": \"\"}, \"colorscale\": [[0.0, \"#0d0887\"], [0.1111111111111111, \"#46039f\"], [0.2222222222222222, \"#7201a8\"], [0.3333333333333333, \"#9c179e\"], [0.4444444444444444, \"#bd3786\"], [0.5555555555555556, \"#d8576b\"], [0.6666666666666666, \"#ed7953\"], [0.7777777777777778, \"#fb9f3a\"], [0.8888888888888888, \"#fdca26\"], [1.0, \"#f0f921\"]], \"type\": \"heatmapgl\"}], \"histogram\": [{\"marker\": {\"colorbar\": {\"outlinewidth\": 0, \"ticks\": \"\"}}, \"type\": \"histogram\"}], \"histogram2d\": [{\"colorbar\": {\"outlinewidth\": 0, \"ticks\": \"\"}, \"colorscale\": [[0.0, \"#0d0887\"], [0.1111111111111111, \"#46039f\"], [0.2222222222222222, \"#7201a8\"], [0.3333333333333333, \"#9c179e\"], [0.4444444444444444, \"#bd3786\"], [0.5555555555555556, \"#d8576b\"], [0.6666666666666666, \"#ed7953\"], [0.7777777777777778, \"#fb9f3a\"], [0.8888888888888888, \"#fdca26\"], [1.0, \"#f0f921\"]], \"type\": \"histogram2d\"}], \"histogram2dcontour\": [{\"colorbar\": {\"outlinewidth\": 0, \"ticks\": \"\"}, \"colorscale\": [[0.0, \"#0d0887\"], [0.1111111111111111, \"#46039f\"], [0.2222222222222222, \"#7201a8\"], [0.3333333333333333, \"#9c179e\"], [0.4444444444444444, \"#bd3786\"], [0.5555555555555556, \"#d8576b\"], [0.6666666666666666, \"#ed7953\"], [0.7777777777777778, \"#fb9f3a\"], [0.8888888888888888, \"#fdca26\"], [1.0, \"#f0f921\"]], \"type\": \"histogram2dcontour\"}], \"mesh3d\": [{\"colorbar\": {\"outlinewidth\": 0, \"ticks\": \"\"}, \"type\": \"mesh3d\"}], \"parcoords\": [{\"line\": {\"colorbar\": {\"outlinewidth\": 0, \"ticks\": \"\"}}, \"type\": \"parcoords\"}], \"pie\": [{\"automargin\": true, \"type\": \"pie\"}], \"scatter\": [{\"marker\": {\"colorbar\": {\"outlinewidth\": 0, \"ticks\": \"\"}}, \"type\": \"scatter\"}], \"scatter3d\": [{\"line\": {\"colorbar\": {\"outlinewidth\": 0, \"ticks\": \"\"}}, \"marker\": {\"colorbar\": {\"outlinewidth\": 0, \"ticks\": \"\"}}, \"type\": \"scatter3d\"}], \"scattercarpet\": [{\"marker\": {\"colorbar\": {\"outlinewidth\": 0, \"ticks\": \"\"}}, \"type\": \"scattercarpet\"}], \"scattergeo\": [{\"marker\": {\"colorbar\": {\"outlinewidth\": 0, \"ticks\": \"\"}}, \"type\": \"scattergeo\"}], \"scattergl\": [{\"marker\": {\"colorbar\": {\"outlinewidth\": 0, \"ticks\": \"\"}}, \"type\": \"scattergl\"}], \"scattermapbox\": [{\"marker\": {\"colorbar\": {\"outlinewidth\": 0, \"ticks\": \"\"}}, \"type\": \"scattermapbox\"}], \"scatterpolar\": [{\"marker\": {\"colorbar\": {\"outlinewidth\": 0, \"ticks\": \"\"}}, \"type\": \"scatterpolar\"}], \"scatterpolargl\": [{\"marker\": {\"colorbar\": {\"outlinewidth\": 0, \"ticks\": \"\"}}, \"type\": \"scatterpolargl\"}], \"scatterternary\": [{\"marker\": {\"colorbar\": {\"outlinewidth\": 0, \"ticks\": \"\"}}, \"type\": \"scatterternary\"}], \"surface\": [{\"colorbar\": {\"outlinewidth\": 0, \"ticks\": \"\"}, \"colorscale\": [[0.0, \"#0d0887\"], [0.1111111111111111, \"#46039f\"], [0.2222222222222222, \"#7201a8\"], [0.3333333333333333, \"#9c179e\"], [0.4444444444444444, \"#bd3786\"], [0.5555555555555556, \"#d8576b\"], [0.6666666666666666, \"#ed7953\"], [0.7777777777777778, \"#fb9f3a\"], [0.8888888888888888, \"#fdca26\"], [1.0, \"#f0f921\"]], \"type\": \"surface\"}], \"table\": [{\"cells\": {\"fill\": {\"color\": \"#EBF0F8\"}, \"line\": {\"color\": \"white\"}}, \"header\": {\"fill\": {\"color\": \"#C8D4E3\"}, \"line\": {\"color\": \"white\"}}, \"type\": \"table\"}]}, \"layout\": {\"annotationdefaults\": {\"arrowcolor\": \"#2a3f5f\", \"arrowhead\": 0, \"arrowwidth\": 1}, \"coloraxis\": {\"colorbar\": {\"outlinewidth\": 0, \"ticks\": \"\"}}, \"colorscale\": {\"diverging\": [[0, \"#8e0152\"], [0.1, \"#c51b7d\"], [0.2, \"#de77ae\"], [0.3, \"#f1b6da\"], [0.4, \"#fde0ef\"], [0.5, \"#f7f7f7\"], [0.6, \"#e6f5d0\"], [0.7, \"#b8e186\"], [0.8, \"#7fbc41\"], [0.9, \"#4d9221\"], [1, \"#276419\"]], \"sequential\": [[0.0, \"#0d0887\"], [0.1111111111111111, \"#46039f\"], [0.2222222222222222, \"#7201a8\"], [0.3333333333333333, \"#9c179e\"], [0.4444444444444444, \"#bd3786\"], [0.5555555555555556, \"#d8576b\"], [0.6666666666666666, \"#ed7953\"], [0.7777777777777778, \"#fb9f3a\"], [0.8888888888888888, \"#fdca26\"], [1.0, \"#f0f921\"]], \"sequentialminus\": [[0.0, \"#0d0887\"], [0.1111111111111111, \"#46039f\"], [0.2222222222222222, \"#7201a8\"], [0.3333333333333333, \"#9c179e\"], [0.4444444444444444, \"#bd3786\"], [0.5555555555555556, \"#d8576b\"], [0.6666666666666666, \"#ed7953\"], [0.7777777777777778, \"#fb9f3a\"], [0.8888888888888888, \"#fdca26\"], [1.0, \"#f0f921\"]]}, \"colorway\": [\"#636efa\", \"#EF553B\", \"#00cc96\", \"#ab63fa\", \"#FFA15A\", \"#19d3f3\", \"#FF6692\", \"#B6E880\", \"#FF97FF\", \"#FECB52\"], \"font\": {\"color\": \"#2a3f5f\"}, \"geo\": {\"bgcolor\": \"white\", \"lakecolor\": \"white\", \"landcolor\": \"#E5ECF6\", \"showlakes\": true, \"showland\": true, \"subunitcolor\": \"white\"}, \"hoverlabel\": {\"align\": \"left\"}, \"hovermode\": \"closest\", \"mapbox\": {\"style\": \"light\"}, \"paper_bgcolor\": \"white\", \"plot_bgcolor\": \"#E5ECF6\", \"polar\": {\"angularaxis\": {\"gridcolor\": \"white\", \"linecolor\": \"white\", \"ticks\": \"\"}, \"bgcolor\": \"#E5ECF6\", \"radialaxis\": {\"gridcolor\": \"white\", \"linecolor\": \"white\", \"ticks\": \"\"}}, \"scene\": {\"xaxis\": {\"backgroundcolor\": \"#E5ECF6\", \"gridcolor\": \"white\", \"gridwidth\": 2, \"linecolor\": \"white\", \"showbackground\": true, \"ticks\": \"\", \"zerolinecolor\": \"white\"}, \"yaxis\": {\"backgroundcolor\": \"#E5ECF6\", \"gridcolor\": \"white\", \"gridwidth\": 2, \"linecolor\": \"white\", \"showbackground\": true, \"ticks\": \"\", \"zerolinecolor\": \"white\"}, \"zaxis\": {\"backgroundcolor\": \"#E5ECF6\", \"gridcolor\": \"white\", \"gridwidth\": 2, \"linecolor\": \"white\", \"showbackground\": true, \"ticks\": \"\", \"zerolinecolor\": \"white\"}}, \"shapedefaults\": {\"line\": {\"color\": \"#2a3f5f\"}}, \"ternary\": {\"aaxis\": {\"gridcolor\": \"white\", \"linecolor\": \"white\", \"ticks\": \"\"}, \"baxis\": {\"gridcolor\": \"white\", \"linecolor\": \"white\", \"ticks\": \"\"}, \"bgcolor\": \"#E5ECF6\", \"caxis\": {\"gridcolor\": \"white\", \"linecolor\": \"white\", \"ticks\": \"\"}}, \"title\": {\"x\": 0.05}, \"xaxis\": {\"automargin\": true, \"gridcolor\": \"white\", \"linecolor\": \"white\", \"ticks\": \"\", \"title\": {\"standoff\": 15}, \"zerolinecolor\": \"white\", \"zerolinewidth\": 2}, \"yaxis\": {\"automargin\": true, \"gridcolor\": \"white\", \"linecolor\": \"white\", \"ticks\": \"\", \"title\": {\"standoff\": 15}, \"zerolinecolor\": \"white\", \"zerolinewidth\": 2}}}, \"xaxis\": {\"anchor\": \"y\", \"domain\": [0.0, 1.0], \"title\": {\"text\": \"COUNTRY\"}}, \"yaxis\": {\"anchor\": \"x\", \"domain\": [0.0, 1.0], \"title\": {\"text\": \"NEW_DEATHS\"}}},\n",
              "                        {\"responsive\": true}\n",
              "                    ).then(function(){\n",
              "                            \n",
              "var gd = document.getElementById('3c3d70dc-5122-4d14-ba43-fa3ed2fb1fc7');\n",
              "var x = new MutationObserver(function (mutations, observer) {{\n",
              "        var display = window.getComputedStyle(gd).display;\n",
              "        if (!display || display === 'none') {{\n",
              "            console.log([gd, 'removed!']);\n",
              "            Plotly.purge(gd);\n",
              "            observer.disconnect();\n",
              "        }}\n",
              "}});\n",
              "\n",
              "// Listen for the removal of the full notebook cells\n",
              "var notebookContainer = gd.closest('#notebook-container');\n",
              "if (notebookContainer) {{\n",
              "    x.observe(notebookContainer, {childList: true});\n",
              "}}\n",
              "\n",
              "// Listen for the clearing of the current output cell\n",
              "var outputEl = gd.closest('.output');\n",
              "if (outputEl) {{\n",
              "    x.observe(outputEl, {childList: true});\n",
              "}}\n",
              "\n",
              "                        })\n",
              "                };\n",
              "                \n",
              "            </script>\n",
              "        </div>\n",
              "</body>\n",
              "</html>"
            ]
          },
          "metadata": {}
        }
      ]
    },
    {
      "cell_type": "code",
      "metadata": {
        "colab": {
          "base_uri": "https://localhost:8080/",
          "height": 1000
        },
        "id": "R4_2fcuiFmaa",
        "outputId": "a0771fa7-ff36-4271-9376-f7370d585569"
      },
      "source": [
        "df2 = df.groupby('COUNTRY', as_index = False).sum()\n",
        "df2.sort_values(by = ['NEW_CASES','NEW_DEATHS'], ascending = False)\n",
        "df3 = df2.loc[df2['NEW_CASES'] > df2['NEW_CASES'].mean()]\n",
        "df3"
      ],
      "execution_count": null,
      "outputs": [
        {
          "output_type": "execute_result",
          "data": {
            "text/html": [
              "<div>\n",
              "<style scoped>\n",
              "    .dataframe tbody tr th:only-of-type {\n",
              "        vertical-align: middle;\n",
              "    }\n",
              "\n",
              "    .dataframe tbody tr th {\n",
              "        vertical-align: top;\n",
              "    }\n",
              "\n",
              "    .dataframe thead th {\n",
              "        text-align: right;\n",
              "    }\n",
              "</style>\n",
              "<table border=\"1\" class=\"dataframe\">\n",
              "  <thead>\n",
              "    <tr style=\"text-align: right;\">\n",
              "      <th></th>\n",
              "      <th>COUNTRY</th>\n",
              "      <th>NEW_CASES</th>\n",
              "      <th>NEW_DEATHS</th>\n",
              "    </tr>\n",
              "  </thead>\n",
              "  <tbody>\n",
              "    <tr>\n",
              "      <th>8</th>\n",
              "      <td>Argentina</td>\n",
              "      <td>5148085</td>\n",
              "      <td>110806</td>\n",
              "    </tr>\n",
              "    <tr>\n",
              "      <th>16</th>\n",
              "      <td>Bangladesh</td>\n",
              "      <td>1482628</td>\n",
              "      <td>25729</td>\n",
              "    </tr>\n",
              "    <tr>\n",
              "      <th>19</th>\n",
              "      <td>Belgium</td>\n",
              "      <td>1173108</td>\n",
              "      <td>25348</td>\n",
              "    </tr>\n",
              "    <tr>\n",
              "      <th>28</th>\n",
              "      <td>Brazil</td>\n",
              "      <td>20614866</td>\n",
              "      <td>575742</td>\n",
              "    </tr>\n",
              "    <tr>\n",
              "      <th>37</th>\n",
              "      <td>Canada</td>\n",
              "      <td>1476149</td>\n",
              "      <td>26849</td>\n",
              "    </tr>\n",
              "    <tr>\n",
              "      <th>41</th>\n",
              "      <td>Chile</td>\n",
              "      <td>1635173</td>\n",
              "      <td>36718</td>\n",
              "    </tr>\n",
              "    <tr>\n",
              "      <th>43</th>\n",
              "      <td>Colombia</td>\n",
              "      <td>4894702</td>\n",
              "      <td>124388</td>\n",
              "    </tr>\n",
              "    <tr>\n",
              "      <th>52</th>\n",
              "      <td>Czechia</td>\n",
              "      <td>1678331</td>\n",
              "      <td>30393</td>\n",
              "    </tr>\n",
              "    <tr>\n",
              "      <th>72</th>\n",
              "      <td>France</td>\n",
              "      <td>6493798</td>\n",
              "      <td>112430</td>\n",
              "    </tr>\n",
              "    <tr>\n",
              "      <th>78</th>\n",
              "      <td>Germany</td>\n",
              "      <td>3901799</td>\n",
              "      <td>92082</td>\n",
              "    </tr>\n",
              "    <tr>\n",
              "      <th>96</th>\n",
              "      <td>India</td>\n",
              "      <td>32558530</td>\n",
              "      <td>436365</td>\n",
              "    </tr>\n",
              "    <tr>\n",
              "      <th>97</th>\n",
              "      <td>Indonesia</td>\n",
              "      <td>4026837</td>\n",
              "      <td>129293</td>\n",
              "    </tr>\n",
              "    <tr>\n",
              "      <th>98</th>\n",
              "      <td>Iran (Islamic Republic of)</td>\n",
              "      <td>4796377</td>\n",
              "      <td>104022</td>\n",
              "    </tr>\n",
              "    <tr>\n",
              "      <th>99</th>\n",
              "      <td>Iraq</td>\n",
              "      <td>1847697</td>\n",
              "      <td>20410</td>\n",
              "    </tr>\n",
              "    <tr>\n",
              "      <th>102</th>\n",
              "      <td>Israel</td>\n",
              "      <td>1024100</td>\n",
              "      <td>6909</td>\n",
              "    </tr>\n",
              "    <tr>\n",
              "      <th>103</th>\n",
              "      <td>Italy</td>\n",
              "      <td>4502396</td>\n",
              "      <td>128914</td>\n",
              "    </tr>\n",
              "    <tr>\n",
              "      <th>105</th>\n",
              "      <td>Japan</td>\n",
              "      <td>1362813</td>\n",
              "      <td>15737</td>\n",
              "    </tr>\n",
              "    <tr>\n",
              "      <th>125</th>\n",
              "      <td>Malaysia</td>\n",
              "      <td>1616244</td>\n",
              "      <td>14818</td>\n",
              "    </tr>\n",
              "    <tr>\n",
              "      <th>134</th>\n",
              "      <td>Mexico</td>\n",
              "      <td>3249878</td>\n",
              "      <td>254466</td>\n",
              "    </tr>\n",
              "    <tr>\n",
              "      <th>146</th>\n",
              "      <td>Netherlands</td>\n",
              "      <td>1926424</td>\n",
              "      <td>17974</td>\n",
              "    </tr>\n",
              "    <tr>\n",
              "      <th>158</th>\n",
              "      <td>Pakistan</td>\n",
              "      <td>1135858</td>\n",
              "      <td>25235</td>\n",
              "    </tr>\n",
              "    <tr>\n",
              "      <th>163</th>\n",
              "      <td>Peru</td>\n",
              "      <td>2143691</td>\n",
              "      <td>197944</td>\n",
              "    </tr>\n",
              "    <tr>\n",
              "      <th>164</th>\n",
              "      <td>Philippines</td>\n",
              "      <td>1883088</td>\n",
              "      <td>32492</td>\n",
              "    </tr>\n",
              "    <tr>\n",
              "      <th>166</th>\n",
              "      <td>Poland</td>\n",
              "      <td>2887485</td>\n",
              "      <td>75332</td>\n",
              "    </tr>\n",
              "    <tr>\n",
              "      <th>167</th>\n",
              "      <td>Portugal</td>\n",
              "      <td>1025869</td>\n",
              "      <td>17674</td>\n",
              "    </tr>\n",
              "    <tr>\n",
              "      <th>172</th>\n",
              "      <td>Romania</td>\n",
              "      <td>1093924</td>\n",
              "      <td>34471</td>\n",
              "    </tr>\n",
              "    <tr>\n",
              "      <th>173</th>\n",
              "      <td>Russian Federation</td>\n",
              "      <td>6824540</td>\n",
              "      <td>179243</td>\n",
              "    </tr>\n",
              "    <tr>\n",
              "      <th>199</th>\n",
              "      <td>South Africa</td>\n",
              "      <td>2722202</td>\n",
              "      <td>80469</td>\n",
              "    </tr>\n",
              "    <tr>\n",
              "      <th>201</th>\n",
              "      <td>Spain</td>\n",
              "      <td>4815205</td>\n",
              "      <td>83690</td>\n",
              "    </tr>\n",
              "    <tr>\n",
              "      <th>205</th>\n",
              "      <td>Sweden</td>\n",
              "      <td>1120628</td>\n",
              "      <td>14674</td>\n",
              "    </tr>\n",
              "    <tr>\n",
              "      <th>209</th>\n",
              "      <td>Thailand</td>\n",
              "      <td>1120869</td>\n",
              "      <td>10314</td>\n",
              "    </tr>\n",
              "    <tr>\n",
              "      <th>210</th>\n",
              "      <td>The United Kingdom</td>\n",
              "      <td>6590751</td>\n",
              "      <td>132003</td>\n",
              "    </tr>\n",
              "    <tr>\n",
              "      <th>217</th>\n",
              "      <td>Turkey</td>\n",
              "      <td>6273681</td>\n",
              "      <td>55212</td>\n",
              "    </tr>\n",
              "    <tr>\n",
              "      <th>222</th>\n",
              "      <td>Ukraine</td>\n",
              "      <td>2278171</td>\n",
              "      <td>53566</td>\n",
              "    </tr>\n",
              "    <tr>\n",
              "      <th>226</th>\n",
              "      <td>United States of America</td>\n",
              "      <td>37969371</td>\n",
              "      <td>626163</td>\n",
              "    </tr>\n",
              "  </tbody>\n",
              "</table>\n",
              "</div>"
            ],
            "text/plain": [
              "                        COUNTRY  NEW_CASES  NEW_DEATHS\n",
              "8                     Argentina    5148085      110806\n",
              "16                   Bangladesh    1482628       25729\n",
              "19                      Belgium    1173108       25348\n",
              "28                       Brazil   20614866      575742\n",
              "37                       Canada    1476149       26849\n",
              "41                        Chile    1635173       36718\n",
              "43                     Colombia    4894702      124388\n",
              "52                      Czechia    1678331       30393\n",
              "72                       France    6493798      112430\n",
              "78                      Germany    3901799       92082\n",
              "96                        India   32558530      436365\n",
              "97                    Indonesia    4026837      129293\n",
              "98   Iran (Islamic Republic of)    4796377      104022\n",
              "99                         Iraq    1847697       20410\n",
              "102                      Israel    1024100        6909\n",
              "103                       Italy    4502396      128914\n",
              "105                       Japan    1362813       15737\n",
              "125                    Malaysia    1616244       14818\n",
              "134                      Mexico    3249878      254466\n",
              "146                 Netherlands    1926424       17974\n",
              "158                    Pakistan    1135858       25235\n",
              "163                        Peru    2143691      197944\n",
              "164                 Philippines    1883088       32492\n",
              "166                      Poland    2887485       75332\n",
              "167                    Portugal    1025869       17674\n",
              "172                     Romania    1093924       34471\n",
              "173          Russian Federation    6824540      179243\n",
              "199                South Africa    2722202       80469\n",
              "201                       Spain    4815205       83690\n",
              "205                      Sweden    1120628       14674\n",
              "209                    Thailand    1120869       10314\n",
              "210          The United Kingdom    6590751      132003\n",
              "217                      Turkey    6273681       55212\n",
              "222                     Ukraine    2278171       53566\n",
              "226    United States of America   37969371      626163"
            ]
          },
          "metadata": {},
          "execution_count": 51
        }
      ]
    },
    {
      "cell_type": "code",
      "metadata": {
        "colab": {
          "base_uri": "https://localhost:8080/"
        },
        "id": "XkDuXKH2CZWX",
        "outputId": "115e28ce-f506-4142-add1-6e198228b97c"
      },
      "source": [
        "df3.shape"
      ],
      "execution_count": null,
      "outputs": [
        {
          "output_type": "execute_result",
          "data": {
            "text/plain": [
              "(35, 3)"
            ]
          },
          "metadata": {},
          "execution_count": 52
        }
      ]
    },
    {
      "cell_type": "code",
      "metadata": {
        "id": "OubFPEDmCnKC"
      },
      "source": [
        "df4 = df3['COUNTRY'].unique()"
      ],
      "execution_count": null,
      "outputs": []
    },
    {
      "cell_type": "code",
      "metadata": {
        "id": "zJMOdAaGjNEg"
      },
      "source": [
        "l1 = list(df4)"
      ],
      "execution_count": null,
      "outputs": []
    },
    {
      "cell_type": "code",
      "metadata": {
        "colab": {
          "base_uri": "https://localhost:8080/"
        },
        "id": "c83h0LoAjZId",
        "outputId": "11cdb0d7-9770-4c67-8a62-409d1b3c3fca"
      },
      "source": [
        "l1"
      ],
      "execution_count": null,
      "outputs": [
        {
          "output_type": "execute_result",
          "data": {
            "text/plain": [
              "['Argentina',\n",
              " 'Bangladesh',\n",
              " 'Belgium',\n",
              " 'Brazil',\n",
              " 'Canada',\n",
              " 'Chile',\n",
              " 'Colombia',\n",
              " 'Czechia',\n",
              " 'France',\n",
              " 'Germany',\n",
              " 'India',\n",
              " 'Indonesia',\n",
              " 'Iran (Islamic Republic of)',\n",
              " 'Iraq',\n",
              " 'Israel',\n",
              " 'Italy',\n",
              " 'Japan',\n",
              " 'Malaysia',\n",
              " 'Mexico',\n",
              " 'Netherlands',\n",
              " 'Pakistan',\n",
              " 'Peru',\n",
              " 'Philippines',\n",
              " 'Poland',\n",
              " 'Portugal',\n",
              " 'Romania',\n",
              " 'Russian Federation',\n",
              " 'South Africa',\n",
              " 'Spain',\n",
              " 'Sweden',\n",
              " 'Thailand',\n",
              " 'The United Kingdom',\n",
              " 'Turkey',\n",
              " 'Ukraine',\n",
              " 'United States of America']"
            ]
          },
          "metadata": {},
          "execution_count": 55
        }
      ]
    },
    {
      "cell_type": "code",
      "metadata": {
        "colab": {
          "base_uri": "https://localhost:8080/",
          "height": 417
        },
        "id": "jlThlyCDjk_b",
        "outputId": "05022cbb-055c-4bd4-ee11-194fe2ef5e0e"
      },
      "source": [
        "df_new_set = df[df['COUNTRY'].isin(l1)]\n",
        "df_new_set"
      ],
      "execution_count": null,
      "outputs": [
        {
          "output_type": "execute_result",
          "data": {
            "text/html": [
              "<div>\n",
              "<style scoped>\n",
              "    .dataframe tbody tr th:only-of-type {\n",
              "        vertical-align: middle;\n",
              "    }\n",
              "\n",
              "    .dataframe tbody tr th {\n",
              "        vertical-align: top;\n",
              "    }\n",
              "\n",
              "    .dataframe thead th {\n",
              "        text-align: right;\n",
              "    }\n",
              "</style>\n",
              "<table border=\"1\" class=\"dataframe\">\n",
              "  <thead>\n",
              "    <tr style=\"text-align: right;\">\n",
              "      <th></th>\n",
              "      <th>YEAR_OF_CASES</th>\n",
              "      <th>MONTH_OF_CASES</th>\n",
              "      <th>COUNTRY</th>\n",
              "      <th>WHO_REGION</th>\n",
              "      <th>NEW_CASES</th>\n",
              "      <th>NEW_DEATHS</th>\n",
              "    </tr>\n",
              "  </thead>\n",
              "  <tbody>\n",
              "    <tr>\n",
              "      <th>940</th>\n",
              "      <td>2020</td>\n",
              "      <td>1</td>\n",
              "      <td>South Africa</td>\n",
              "      <td>AFRO</td>\n",
              "      <td>0</td>\n",
              "      <td>0</td>\n",
              "    </tr>\n",
              "    <tr>\n",
              "      <th>941</th>\n",
              "      <td>2020</td>\n",
              "      <td>2</td>\n",
              "      <td>South Africa</td>\n",
              "      <td>AFRO</td>\n",
              "      <td>0</td>\n",
              "      <td>0</td>\n",
              "    </tr>\n",
              "    <tr>\n",
              "      <th>942</th>\n",
              "      <td>2020</td>\n",
              "      <td>3</td>\n",
              "      <td>South Africa</td>\n",
              "      <td>AFRO</td>\n",
              "      <td>1326</td>\n",
              "      <td>3</td>\n",
              "    </tr>\n",
              "    <tr>\n",
              "      <th>943</th>\n",
              "      <td>2020</td>\n",
              "      <td>4</td>\n",
              "      <td>South Africa</td>\n",
              "      <td>AFRO</td>\n",
              "      <td>4024</td>\n",
              "      <td>100</td>\n",
              "    </tr>\n",
              "    <tr>\n",
              "      <th>944</th>\n",
              "      <td>2020</td>\n",
              "      <td>5</td>\n",
              "      <td>South Africa</td>\n",
              "      <td>AFRO</td>\n",
              "      <td>25617</td>\n",
              "      <td>540</td>\n",
              "    </tr>\n",
              "    <tr>\n",
              "      <th>...</th>\n",
              "      <td>...</td>\n",
              "      <td>...</td>\n",
              "      <td>...</td>\n",
              "      <td>...</td>\n",
              "      <td>...</td>\n",
              "      <td>...</td>\n",
              "    </tr>\n",
              "    <tr>\n",
              "      <th>4515</th>\n",
              "      <td>2021</td>\n",
              "      <td>4</td>\n",
              "      <td>Philippines</td>\n",
              "      <td>WPRO</td>\n",
              "      <td>287552</td>\n",
              "      <td>3954</td>\n",
              "    </tr>\n",
              "    <tr>\n",
              "      <th>4516</th>\n",
              "      <td>2021</td>\n",
              "      <td>5</td>\n",
              "      <td>Philippines</td>\n",
              "      <td>WPRO</td>\n",
              "      <td>194905</td>\n",
              "      <td>3715</td>\n",
              "    </tr>\n",
              "    <tr>\n",
              "      <th>4517</th>\n",
              "      <td>2021</td>\n",
              "      <td>6</td>\n",
              "      <td>Philippines</td>\n",
              "      <td>WPRO</td>\n",
              "      <td>184433</td>\n",
              "      <td>3697</td>\n",
              "    </tr>\n",
              "    <tr>\n",
              "      <th>4518</th>\n",
              "      <td>2021</td>\n",
              "      <td>7</td>\n",
              "      <td>Philippines</td>\n",
              "      <td>WPRO</td>\n",
              "      <td>172768</td>\n",
              "      <td>3165</td>\n",
              "    </tr>\n",
              "    <tr>\n",
              "      <th>4519</th>\n",
              "      <td>2021</td>\n",
              "      <td>8</td>\n",
              "      <td>Philippines</td>\n",
              "      <td>WPRO</td>\n",
              "      <td>302270</td>\n",
              "      <td>4770</td>\n",
              "    </tr>\n",
              "  </tbody>\n",
              "</table>\n",
              "<p>700 rows × 6 columns</p>\n",
              "</div>"
            ],
            "text/plain": [
              "     YEAR_OF_CASES MONTH_OF_CASES  ... NEW_CASES NEW_DEATHS\n",
              "940           2020              1  ...         0          0\n",
              "941           2020              2  ...         0          0\n",
              "942           2020              3  ...      1326          3\n",
              "943           2020              4  ...      4024        100\n",
              "944           2020              5  ...     25617        540\n",
              "...            ...            ...  ...       ...        ...\n",
              "4515          2021              4  ...    287552       3954\n",
              "4516          2021              5  ...    194905       3715\n",
              "4517          2021              6  ...    184433       3697\n",
              "4518          2021              7  ...    172768       3165\n",
              "4519          2021              8  ...    302270       4770\n",
              "\n",
              "[700 rows x 6 columns]"
            ]
          },
          "metadata": {},
          "execution_count": 56
        }
      ]
    },
    {
      "cell_type": "code",
      "metadata": {
        "colab": {
          "base_uri": "https://localhost:8080/",
          "height": 417
        },
        "id": "EGt8XobXC9S0",
        "outputId": "84791d6c-bba1-4e2c-cc7b-2d2a802121dd"
      },
      "source": [
        "df_new_set = df_new_set.loc[(df_new_set['NEW_CASES'] > 0) & (df_new_set['NEW_DEATHS'] > 0)]\n",
        "df_new_set"
      ],
      "execution_count": null,
      "outputs": [
        {
          "output_type": "execute_result",
          "data": {
            "text/html": [
              "<div>\n",
              "<style scoped>\n",
              "    .dataframe tbody tr th:only-of-type {\n",
              "        vertical-align: middle;\n",
              "    }\n",
              "\n",
              "    .dataframe tbody tr th {\n",
              "        vertical-align: top;\n",
              "    }\n",
              "\n",
              "    .dataframe thead th {\n",
              "        text-align: right;\n",
              "    }\n",
              "</style>\n",
              "<table border=\"1\" class=\"dataframe\">\n",
              "  <thead>\n",
              "    <tr style=\"text-align: right;\">\n",
              "      <th></th>\n",
              "      <th>YEAR_OF_CASES</th>\n",
              "      <th>MONTH_OF_CASES</th>\n",
              "      <th>COUNTRY</th>\n",
              "      <th>WHO_REGION</th>\n",
              "      <th>NEW_CASES</th>\n",
              "      <th>NEW_DEATHS</th>\n",
              "    </tr>\n",
              "  </thead>\n",
              "  <tbody>\n",
              "    <tr>\n",
              "      <th>942</th>\n",
              "      <td>2020</td>\n",
              "      <td>3</td>\n",
              "      <td>South Africa</td>\n",
              "      <td>AFRO</td>\n",
              "      <td>1326</td>\n",
              "      <td>3</td>\n",
              "    </tr>\n",
              "    <tr>\n",
              "      <th>943</th>\n",
              "      <td>2020</td>\n",
              "      <td>4</td>\n",
              "      <td>South Africa</td>\n",
              "      <td>AFRO</td>\n",
              "      <td>4024</td>\n",
              "      <td>100</td>\n",
              "    </tr>\n",
              "    <tr>\n",
              "      <th>944</th>\n",
              "      <td>2020</td>\n",
              "      <td>5</td>\n",
              "      <td>South Africa</td>\n",
              "      <td>AFRO</td>\n",
              "      <td>25617</td>\n",
              "      <td>540</td>\n",
              "    </tr>\n",
              "    <tr>\n",
              "      <th>945</th>\n",
              "      <td>2020</td>\n",
              "      <td>6</td>\n",
              "      <td>South Africa</td>\n",
              "      <td>AFRO</td>\n",
              "      <td>113297</td>\n",
              "      <td>1886</td>\n",
              "    </tr>\n",
              "    <tr>\n",
              "      <th>946</th>\n",
              "      <td>2020</td>\n",
              "      <td>7</td>\n",
              "      <td>South Africa</td>\n",
              "      <td>AFRO</td>\n",
              "      <td>337905</td>\n",
              "      <td>5283</td>\n",
              "    </tr>\n",
              "    <tr>\n",
              "      <th>...</th>\n",
              "      <td>...</td>\n",
              "      <td>...</td>\n",
              "      <td>...</td>\n",
              "      <td>...</td>\n",
              "      <td>...</td>\n",
              "      <td>...</td>\n",
              "    </tr>\n",
              "    <tr>\n",
              "      <th>4515</th>\n",
              "      <td>2021</td>\n",
              "      <td>4</td>\n",
              "      <td>Philippines</td>\n",
              "      <td>WPRO</td>\n",
              "      <td>287552</td>\n",
              "      <td>3954</td>\n",
              "    </tr>\n",
              "    <tr>\n",
              "      <th>4516</th>\n",
              "      <td>2021</td>\n",
              "      <td>5</td>\n",
              "      <td>Philippines</td>\n",
              "      <td>WPRO</td>\n",
              "      <td>194905</td>\n",
              "      <td>3715</td>\n",
              "    </tr>\n",
              "    <tr>\n",
              "      <th>4517</th>\n",
              "      <td>2021</td>\n",
              "      <td>6</td>\n",
              "      <td>Philippines</td>\n",
              "      <td>WPRO</td>\n",
              "      <td>184433</td>\n",
              "      <td>3697</td>\n",
              "    </tr>\n",
              "    <tr>\n",
              "      <th>4518</th>\n",
              "      <td>2021</td>\n",
              "      <td>7</td>\n",
              "      <td>Philippines</td>\n",
              "      <td>WPRO</td>\n",
              "      <td>172768</td>\n",
              "      <td>3165</td>\n",
              "    </tr>\n",
              "    <tr>\n",
              "      <th>4519</th>\n",
              "      <td>2021</td>\n",
              "      <td>8</td>\n",
              "      <td>Philippines</td>\n",
              "      <td>WPRO</td>\n",
              "      <td>302270</td>\n",
              "      <td>4770</td>\n",
              "    </tr>\n",
              "  </tbody>\n",
              "</table>\n",
              "<p>634 rows × 6 columns</p>\n",
              "</div>"
            ],
            "text/plain": [
              "     YEAR_OF_CASES MONTH_OF_CASES  ... NEW_CASES NEW_DEATHS\n",
              "942           2020              3  ...      1326          3\n",
              "943           2020              4  ...      4024        100\n",
              "944           2020              5  ...     25617        540\n",
              "945           2020              6  ...    113297       1886\n",
              "946           2020              7  ...    337905       5283\n",
              "...            ...            ...  ...       ...        ...\n",
              "4515          2021              4  ...    287552       3954\n",
              "4516          2021              5  ...    194905       3715\n",
              "4517          2021              6  ...    184433       3697\n",
              "4518          2021              7  ...    172768       3165\n",
              "4519          2021              8  ...    302270       4770\n",
              "\n",
              "[634 rows x 6 columns]"
            ]
          },
          "metadata": {},
          "execution_count": 61
        }
      ]
    },
    {
      "cell_type": "code",
      "metadata": {
        "colab": {
          "base_uri": "https://localhost:8080/",
          "height": 280
        },
        "id": "WRilPOHcbtB6",
        "outputId": "57af8780-8e6b-45be-fb6e-7417975f36f6"
      },
      "source": [
        "df_new_set.plot(kind = 'scatter', x = 'NEW_CASES', y = 'NEW_DEATHS')\n",
        "plt.show()"
      ],
      "execution_count": null,
      "outputs": [
        {
          "output_type": "display_data",
          "data": {
            "image/png": "[encoded data removed]",
            "text/plain": [
              "<Figure size 432x288 with 1 Axes>"
            ]
          },
          "metadata": {
            "needs_background": "light"
          }
        }
      ]
    },
    {
      "cell_type": "code",
      "metadata": {
        "colab": {
          "base_uri": "https://localhost:8080/"
        },
        "id": "DjQ2YVSDek-z",
        "outputId": "7bff7141-69d9-4c52-bf5a-1902df0bf3bb"
      },
      "source": [
        "df_new_set['NEW_CASES'].corr(df_new_set['NEW_DEATHS'])"
      ],
      "execution_count": null,
      "outputs": [
        {
          "output_type": "execute_result",
          "data": {
            "text/plain": [
              "0.8229626179297239"
            ]
          },
          "metadata": {},
          "execution_count": 67
        }
      ]
    },
    {
      "cell_type": "code",
      "metadata": {
        "id": "akE01Z_JDH4h"
      },
      "source": [
        "df_new_set.to_csv(\"Covid_shortlisted\")"
      ],
      "execution_count": null,
      "outputs": []
    },
    {
      "cell_type": "markdown",
      "metadata": {
        "id": "D_LfxVKycUE-"
      },
      "source": [
        "We used PowerBI for the visualization of the data that we extracted in \"Covid_shortlisted.csv\" file. Below is the image of the report that we created."
      ]
    },
    {
      "cell_type": "markdown",
      "metadata": {
        "id": "z9hvMHWybnoq"
      },
      "source": [
        "![image.png](data:image/png;base64,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)"
      ]
    },
    {
      "cell_type": "code",
      "metadata": {
        "id": "AyZVoirecNYc"
      },
      "source": [
        ""
      ],
      "execution_count": null,
      "outputs": []
    }
  ]
}